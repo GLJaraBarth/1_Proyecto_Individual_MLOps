{
 "cells": [
  {
   "cell_type": "markdown",
   "metadata": {},
   "source": [
    "# PROYECTO INDIVIDUAL Nº1"
   ]
  },
  {
   "cell_type": "markdown",
   "metadata": {},
   "source": [
    "***Machine Learning Operations (MLOps)***"
   ]
  },
  {
   "cell_type": "markdown",
   "metadata": {},
   "source": [
    "**Proceso EDA**"
   ]
  },
  {
   "cell_type": "markdown",
   "metadata": {},
   "source": [
    "**1 - Importación de librerías**"
   ]
  },
  {
   "cell_type": "code",
   "execution_count": 3019,
   "metadata": {},
   "outputs": [],
   "source": [
    "import pandas as pd\n",
    "import numpy as np\n",
    "import ast\n",
    "import pyarrow as pa\n",
    "import pyarrow.parquet as pq\n",
    "import datetime\n",
    "import seaborn as sns\n",
    "import matplotlib.pyplot as plt\n",
    "from sklearn.preprocessing import LabelEncoder"
   ]
  },
  {
   "cell_type": "markdown",
   "metadata": {},
   "source": [
    "**2 - Lectura del archivo PARQUET y creación del Data Frame**"
   ]
  },
  {
   "cell_type": "code",
   "execution_count": 3020,
   "metadata": {},
   "outputs": [],
   "source": [
    "df0= pd.read_parquet('steam_games.parquet') # Lectura del archivo Parquet en un DataFrame de pandas - df0 data frame del proyecto (Rev. 0)"
   ]
  },
  {
   "cell_type": "markdown",
   "metadata": {},
   "source": [
    "2.a - Consulta de las características de Data Frame"
   ]
  },
  {
   "cell_type": "code",
   "execution_count": 3021,
   "metadata": {},
   "outputs": [
    {
     "data": {
      "text/plain": [
       "(324469, 10)"
      ]
     },
     "execution_count": 3021,
     "metadata": {},
     "output_type": "execute_result"
    }
   ],
   "source": [
    "df0.shape    #Consulta de las características de dataset. Tiene 324469 registros y 10 campos"
   ]
  },
  {
   "cell_type": "code",
   "execution_count": 3022,
   "metadata": {},
   "outputs": [
    {
     "data": {
      "text/html": [
       "<div>\n",
       "<style scoped>\n",
       "    .dataframe tbody tr th:only-of-type {\n",
       "        vertical-align: middle;\n",
       "    }\n",
       "\n",
       "    .dataframe tbody tr th {\n",
       "        vertical-align: top;\n",
       "    }\n",
       "\n",
       "    .dataframe thead th {\n",
       "        text-align: right;\n",
       "    }\n",
       "</style>\n",
       "<table border=\"1\" class=\"dataframe\">\n",
       "  <thead>\n",
       "    <tr style=\"text-align: right;\">\n",
       "      <th></th>\n",
       "      <th>genres</th>\n",
       "      <th>app_name</th>\n",
       "      <th>discount_price</th>\n",
       "      <th>specs</th>\n",
       "      <th>price</th>\n",
       "      <th>early_access</th>\n",
       "      <th>sentiment</th>\n",
       "      <th>metascore</th>\n",
       "      <th>release_year</th>\n",
       "      <th>imputacion</th>\n",
       "    </tr>\n",
       "  </thead>\n",
       "  <tbody>\n",
       "    <tr>\n",
       "      <th>0</th>\n",
       "      <td>Action</td>\n",
       "      <td>Lost Summoner Kitty</td>\n",
       "      <td>4.49</td>\n",
       "      <td>Single-player</td>\n",
       "      <td>4.99</td>\n",
       "      <td>False</td>\n",
       "      <td>Sin Datos</td>\n",
       "      <td>NaN</td>\n",
       "      <td>2018</td>\n",
       "      <td>0</td>\n",
       "    </tr>\n",
       "    <tr>\n",
       "      <th>1</th>\n",
       "      <td>Casual</td>\n",
       "      <td>Lost Summoner Kitty</td>\n",
       "      <td>4.49</td>\n",
       "      <td>Single-player</td>\n",
       "      <td>4.99</td>\n",
       "      <td>False</td>\n",
       "      <td>Sin Datos</td>\n",
       "      <td>NaN</td>\n",
       "      <td>2018</td>\n",
       "      <td>0</td>\n",
       "    </tr>\n",
       "    <tr>\n",
       "      <th>2</th>\n",
       "      <td>Indie</td>\n",
       "      <td>Lost Summoner Kitty</td>\n",
       "      <td>4.49</td>\n",
       "      <td>Single-player</td>\n",
       "      <td>4.99</td>\n",
       "      <td>False</td>\n",
       "      <td>Sin Datos</td>\n",
       "      <td>NaN</td>\n",
       "      <td>2018</td>\n",
       "      <td>0</td>\n",
       "    </tr>\n",
       "    <tr>\n",
       "      <th>3</th>\n",
       "      <td>Simulation</td>\n",
       "      <td>Lost Summoner Kitty</td>\n",
       "      <td>4.49</td>\n",
       "      <td>Single-player</td>\n",
       "      <td>4.99</td>\n",
       "      <td>False</td>\n",
       "      <td>Sin Datos</td>\n",
       "      <td>NaN</td>\n",
       "      <td>2018</td>\n",
       "      <td>0</td>\n",
       "    </tr>\n",
       "    <tr>\n",
       "      <th>4</th>\n",
       "      <td>Strategy</td>\n",
       "      <td>Lost Summoner Kitty</td>\n",
       "      <td>4.49</td>\n",
       "      <td>Single-player</td>\n",
       "      <td>4.99</td>\n",
       "      <td>False</td>\n",
       "      <td>Sin Datos</td>\n",
       "      <td>NaN</td>\n",
       "      <td>2018</td>\n",
       "      <td>0</td>\n",
       "    </tr>\n",
       "    <tr>\n",
       "      <th>5</th>\n",
       "      <td>Free to Play</td>\n",
       "      <td>Ironbound</td>\n",
       "      <td>NaN</td>\n",
       "      <td>Single-player</td>\n",
       "      <td>NaN</td>\n",
       "      <td>False</td>\n",
       "      <td>Mostly Positive</td>\n",
       "      <td>NaN</td>\n",
       "      <td>2018</td>\n",
       "      <td>0</td>\n",
       "    </tr>\n",
       "    <tr>\n",
       "      <th>6</th>\n",
       "      <td>Free to Play</td>\n",
       "      <td>Ironbound</td>\n",
       "      <td>NaN</td>\n",
       "      <td>Multi-player</td>\n",
       "      <td>NaN</td>\n",
       "      <td>False</td>\n",
       "      <td>Mostly Positive</td>\n",
       "      <td>NaN</td>\n",
       "      <td>2018</td>\n",
       "      <td>0</td>\n",
       "    </tr>\n",
       "    <tr>\n",
       "      <th>7</th>\n",
       "      <td>Free to Play</td>\n",
       "      <td>Ironbound</td>\n",
       "      <td>NaN</td>\n",
       "      <td>Online Multi-Player</td>\n",
       "      <td>NaN</td>\n",
       "      <td>False</td>\n",
       "      <td>Mostly Positive</td>\n",
       "      <td>NaN</td>\n",
       "      <td>2018</td>\n",
       "      <td>0</td>\n",
       "    </tr>\n",
       "    <tr>\n",
       "      <th>8</th>\n",
       "      <td>Free to Play</td>\n",
       "      <td>Ironbound</td>\n",
       "      <td>NaN</td>\n",
       "      <td>Cross-Platform Multiplayer</td>\n",
       "      <td>NaN</td>\n",
       "      <td>False</td>\n",
       "      <td>Mostly Positive</td>\n",
       "      <td>NaN</td>\n",
       "      <td>2018</td>\n",
       "      <td>0</td>\n",
       "    </tr>\n",
       "    <tr>\n",
       "      <th>9</th>\n",
       "      <td>Free to Play</td>\n",
       "      <td>Ironbound</td>\n",
       "      <td>NaN</td>\n",
       "      <td>Steam Achievements</td>\n",
       "      <td>NaN</td>\n",
       "      <td>False</td>\n",
       "      <td>Mostly Positive</td>\n",
       "      <td>NaN</td>\n",
       "      <td>2018</td>\n",
       "      <td>0</td>\n",
       "    </tr>\n",
       "  </tbody>\n",
       "</table>\n",
       "</div>"
      ],
      "text/plain": [
       "         genres             app_name  discount_price  \\\n",
       "0        Action  Lost Summoner Kitty            4.49   \n",
       "1        Casual  Lost Summoner Kitty            4.49   \n",
       "2         Indie  Lost Summoner Kitty            4.49   \n",
       "3    Simulation  Lost Summoner Kitty            4.49   \n",
       "4      Strategy  Lost Summoner Kitty            4.49   \n",
       "5  Free to Play            Ironbound             NaN   \n",
       "6  Free to Play            Ironbound             NaN   \n",
       "7  Free to Play            Ironbound             NaN   \n",
       "8  Free to Play            Ironbound             NaN   \n",
       "9  Free to Play            Ironbound             NaN   \n",
       "\n",
       "                        specs  price  early_access        sentiment  \\\n",
       "0               Single-player   4.99         False        Sin Datos   \n",
       "1               Single-player   4.99         False        Sin Datos   \n",
       "2               Single-player   4.99         False        Sin Datos   \n",
       "3               Single-player   4.99         False        Sin Datos   \n",
       "4               Single-player   4.99         False        Sin Datos   \n",
       "5               Single-player    NaN         False  Mostly Positive   \n",
       "6                Multi-player    NaN         False  Mostly Positive   \n",
       "7         Online Multi-Player    NaN         False  Mostly Positive   \n",
       "8  Cross-Platform Multiplayer    NaN         False  Mostly Positive   \n",
       "9          Steam Achievements    NaN         False  Mostly Positive   \n",
       "\n",
       "   metascore  release_year  imputacion  \n",
       "0        NaN          2018           0  \n",
       "1        NaN          2018           0  \n",
       "2        NaN          2018           0  \n",
       "3        NaN          2018           0  \n",
       "4        NaN          2018           0  \n",
       "5        NaN          2018           0  \n",
       "6        NaN          2018           0  \n",
       "7        NaN          2018           0  \n",
       "8        NaN          2018           0  \n",
       "9        NaN          2018           0  "
      ]
     },
     "execution_count": 3022,
     "metadata": {},
     "output_type": "execute_result"
    }
   ],
   "source": [
    "df0.head(10)   #Consulta de la estructura del dataset"
   ]
  },
  {
   "cell_type": "code",
   "execution_count": 3023,
   "metadata": {},
   "outputs": [
    {
     "data": {
      "text/html": [
       "<div>\n",
       "<style scoped>\n",
       "    .dataframe tbody tr th:only-of-type {\n",
       "        vertical-align: middle;\n",
       "    }\n",
       "\n",
       "    .dataframe tbody tr th {\n",
       "        vertical-align: top;\n",
       "    }\n",
       "\n",
       "    .dataframe thead th {\n",
       "        text-align: right;\n",
       "    }\n",
       "</style>\n",
       "<table border=\"1\" class=\"dataframe\">\n",
       "  <thead>\n",
       "    <tr style=\"text-align: right;\">\n",
       "      <th></th>\n",
       "      <th>genres</th>\n",
       "      <th>app_name</th>\n",
       "      <th>discount_price</th>\n",
       "      <th>specs</th>\n",
       "      <th>price</th>\n",
       "      <th>early_access</th>\n",
       "      <th>sentiment</th>\n",
       "      <th>metascore</th>\n",
       "      <th>release_year</th>\n",
       "      <th>imputacion</th>\n",
       "    </tr>\n",
       "  </thead>\n",
       "  <tbody>\n",
       "    <tr>\n",
       "      <th>324464</th>\n",
       "      <td>Design &amp; Illustration</td>\n",
       "      <td>Robotpencil Presents: Creative Composition</td>\n",
       "      <td>NaN</td>\n",
       "      <td>Sin Datos</td>\n",
       "      <td>3.99</td>\n",
       "      <td>False</td>\n",
       "      <td>Sin Datos</td>\n",
       "      <td>NaN</td>\n",
       "      <td>2018</td>\n",
       "      <td>1</td>\n",
       "    </tr>\n",
       "    <tr>\n",
       "      <th>324465</th>\n",
       "      <td>Sin Datos</td>\n",
       "      <td>Robotpencil Presents: Creative Composition</td>\n",
       "      <td>NaN</td>\n",
       "      <td>Sin Datos</td>\n",
       "      <td>3.99</td>\n",
       "      <td>False</td>\n",
       "      <td>Sin Datos</td>\n",
       "      <td>NaN</td>\n",
       "      <td>2018</td>\n",
       "      <td>1</td>\n",
       "    </tr>\n",
       "    <tr>\n",
       "      <th>324466</th>\n",
       "      <td>Sin Datos</td>\n",
       "      <td>The Gamble House</td>\n",
       "      <td>NaN</td>\n",
       "      <td>Captions available</td>\n",
       "      <td>4.99</td>\n",
       "      <td>False</td>\n",
       "      <td>Sin Datos</td>\n",
       "      <td>NaN</td>\n",
       "      <td>2016</td>\n",
       "      <td>1</td>\n",
       "    </tr>\n",
       "    <tr>\n",
       "      <th>324467</th>\n",
       "      <td>Design &amp; Illustration</td>\n",
       "      <td>Kalen Chock Presents: 2017 Free Tutorial</td>\n",
       "      <td>NaN</td>\n",
       "      <td>Sin Datos</td>\n",
       "      <td>NaN</td>\n",
       "      <td>False</td>\n",
       "      <td>Sin Datos</td>\n",
       "      <td>NaN</td>\n",
       "      <td>2018</td>\n",
       "      <td>1</td>\n",
       "    </tr>\n",
       "    <tr>\n",
       "      <th>324468</th>\n",
       "      <td>Sin Datos</td>\n",
       "      <td>Kalen Chock Presents: 2017 Free Tutorial</td>\n",
       "      <td>NaN</td>\n",
       "      <td>Sin Datos</td>\n",
       "      <td>NaN</td>\n",
       "      <td>False</td>\n",
       "      <td>Sin Datos</td>\n",
       "      <td>NaN</td>\n",
       "      <td>2018</td>\n",
       "      <td>1</td>\n",
       "    </tr>\n",
       "  </tbody>\n",
       "</table>\n",
       "</div>"
      ],
      "text/plain": [
       "                       genres                                    app_name  \\\n",
       "324464  Design & Illustration  Robotpencil Presents: Creative Composition   \n",
       "324465              Sin Datos  Robotpencil Presents: Creative Composition   \n",
       "324466              Sin Datos                            The Gamble House   \n",
       "324467  Design & Illustration    Kalen Chock Presents: 2017 Free Tutorial   \n",
       "324468              Sin Datos    Kalen Chock Presents: 2017 Free Tutorial   \n",
       "\n",
       "        discount_price               specs  price  early_access  sentiment  \\\n",
       "324464             NaN           Sin Datos   3.99         False  Sin Datos   \n",
       "324465             NaN           Sin Datos   3.99         False  Sin Datos   \n",
       "324466             NaN  Captions available   4.99         False  Sin Datos   \n",
       "324467             NaN           Sin Datos    NaN         False  Sin Datos   \n",
       "324468             NaN           Sin Datos    NaN         False  Sin Datos   \n",
       "\n",
       "        metascore  release_year  imputacion  \n",
       "324464        NaN          2018           1  \n",
       "324465        NaN          2018           1  \n",
       "324466        NaN          2016           1  \n",
       "324467        NaN          2018           1  \n",
       "324468        NaN          2018           1  "
      ]
     },
     "execution_count": 3023,
     "metadata": {},
     "output_type": "execute_result"
    }
   ],
   "source": [
    "df0.tail()"
   ]
  },
  {
   "cell_type": "markdown",
   "metadata": {},
   "source": [
    "2.b – Consulta de las cantidades de registros por campos y tipos de datos"
   ]
  },
  {
   "cell_type": "code",
   "execution_count": 3024,
   "metadata": {},
   "outputs": [
    {
     "name": "stdout",
     "output_type": "stream",
     "text": [
      "<class 'pandas.core.frame.DataFrame'>\n",
      "RangeIndex: 324469 entries, 0 to 324468\n",
      "Data columns (total 10 columns):\n",
      " #   Column          Non-Null Count   Dtype  \n",
      "---  ------          --------------   -----  \n",
      " 0   genres          324469 non-null  object \n",
      " 1   app_name        324469 non-null  object \n",
      " 2   discount_price  2701 non-null    float64\n",
      " 3   specs           324469 non-null  object \n",
      " 4   price           292012 non-null  float64\n",
      " 5   early_access    324469 non-null  bool   \n",
      " 6   sentiment       324469 non-null  object \n",
      " 7   metascore       25616 non-null   float64\n",
      " 8   release_year    324469 non-null  int64  \n",
      " 9   imputacion      324469 non-null  int32  \n",
      "dtypes: bool(1), float64(3), int32(1), int64(1), object(4)\n",
      "memory usage: 21.4+ MB\n"
     ]
    }
   ],
   "source": [
    "df0.info() #Consulta de las cantidades de registros por campos y tipos de datos"
   ]
  },
  {
   "cell_type": "markdown",
   "metadata": {},
   "source": [
    "2.c-Consulta de cantidad de nulos por campo"
   ]
  },
  {
   "cell_type": "code",
   "execution_count": 3025,
   "metadata": {},
   "outputs": [
    {
     "data": {
      "text/plain": [
       "genres                 0\n",
       "app_name               0\n",
       "discount_price    321768\n",
       "specs                  0\n",
       "price              32457\n",
       "early_access           0\n",
       "sentiment              0\n",
       "metascore         298853\n",
       "release_year           0\n",
       "imputacion             0\n",
       "dtype: int64"
      ]
     },
     "execution_count": 3025,
     "metadata": {},
     "output_type": "execute_result"
    }
   ],
   "source": [
    "df0.isna().sum() #Consulta de nulos por campo"
   ]
  },
  {
   "cell_type": "markdown",
   "metadata": {},
   "source": [
    "**3 - identificación de features importantes**"
   ]
  },
  {
   "cell_type": "markdown",
   "metadata": {},
   "source": [
    "1) genres - Variable cualitativa categórica nominal - Requerida para el proyecto\n"
   ]
  },
  {
   "cell_type": "markdown",
   "metadata": {},
   "source": [
    "2) app_name - Variable cualitativa categórica nominal - Irrelevante para el proyecto"
   ]
  },
  {
   "cell_type": "markdown",
   "metadata": {},
   "source": [
    "3) discount_price - Variable cuantitativa continua - Debe verificarse la correlación con la variable price"
   ]
  },
  {
   "cell_type": "markdown",
   "metadata": {},
   "source": [
    "4) specs - Variable cualitativa categórica nominal - Evaluar para el proyecto"
   ]
  },
  {
   "cell_type": "markdown",
   "metadata": {},
   "source": [
    "5) price - Variable cuantitativa continua - Requerida para el proyecto"
   ]
  },
  {
   "cell_type": "markdown",
   "metadata": {},
   "source": [
    "6) early_accesss - Variable booleana - Requerida para el proyecto"
   ]
  },
  {
   "cell_type": "markdown",
   "metadata": {},
   "source": [
    "7) sentiment - Variable cualitativa categórica ordinal - Evaluar para el proyecto"
   ]
  },
  {
   "cell_type": "markdown",
   "metadata": {},
   "source": [
    "8) metascore - Variable cuantitativa continua - Evaluar para el proyecto"
   ]
  },
  {
   "cell_type": "markdown",
   "metadata": {},
   "source": [
    "9) release_year - Variable cuantitativa discreta - Evaluar para el proyecto"
   ]
  },
  {
   "cell_type": "markdown",
   "metadata": {},
   "source": [
    "10) imputacion - Variable booleana - Irrelevante para el proyecto"
   ]
  },
  {
   "cell_type": "markdown",
   "metadata": {},
   "source": [
    "3.a - Eliminación de variables consideradas irrelevantes y/o redundantes"
   ]
  },
  {
   "cell_type": "code",
   "execution_count": 3026,
   "metadata": {},
   "outputs": [],
   "source": [
    "columnas_a_eliminar = ['imputacion']\n",
    "df0.drop(columns=columnas_a_eliminar, inplace=True)  #Las columnas app_name e imputación se eliminan por irrelevantes para el análisis"
   ]
  },
  {
   "cell_type": "markdown",
   "metadata": {},
   "source": [
    "3.b - Eliminación de nulos de la columns price. Como es nuestra etiqueta, los valores nulos no nos servirán para el proyecto"
   ]
  },
  {
   "cell_type": "code",
   "execution_count": 3027,
   "metadata": {},
   "outputs": [],
   "source": [
    "df0.dropna(subset='price', inplace=True) #Eliminación de nulos de la columna price 32457 en total"
   ]
  },
  {
   "cell_type": "code",
   "execution_count": 3028,
   "metadata": {},
   "outputs": [
    {
     "data": {
      "text/html": [
       "<div>\n",
       "<style scoped>\n",
       "    .dataframe tbody tr th:only-of-type {\n",
       "        vertical-align: middle;\n",
       "    }\n",
       "\n",
       "    .dataframe tbody tr th {\n",
       "        vertical-align: top;\n",
       "    }\n",
       "\n",
       "    .dataframe thead th {\n",
       "        text-align: right;\n",
       "    }\n",
       "</style>\n",
       "<table border=\"1\" class=\"dataframe\">\n",
       "  <thead>\n",
       "    <tr style=\"text-align: right;\">\n",
       "      <th></th>\n",
       "      <th>genres</th>\n",
       "      <th>app_name</th>\n",
       "      <th>discount_price</th>\n",
       "      <th>specs</th>\n",
       "      <th>price</th>\n",
       "      <th>early_access</th>\n",
       "      <th>sentiment</th>\n",
       "      <th>metascore</th>\n",
       "      <th>release_year</th>\n",
       "    </tr>\n",
       "  </thead>\n",
       "  <tbody>\n",
       "    <tr>\n",
       "      <th>0</th>\n",
       "      <td>Action</td>\n",
       "      <td>Lost Summoner Kitty</td>\n",
       "      <td>4.49</td>\n",
       "      <td>Single-player</td>\n",
       "      <td>4.99</td>\n",
       "      <td>False</td>\n",
       "      <td>Sin Datos</td>\n",
       "      <td>NaN</td>\n",
       "      <td>2018</td>\n",
       "    </tr>\n",
       "    <tr>\n",
       "      <th>1</th>\n",
       "      <td>Casual</td>\n",
       "      <td>Lost Summoner Kitty</td>\n",
       "      <td>4.49</td>\n",
       "      <td>Single-player</td>\n",
       "      <td>4.99</td>\n",
       "      <td>False</td>\n",
       "      <td>Sin Datos</td>\n",
       "      <td>NaN</td>\n",
       "      <td>2018</td>\n",
       "    </tr>\n",
       "    <tr>\n",
       "      <th>2</th>\n",
       "      <td>Indie</td>\n",
       "      <td>Lost Summoner Kitty</td>\n",
       "      <td>4.49</td>\n",
       "      <td>Single-player</td>\n",
       "      <td>4.99</td>\n",
       "      <td>False</td>\n",
       "      <td>Sin Datos</td>\n",
       "      <td>NaN</td>\n",
       "      <td>2018</td>\n",
       "    </tr>\n",
       "    <tr>\n",
       "      <th>3</th>\n",
       "      <td>Simulation</td>\n",
       "      <td>Lost Summoner Kitty</td>\n",
       "      <td>4.49</td>\n",
       "      <td>Single-player</td>\n",
       "      <td>4.99</td>\n",
       "      <td>False</td>\n",
       "      <td>Sin Datos</td>\n",
       "      <td>NaN</td>\n",
       "      <td>2018</td>\n",
       "    </tr>\n",
       "    <tr>\n",
       "      <th>4</th>\n",
       "      <td>Strategy</td>\n",
       "      <td>Lost Summoner Kitty</td>\n",
       "      <td>4.49</td>\n",
       "      <td>Single-player</td>\n",
       "      <td>4.99</td>\n",
       "      <td>False</td>\n",
       "      <td>Sin Datos</td>\n",
       "      <td>NaN</td>\n",
       "      <td>2018</td>\n",
       "    </tr>\n",
       "    <tr>\n",
       "      <th>58</th>\n",
       "      <td>Action</td>\n",
       "      <td>弹炸人2222</td>\n",
       "      <td>0.83</td>\n",
       "      <td>Single-player</td>\n",
       "      <td>0.99</td>\n",
       "      <td>False</td>\n",
       "      <td>Sin Datos</td>\n",
       "      <td>NaN</td>\n",
       "      <td>2017</td>\n",
       "    </tr>\n",
       "    <tr>\n",
       "      <th>59</th>\n",
       "      <td>Adventure</td>\n",
       "      <td>弹炸人2222</td>\n",
       "      <td>0.83</td>\n",
       "      <td>Single-player</td>\n",
       "      <td>0.99</td>\n",
       "      <td>False</td>\n",
       "      <td>Sin Datos</td>\n",
       "      <td>NaN</td>\n",
       "      <td>2017</td>\n",
       "    </tr>\n",
       "    <tr>\n",
       "      <th>60</th>\n",
       "      <td>Casual</td>\n",
       "      <td>弹炸人2222</td>\n",
       "      <td>0.83</td>\n",
       "      <td>Single-player</td>\n",
       "      <td>0.99</td>\n",
       "      <td>False</td>\n",
       "      <td>Sin Datos</td>\n",
       "      <td>NaN</td>\n",
       "      <td>2017</td>\n",
       "    </tr>\n",
       "    <tr>\n",
       "      <th>61</th>\n",
       "      <td>Action</td>\n",
       "      <td>Battle Royale Trainer</td>\n",
       "      <td>NaN</td>\n",
       "      <td>Single-player</td>\n",
       "      <td>3.99</td>\n",
       "      <td>False</td>\n",
       "      <td>Mixed</td>\n",
       "      <td>NaN</td>\n",
       "      <td>2018</td>\n",
       "    </tr>\n",
       "    <tr>\n",
       "      <th>62</th>\n",
       "      <td>Action</td>\n",
       "      <td>Battle Royale Trainer</td>\n",
       "      <td>NaN</td>\n",
       "      <td>Steam Achievements</td>\n",
       "      <td>3.99</td>\n",
       "      <td>False</td>\n",
       "      <td>Mixed</td>\n",
       "      <td>NaN</td>\n",
       "      <td>2018</td>\n",
       "    </tr>\n",
       "  </tbody>\n",
       "</table>\n",
       "</div>"
      ],
      "text/plain": [
       "        genres               app_name  discount_price               specs  \\\n",
       "0       Action    Lost Summoner Kitty            4.49       Single-player   \n",
       "1       Casual    Lost Summoner Kitty            4.49       Single-player   \n",
       "2        Indie    Lost Summoner Kitty            4.49       Single-player   \n",
       "3   Simulation    Lost Summoner Kitty            4.49       Single-player   \n",
       "4     Strategy    Lost Summoner Kitty            4.49       Single-player   \n",
       "58      Action                弹炸人2222            0.83       Single-player   \n",
       "59   Adventure                弹炸人2222            0.83       Single-player   \n",
       "60      Casual                弹炸人2222            0.83       Single-player   \n",
       "61      Action  Battle Royale Trainer             NaN       Single-player   \n",
       "62      Action  Battle Royale Trainer             NaN  Steam Achievements   \n",
       "\n",
       "    price  early_access  sentiment  metascore  release_year  \n",
       "0    4.99         False  Sin Datos        NaN          2018  \n",
       "1    4.99         False  Sin Datos        NaN          2018  \n",
       "2    4.99         False  Sin Datos        NaN          2018  \n",
       "3    4.99         False  Sin Datos        NaN          2018  \n",
       "4    4.99         False  Sin Datos        NaN          2018  \n",
       "58   0.99         False  Sin Datos        NaN          2017  \n",
       "59   0.99         False  Sin Datos        NaN          2017  \n",
       "60   0.99         False  Sin Datos        NaN          2017  \n",
       "61   3.99         False      Mixed        NaN          2018  \n",
       "62   3.99         False      Mixed        NaN          2018  "
      ]
     },
     "execution_count": 3028,
     "metadata": {},
     "output_type": "execute_result"
    }
   ],
   "source": [
    "df0.head(10) #Consulta del data frame"
   ]
  },
  {
   "cell_type": "markdown",
   "metadata": {},
   "source": [
    "**4 - Transformaciones**"
   ]
  },
  {
   "cell_type": "markdown",
   "metadata": {},
   "source": [
    "4.a - Creación de la columna años (anios) del juego"
   ]
  },
  {
   "cell_type": "code",
   "execution_count": 3029,
   "metadata": {},
   "outputs": [],
   "source": [
    "fecha_actual = datetime.datetime.now()      #Obtener la fecha actual\n",
    "\n",
    "anio_actual = fecha_actual.year     # Obtener el año actual de la fecha actual"
   ]
  },
  {
   "cell_type": "code",
   "execution_count": 3030,
   "metadata": {},
   "outputs": [],
   "source": [
    "df0['anios'] = anio_actual - df0['release_year']  #Creación de columna calculada anios"
   ]
  },
  {
   "cell_type": "code",
   "execution_count": 3031,
   "metadata": {},
   "outputs": [
    {
     "data": {
      "text/html": [
       "<div>\n",
       "<style scoped>\n",
       "    .dataframe tbody tr th:only-of-type {\n",
       "        vertical-align: middle;\n",
       "    }\n",
       "\n",
       "    .dataframe tbody tr th {\n",
       "        vertical-align: top;\n",
       "    }\n",
       "\n",
       "    .dataframe thead th {\n",
       "        text-align: right;\n",
       "    }\n",
       "</style>\n",
       "<table border=\"1\" class=\"dataframe\">\n",
       "  <thead>\n",
       "    <tr style=\"text-align: right;\">\n",
       "      <th></th>\n",
       "      <th>genres</th>\n",
       "      <th>app_name</th>\n",
       "      <th>discount_price</th>\n",
       "      <th>specs</th>\n",
       "      <th>price</th>\n",
       "      <th>early_access</th>\n",
       "      <th>sentiment</th>\n",
       "      <th>metascore</th>\n",
       "      <th>release_year</th>\n",
       "      <th>anios</th>\n",
       "    </tr>\n",
       "  </thead>\n",
       "  <tbody>\n",
       "    <tr>\n",
       "      <th>0</th>\n",
       "      <td>Action</td>\n",
       "      <td>Lost Summoner Kitty</td>\n",
       "      <td>4.49</td>\n",
       "      <td>Single-player</td>\n",
       "      <td>4.99</td>\n",
       "      <td>False</td>\n",
       "      <td>Sin Datos</td>\n",
       "      <td>NaN</td>\n",
       "      <td>2018</td>\n",
       "      <td>5</td>\n",
       "    </tr>\n",
       "    <tr>\n",
       "      <th>1</th>\n",
       "      <td>Casual</td>\n",
       "      <td>Lost Summoner Kitty</td>\n",
       "      <td>4.49</td>\n",
       "      <td>Single-player</td>\n",
       "      <td>4.99</td>\n",
       "      <td>False</td>\n",
       "      <td>Sin Datos</td>\n",
       "      <td>NaN</td>\n",
       "      <td>2018</td>\n",
       "      <td>5</td>\n",
       "    </tr>\n",
       "    <tr>\n",
       "      <th>2</th>\n",
       "      <td>Indie</td>\n",
       "      <td>Lost Summoner Kitty</td>\n",
       "      <td>4.49</td>\n",
       "      <td>Single-player</td>\n",
       "      <td>4.99</td>\n",
       "      <td>False</td>\n",
       "      <td>Sin Datos</td>\n",
       "      <td>NaN</td>\n",
       "      <td>2018</td>\n",
       "      <td>5</td>\n",
       "    </tr>\n",
       "    <tr>\n",
       "      <th>3</th>\n",
       "      <td>Simulation</td>\n",
       "      <td>Lost Summoner Kitty</td>\n",
       "      <td>4.49</td>\n",
       "      <td>Single-player</td>\n",
       "      <td>4.99</td>\n",
       "      <td>False</td>\n",
       "      <td>Sin Datos</td>\n",
       "      <td>NaN</td>\n",
       "      <td>2018</td>\n",
       "      <td>5</td>\n",
       "    </tr>\n",
       "    <tr>\n",
       "      <th>4</th>\n",
       "      <td>Strategy</td>\n",
       "      <td>Lost Summoner Kitty</td>\n",
       "      <td>4.49</td>\n",
       "      <td>Single-player</td>\n",
       "      <td>4.99</td>\n",
       "      <td>False</td>\n",
       "      <td>Sin Datos</td>\n",
       "      <td>NaN</td>\n",
       "      <td>2018</td>\n",
       "      <td>5</td>\n",
       "    </tr>\n",
       "  </tbody>\n",
       "</table>\n",
       "</div>"
      ],
      "text/plain": [
       "       genres             app_name  discount_price          specs  price  \\\n",
       "0      Action  Lost Summoner Kitty            4.49  Single-player   4.99   \n",
       "1      Casual  Lost Summoner Kitty            4.49  Single-player   4.99   \n",
       "2       Indie  Lost Summoner Kitty            4.49  Single-player   4.99   \n",
       "3  Simulation  Lost Summoner Kitty            4.49  Single-player   4.99   \n",
       "4    Strategy  Lost Summoner Kitty            4.49  Single-player   4.99   \n",
       "\n",
       "   early_access  sentiment  metascore  release_year  anios  \n",
       "0         False  Sin Datos        NaN          2018      5  \n",
       "1         False  Sin Datos        NaN          2018      5  \n",
       "2         False  Sin Datos        NaN          2018      5  \n",
       "3         False  Sin Datos        NaN          2018      5  \n",
       "4         False  Sin Datos        NaN          2018      5  "
      ]
     },
     "execution_count": 3031,
     "metadata": {},
     "output_type": "execute_result"
    }
   ],
   "source": [
    "df0.head()"
   ]
  },
  {
   "cell_type": "markdown",
   "metadata": {},
   "source": [
    "**5 - Estadísticas descriptivas**"
   ]
  },
  {
   "cell_type": "code",
   "execution_count": 3032,
   "metadata": {},
   "outputs": [],
   "source": [
    "df_price = df0.drop_duplicates(subset='app_name') #df_price es un data frame auxiliar"
   ]
  },
  {
   "cell_type": "code",
   "execution_count": 3033,
   "metadata": {},
   "outputs": [
    {
     "data": {
      "text/plain": [
       "(27214, 10)"
      ]
     },
     "execution_count": 3033,
     "metadata": {},
     "output_type": "execute_result"
    }
   ],
   "source": [
    "df_price.shape  #Consulta del data frame"
   ]
  },
  {
   "cell_type": "code",
   "execution_count": 3034,
   "metadata": {},
   "outputs": [
    {
     "data": {
      "text/html": [
       "<div>\n",
       "<style scoped>\n",
       "    .dataframe tbody tr th:only-of-type {\n",
       "        vertical-align: middle;\n",
       "    }\n",
       "\n",
       "    .dataframe tbody tr th {\n",
       "        vertical-align: top;\n",
       "    }\n",
       "\n",
       "    .dataframe thead th {\n",
       "        text-align: right;\n",
       "    }\n",
       "</style>\n",
       "<table border=\"1\" class=\"dataframe\">\n",
       "  <thead>\n",
       "    <tr style=\"text-align: right;\">\n",
       "      <th></th>\n",
       "      <th>genres</th>\n",
       "      <th>app_name</th>\n",
       "      <th>discount_price</th>\n",
       "      <th>specs</th>\n",
       "      <th>price</th>\n",
       "      <th>early_access</th>\n",
       "      <th>sentiment</th>\n",
       "      <th>metascore</th>\n",
       "      <th>release_year</th>\n",
       "      <th>anios</th>\n",
       "    </tr>\n",
       "  </thead>\n",
       "  <tbody>\n",
       "    <tr>\n",
       "      <th>0</th>\n",
       "      <td>Action</td>\n",
       "      <td>Lost Summoner Kitty</td>\n",
       "      <td>4.49</td>\n",
       "      <td>Single-player</td>\n",
       "      <td>4.99</td>\n",
       "      <td>False</td>\n",
       "      <td>Sin Datos</td>\n",
       "      <td>NaN</td>\n",
       "      <td>2018</td>\n",
       "      <td>5</td>\n",
       "    </tr>\n",
       "    <tr>\n",
       "      <th>58</th>\n",
       "      <td>Action</td>\n",
       "      <td>弹炸人2222</td>\n",
       "      <td>0.83</td>\n",
       "      <td>Single-player</td>\n",
       "      <td>0.99</td>\n",
       "      <td>False</td>\n",
       "      <td>Sin Datos</td>\n",
       "      <td>NaN</td>\n",
       "      <td>2017</td>\n",
       "      <td>6</td>\n",
       "    </tr>\n",
       "    <tr>\n",
       "      <th>61</th>\n",
       "      <td>Action</td>\n",
       "      <td>Battle Royale Trainer</td>\n",
       "      <td>NaN</td>\n",
       "      <td>Single-player</td>\n",
       "      <td>3.99</td>\n",
       "      <td>False</td>\n",
       "      <td>Mixed</td>\n",
       "      <td>NaN</td>\n",
       "      <td>2018</td>\n",
       "      <td>5</td>\n",
       "    </tr>\n",
       "    <tr>\n",
       "      <th>67</th>\n",
       "      <td>Free to Play</td>\n",
       "      <td>SNOW - All Access Basic Pass</td>\n",
       "      <td>NaN</td>\n",
       "      <td>Single-player</td>\n",
       "      <td>9.99</td>\n",
       "      <td>False</td>\n",
       "      <td>Sin Datos</td>\n",
       "      <td>NaN</td>\n",
       "      <td>2018</td>\n",
       "      <td>5</td>\n",
       "    </tr>\n",
       "    <tr>\n",
       "      <th>111</th>\n",
       "      <td>Free to Play</td>\n",
       "      <td>SNOW - All Access Pro Pass</td>\n",
       "      <td>NaN</td>\n",
       "      <td>Single-player</td>\n",
       "      <td>18.99</td>\n",
       "      <td>False</td>\n",
       "      <td>Sin Datos</td>\n",
       "      <td>NaN</td>\n",
       "      <td>2018</td>\n",
       "      <td>5</td>\n",
       "    </tr>\n",
       "    <tr>\n",
       "      <th>155</th>\n",
       "      <td>Free to Play</td>\n",
       "      <td>SNOW - All Access Legend Pass</td>\n",
       "      <td>NaN</td>\n",
       "      <td>Single-player</td>\n",
       "      <td>29.99</td>\n",
       "      <td>False</td>\n",
       "      <td>Sin Datos</td>\n",
       "      <td>NaN</td>\n",
       "      <td>2018</td>\n",
       "      <td>5</td>\n",
       "    </tr>\n",
       "    <tr>\n",
       "      <th>211</th>\n",
       "      <td>Action</td>\n",
       "      <td>Army of Tentacles: (Not) A Cthulhu Dating Sim:...</td>\n",
       "      <td>8.79</td>\n",
       "      <td>Single-player</td>\n",
       "      <td>10.99</td>\n",
       "      <td>False</td>\n",
       "      <td>Sin Datos</td>\n",
       "      <td>NaN</td>\n",
       "      <td>2018</td>\n",
       "      <td>5</td>\n",
       "    </tr>\n",
       "    <tr>\n",
       "      <th>221</th>\n",
       "      <td>Casual</td>\n",
       "      <td>Beach Rules</td>\n",
       "      <td>NaN</td>\n",
       "      <td>Single-player</td>\n",
       "      <td>3.99</td>\n",
       "      <td>False</td>\n",
       "      <td>Sin Datos</td>\n",
       "      <td>NaN</td>\n",
       "      <td>2018</td>\n",
       "      <td>5</td>\n",
       "    </tr>\n",
       "    <tr>\n",
       "      <th>223</th>\n",
       "      <td>Casual</td>\n",
       "      <td>Planetarium 2 - Zen Odyssey</td>\n",
       "      <td>NaN</td>\n",
       "      <td>Single-player</td>\n",
       "      <td>2.99</td>\n",
       "      <td>False</td>\n",
       "      <td>Sin Datos</td>\n",
       "      <td>NaN</td>\n",
       "      <td>2018</td>\n",
       "      <td>5</td>\n",
       "    </tr>\n",
       "    <tr>\n",
       "      <th>226</th>\n",
       "      <td>Adventure</td>\n",
       "      <td>The first thrust of God</td>\n",
       "      <td>NaN</td>\n",
       "      <td>Single-player</td>\n",
       "      <td>1.59</td>\n",
       "      <td>False</td>\n",
       "      <td>Sin Datos</td>\n",
       "      <td>NaN</td>\n",
       "      <td>2018</td>\n",
       "      <td>5</td>\n",
       "    </tr>\n",
       "  </tbody>\n",
       "</table>\n",
       "</div>"
      ],
      "text/plain": [
       "           genres                                           app_name  \\\n",
       "0          Action                                Lost Summoner Kitty   \n",
       "58         Action                                            弹炸人2222   \n",
       "61         Action                              Battle Royale Trainer   \n",
       "67   Free to Play                       SNOW - All Access Basic Pass   \n",
       "111  Free to Play                         SNOW - All Access Pro Pass   \n",
       "155  Free to Play                      SNOW - All Access Legend Pass   \n",
       "211        Action  Army of Tentacles: (Not) A Cthulhu Dating Sim:...   \n",
       "221        Casual                                        Beach Rules   \n",
       "223        Casual                        Planetarium 2 - Zen Odyssey   \n",
       "226     Adventure                            The first thrust of God   \n",
       "\n",
       "     discount_price          specs  price  early_access  sentiment  metascore  \\\n",
       "0              4.49  Single-player   4.99         False  Sin Datos        NaN   \n",
       "58             0.83  Single-player   0.99         False  Sin Datos        NaN   \n",
       "61              NaN  Single-player   3.99         False      Mixed        NaN   \n",
       "67              NaN  Single-player   9.99         False  Sin Datos        NaN   \n",
       "111             NaN  Single-player  18.99         False  Sin Datos        NaN   \n",
       "155             NaN  Single-player  29.99         False  Sin Datos        NaN   \n",
       "211            8.79  Single-player  10.99         False  Sin Datos        NaN   \n",
       "221             NaN  Single-player   3.99         False  Sin Datos        NaN   \n",
       "223             NaN  Single-player   2.99         False  Sin Datos        NaN   \n",
       "226             NaN  Single-player   1.59         False  Sin Datos        NaN   \n",
       "\n",
       "     release_year  anios  \n",
       "0            2018      5  \n",
       "58           2017      6  \n",
       "61           2018      5  \n",
       "67           2018      5  \n",
       "111          2018      5  \n",
       "155          2018      5  \n",
       "211          2018      5  \n",
       "221          2018      5  \n",
       "223          2018      5  \n",
       "226          2018      5  "
      ]
     },
     "execution_count": 3034,
     "metadata": {},
     "output_type": "execute_result"
    }
   ],
   "source": [
    "df_price.head(10)   #Consulta del data frame"
   ]
  },
  {
   "cell_type": "code",
   "execution_count": 3035,
   "metadata": {},
   "outputs": [
    {
     "data": {
      "text/html": [
       "<div>\n",
       "<style scoped>\n",
       "    .dataframe tbody tr th:only-of-type {\n",
       "        vertical-align: middle;\n",
       "    }\n",
       "\n",
       "    .dataframe tbody tr th {\n",
       "        vertical-align: top;\n",
       "    }\n",
       "\n",
       "    .dataframe thead th {\n",
       "        text-align: right;\n",
       "    }\n",
       "</style>\n",
       "<table border=\"1\" class=\"dataframe\">\n",
       "  <thead>\n",
       "    <tr style=\"text-align: right;\">\n",
       "      <th></th>\n",
       "      <th>discount_price</th>\n",
       "      <th>price</th>\n",
       "      <th>metascore</th>\n",
       "      <th>release_year</th>\n",
       "      <th>anios</th>\n",
       "    </tr>\n",
       "  </thead>\n",
       "  <tbody>\n",
       "    <tr>\n",
       "      <th>count</th>\n",
       "      <td>138.000000</td>\n",
       "      <td>27214.000000</td>\n",
       "      <td>2452.000000</td>\n",
       "      <td>27214.000000</td>\n",
       "      <td>27214.000000</td>\n",
       "    </tr>\n",
       "    <tr>\n",
       "      <th>mean</th>\n",
       "      <td>4.000942</td>\n",
       "      <td>9.366826</td>\n",
       "      <td>72.219005</td>\n",
       "      <td>2014.721908</td>\n",
       "      <td>8.278092</td>\n",
       "    </tr>\n",
       "    <tr>\n",
       "      <th>std</th>\n",
       "      <td>5.299309</td>\n",
       "      <td>16.465615</td>\n",
       "      <td>10.814851</td>\n",
       "      <td>3.567304</td>\n",
       "      <td>3.567304</td>\n",
       "    </tr>\n",
       "    <tr>\n",
       "      <th>min</th>\n",
       "      <td>0.490000</td>\n",
       "      <td>0.490000</td>\n",
       "      <td>20.000000</td>\n",
       "      <td>1970.000000</td>\n",
       "      <td>2.000000</td>\n",
       "    </tr>\n",
       "    <tr>\n",
       "      <th>25%</th>\n",
       "      <td>0.690000</td>\n",
       "      <td>2.990000</td>\n",
       "      <td>66.000000</td>\n",
       "      <td>2014.000000</td>\n",
       "      <td>6.000000</td>\n",
       "    </tr>\n",
       "    <tr>\n",
       "      <th>50%</th>\n",
       "      <td>1.890000</td>\n",
       "      <td>4.990000</td>\n",
       "      <td>74.000000</td>\n",
       "      <td>2016.000000</td>\n",
       "      <td>7.000000</td>\n",
       "    </tr>\n",
       "    <tr>\n",
       "      <th>75%</th>\n",
       "      <td>4.632500</td>\n",
       "      <td>9.990000</td>\n",
       "      <td>80.000000</td>\n",
       "      <td>2017.000000</td>\n",
       "      <td>9.000000</td>\n",
       "    </tr>\n",
       "    <tr>\n",
       "      <th>max</th>\n",
       "      <td>31.490000</td>\n",
       "      <td>995.000000</td>\n",
       "      <td>96.000000</td>\n",
       "      <td>2021.000000</td>\n",
       "      <td>53.000000</td>\n",
       "    </tr>\n",
       "  </tbody>\n",
       "</table>\n",
       "</div>"
      ],
      "text/plain": [
       "       discount_price         price    metascore  release_year         anios\n",
       "count      138.000000  27214.000000  2452.000000  27214.000000  27214.000000\n",
       "mean         4.000942      9.366826    72.219005   2014.721908      8.278092\n",
       "std          5.299309     16.465615    10.814851      3.567304      3.567304\n",
       "min          0.490000      0.490000    20.000000   1970.000000      2.000000\n",
       "25%          0.690000      2.990000    66.000000   2014.000000      6.000000\n",
       "50%          1.890000      4.990000    74.000000   2016.000000      7.000000\n",
       "75%          4.632500      9.990000    80.000000   2017.000000      9.000000\n",
       "max         31.490000    995.000000    96.000000   2021.000000     53.000000"
      ]
     },
     "execution_count": 3035,
     "metadata": {},
     "output_type": "execute_result"
    }
   ],
   "source": [
    "df_price.describe() #Consulta del data frame"
   ]
  },
  {
   "cell_type": "markdown",
   "metadata": {},
   "source": [
    "**6 – Tratamiento de Outliers**"
   ]
  },
  {
   "cell_type": "markdown",
   "metadata": {},
   "source": [
    "Para asumir valores atípicos, se usa la Regla de las Tres Sigmas"
   ]
  },
  {
   "cell_type": "code",
   "execution_count": 3036,
   "metadata": {},
   "outputs": [
    {
     "data": {
      "text/plain": [
       "9.36682589843463"
      ]
     },
     "execution_count": 3036,
     "metadata": {},
     "output_type": "execute_result"
    }
   ],
   "source": [
    "promedio_price = df_price['price'].mean()   #Cálculo de la media\n",
    "promedio_price"
   ]
  },
  {
   "cell_type": "code",
   "execution_count": 3037,
   "metadata": {},
   "outputs": [
    {
     "data": {
      "text/plain": [
       "16.46561479857127"
      ]
     },
     "execution_count": 3037,
     "metadata": {},
     "output_type": "execute_result"
    }
   ],
   "source": [
    "std_price = df_price['price'].std()     #Cálculo de la desviación standart\n",
    "std_price"
   ]
  },
  {
   "cell_type": "code",
   "execution_count": 3038,
   "metadata": {},
   "outputs": [
    {
     "data": {
      "text/plain": [
       "-40.03001849727919"
      ]
     },
     "execution_count": 3038,
     "metadata": {},
     "output_type": "execute_result"
    }
   ],
   "source": [
    "min_outlier = promedio_price - 3*std_price  #Valor inferior del límite\n",
    "min_outlier"
   ]
  },
  {
   "cell_type": "code",
   "execution_count": 3039,
   "metadata": {},
   "outputs": [
    {
     "data": {
      "text/plain": [
       "58.76367029414844"
      ]
     },
     "execution_count": 3039,
     "metadata": {},
     "output_type": "execute_result"
    }
   ],
   "source": [
    "max_outlier = promedio_price + 3*std_price  #Valor superior del límite \n",
    "max_outlier"
   ]
  },
  {
   "cell_type": "code",
   "execution_count": 3040,
   "metadata": {},
   "outputs": [],
   "source": [
    "del df_price"
   ]
  },
  {
   "cell_type": "markdown",
   "metadata": {},
   "source": [
    "6.a - Creación un nuevo dataframe eliminando los outliers"
   ]
  },
  {
   "cell_type": "code",
   "execution_count": 3041,
   "metadata": {},
   "outputs": [],
   "source": [
    "df1 = df0[df0['price']<=max_outlier]    #df1 data frame del proyecto (Rev. 1)"
   ]
  },
  {
   "cell_type": "code",
   "execution_count": 3042,
   "metadata": {},
   "outputs": [],
   "source": [
    "del df0"
   ]
  },
  {
   "cell_type": "code",
   "execution_count": 3043,
   "metadata": {},
   "outputs": [
    {
     "name": "stdout",
     "output_type": "stream",
     "text": [
      "<class 'pandas.core.frame.DataFrame'>\n",
      "Index: 288659 entries, 0 to 324466\n",
      "Data columns (total 10 columns):\n",
      " #   Column          Non-Null Count   Dtype  \n",
      "---  ------          --------------   -----  \n",
      " 0   genres          288659 non-null  object \n",
      " 1   app_name        288659 non-null  object \n",
      " 2   discount_price  1936 non-null    float64\n",
      " 3   specs           288659 non-null  object \n",
      " 4   price           288659 non-null  float64\n",
      " 5   early_access    288659 non-null  bool   \n",
      " 6   sentiment       288659 non-null  object \n",
      " 7   metascore       23715 non-null   float64\n",
      " 8   release_year    288659 non-null  int64  \n",
      " 9   anios           288659 non-null  int64  \n",
      "dtypes: bool(1), float64(3), int64(2), object(4)\n",
      "memory usage: 22.3+ MB\n"
     ]
    }
   ],
   "source": [
    "df1.info()"
   ]
  },
  {
   "cell_type": "markdown",
   "metadata": {},
   "source": [
    "**7 – Análisis de variables**"
   ]
  },
  {
   "cell_type": "markdown",
   "metadata": {},
   "source": [
    "7.a - Análisis de la variable anios"
   ]
  },
  {
   "cell_type": "code",
   "execution_count": 3044,
   "metadata": {},
   "outputs": [],
   "source": [
    "df_anios = df1.drop_duplicates(subset=['app_name']) #Eliminanos duplicados por genres - df_genres es un data frame auxiliar"
   ]
  },
  {
   "cell_type": "code",
   "execution_count": 3045,
   "metadata": {},
   "outputs": [
    {
     "data": {
      "image/png": "[encoded data removed]",
      "text/plain": [
       "<Figure size 2000x600 with 1 Axes>"
      ]
     },
     "metadata": {},
     "output_type": "display_data"
    }
   ],
   "source": [
    "plt.figure(figsize=(20, 6))\n",
    "# Crear el histograma utilizando Seaborn\n",
    "sns.histplot(data=df_anios, x='anios', kde=False, bins=23, color='orange')\n",
    "\n",
    "# Añadir etiquetas y título\n",
    "plt.xlabel('Años')\n",
    "plt.ylabel('Frecuencia')\n",
    "plt.title('Histograma de Años')\n",
    "\n",
    "# Mostrar el histograma\n",
    "plt.show()"
   ]
  },
  {
   "cell_type": "code",
   "execution_count": 3046,
   "metadata": {},
   "outputs": [
    {
     "data": {
      "image/png": "[encoded data removed]",
      "text/plain": [
       "<Figure size 2000x1000 with 1 Axes>"
      ]
     },
     "metadata": {},
     "output_type": "display_data"
    }
   ],
   "source": [
    "# Crear el scatter plot\n",
    "plt.figure(figsize=(20, 10))\n",
    "sns.scatterplot(data=df_anios, x='anios', y='price', color='orange')\n",
    "\n",
    "# Añadir etiquetas y título\n",
    "plt.xlabel('anios')\n",
    "plt.ylabel('price')\n",
    "plt.title('Scatter Plot: anios vs. price')\n",
    "\n",
    "plt.show()"
   ]
  },
  {
   "cell_type": "code",
   "execution_count": 3047,
   "metadata": {},
   "outputs": [],
   "source": [
    "del df_anios"
   ]
  },
  {
   "cell_type": "markdown",
   "metadata": {},
   "source": [
    "7.b - Análisis de la variable discount_price"
   ]
  },
  {
   "cell_type": "code",
   "execution_count": 3048,
   "metadata": {},
   "outputs": [],
   "source": [
    "df_discount = df1.drop_duplicates(subset='app_name')"
   ]
  },
  {
   "cell_type": "code",
   "execution_count": 3049,
   "metadata": {},
   "outputs": [
    {
     "data": {
      "text/plain": [
       "26791"
      ]
     },
     "execution_count": 3049,
     "metadata": {},
     "output_type": "execute_result"
    }
   ],
   "source": [
    "df_discount.discount_price.isna().sum()"
   ]
  },
  {
   "cell_type": "code",
   "execution_count": 3050,
   "metadata": {},
   "outputs": [
    {
     "data": {
      "text/html": [
       "<div>\n",
       "<style scoped>\n",
       "    .dataframe tbody tr th:only-of-type {\n",
       "        vertical-align: middle;\n",
       "    }\n",
       "\n",
       "    .dataframe tbody tr th {\n",
       "        vertical-align: top;\n",
       "    }\n",
       "\n",
       "    .dataframe thead th {\n",
       "        text-align: right;\n",
       "    }\n",
       "</style>\n",
       "<table border=\"1\" class=\"dataframe\">\n",
       "  <thead>\n",
       "    <tr style=\"text-align: right;\">\n",
       "      <th></th>\n",
       "      <th>genres</th>\n",
       "      <th>app_name</th>\n",
       "      <th>discount_price</th>\n",
       "      <th>specs</th>\n",
       "      <th>price</th>\n",
       "      <th>early_access</th>\n",
       "      <th>sentiment</th>\n",
       "      <th>metascore</th>\n",
       "      <th>release_year</th>\n",
       "      <th>anios</th>\n",
       "    </tr>\n",
       "  </thead>\n",
       "  <tbody>\n",
       "    <tr>\n",
       "      <th>13235</th>\n",
       "      <td>Casual</td>\n",
       "      <td>Oozi: Earth Adventure</td>\n",
       "      <td>0.74</td>\n",
       "      <td>Single-player</td>\n",
       "      <td>4.99</td>\n",
       "      <td>False</td>\n",
       "      <td>Very Positive</td>\n",
       "      <td>66.0</td>\n",
       "      <td>2013</td>\n",
       "      <td>10</td>\n",
       "    </tr>\n",
       "    <tr>\n",
       "      <th>130566</th>\n",
       "      <td>Action</td>\n",
       "      <td>Hidden &amp; Dangerous: Action Pack</td>\n",
       "      <td>4.19</td>\n",
       "      <td>Single-player</td>\n",
       "      <td>5.99</td>\n",
       "      <td>False</td>\n",
       "      <td>Sin Datos</td>\n",
       "      <td>74.0</td>\n",
       "      <td>2000</td>\n",
       "      <td>23</td>\n",
       "    </tr>\n",
       "    <tr>\n",
       "      <th>161387</th>\n",
       "      <td>Adventure</td>\n",
       "      <td>Subsurface Circular</td>\n",
       "      <td>4.79</td>\n",
       "      <td>Single-player</td>\n",
       "      <td>5.99</td>\n",
       "      <td>False</td>\n",
       "      <td>Overwhelmingly Positive</td>\n",
       "      <td>83.0</td>\n",
       "      <td>2017</td>\n",
       "      <td>6</td>\n",
       "    </tr>\n",
       "  </tbody>\n",
       "</table>\n",
       "</div>"
      ],
      "text/plain": [
       "           genres                         app_name  discount_price  \\\n",
       "13235      Casual            Oozi: Earth Adventure            0.74   \n",
       "130566     Action  Hidden & Dangerous: Action Pack            4.19   \n",
       "161387  Adventure              Subsurface Circular            4.79   \n",
       "\n",
       "                specs  price  early_access                sentiment  \\\n",
       "13235   Single-player   4.99         False            Very Positive   \n",
       "130566  Single-player   5.99         False                Sin Datos   \n",
       "161387  Single-player   5.99         False  Overwhelmingly Positive   \n",
       "\n",
       "        metascore  release_year  anios  \n",
       "13235        66.0          2013     10  \n",
       "130566       74.0          2000     23  \n",
       "161387       83.0          2017      6  "
      ]
     },
     "execution_count": 3050,
     "metadata": {},
     "output_type": "execute_result"
    }
   ],
   "source": [
    "df_discount.dropna()"
   ]
  },
  {
   "cell_type": "code",
   "execution_count": 3051,
   "metadata": {},
   "outputs": [
    {
     "data": {
      "image/png": "[encoded data removed]",
      "text/plain": [
       "<Figure size 2000x600 with 1 Axes>"
      ]
     },
     "metadata": {},
     "output_type": "display_data"
    }
   ],
   "source": [
    "# Crear el scatter plot\n",
    "plt.figure(figsize=(20, 6))\n",
    "sns.scatterplot(data=df_discount, x='price', y='discount_price', color='red')\n",
    "\n",
    "# Añadir etiquetas y título\n",
    "plt.xlabel('price')\n",
    "plt.ylabel('discount_price')\n",
    "plt.title('Scatter Plot: discount_price vs. price')\n",
    "\n",
    "plt.show()"
   ]
  },
  {
   "cell_type": "code",
   "execution_count": 3052,
   "metadata": {},
   "outputs": [],
   "source": [
    "del df_discount"
   ]
  },
  {
   "cell_type": "markdown",
   "metadata": {},
   "source": [
    "Se ve cierta correlación entre ambas variables y por otro lado el numero de nulos de la variable discount_price es importante, por lo que eliminaremos este campo."
   ]
  },
  {
   "cell_type": "code",
   "execution_count": 3053,
   "metadata": {},
   "outputs": [],
   "source": [
    "columnas_a_eliminar = ['discount_price']\n",
    "df1.drop(columns=columnas_a_eliminar, inplace=True)  #La columna discount_price es redundante. Se eliminan por irrelevantes para el analisis"
   ]
  },
  {
   "cell_type": "code",
   "execution_count": 3054,
   "metadata": {},
   "outputs": [
    {
     "data": {
      "text/html": [
       "<div>\n",
       "<style scoped>\n",
       "    .dataframe tbody tr th:only-of-type {\n",
       "        vertical-align: middle;\n",
       "    }\n",
       "\n",
       "    .dataframe tbody tr th {\n",
       "        vertical-align: top;\n",
       "    }\n",
       "\n",
       "    .dataframe thead th {\n",
       "        text-align: right;\n",
       "    }\n",
       "</style>\n",
       "<table border=\"1\" class=\"dataframe\">\n",
       "  <thead>\n",
       "    <tr style=\"text-align: right;\">\n",
       "      <th></th>\n",
       "      <th>genres</th>\n",
       "      <th>app_name</th>\n",
       "      <th>specs</th>\n",
       "      <th>price</th>\n",
       "      <th>early_access</th>\n",
       "      <th>sentiment</th>\n",
       "      <th>metascore</th>\n",
       "      <th>release_year</th>\n",
       "      <th>anios</th>\n",
       "    </tr>\n",
       "  </thead>\n",
       "  <tbody>\n",
       "    <tr>\n",
       "      <th>0</th>\n",
       "      <td>Action</td>\n",
       "      <td>Lost Summoner Kitty</td>\n",
       "      <td>Single-player</td>\n",
       "      <td>4.99</td>\n",
       "      <td>False</td>\n",
       "      <td>Sin Datos</td>\n",
       "      <td>NaN</td>\n",
       "      <td>2018</td>\n",
       "      <td>5</td>\n",
       "    </tr>\n",
       "    <tr>\n",
       "      <th>1</th>\n",
       "      <td>Casual</td>\n",
       "      <td>Lost Summoner Kitty</td>\n",
       "      <td>Single-player</td>\n",
       "      <td>4.99</td>\n",
       "      <td>False</td>\n",
       "      <td>Sin Datos</td>\n",
       "      <td>NaN</td>\n",
       "      <td>2018</td>\n",
       "      <td>5</td>\n",
       "    </tr>\n",
       "    <tr>\n",
       "      <th>2</th>\n",
       "      <td>Indie</td>\n",
       "      <td>Lost Summoner Kitty</td>\n",
       "      <td>Single-player</td>\n",
       "      <td>4.99</td>\n",
       "      <td>False</td>\n",
       "      <td>Sin Datos</td>\n",
       "      <td>NaN</td>\n",
       "      <td>2018</td>\n",
       "      <td>5</td>\n",
       "    </tr>\n",
       "    <tr>\n",
       "      <th>3</th>\n",
       "      <td>Simulation</td>\n",
       "      <td>Lost Summoner Kitty</td>\n",
       "      <td>Single-player</td>\n",
       "      <td>4.99</td>\n",
       "      <td>False</td>\n",
       "      <td>Sin Datos</td>\n",
       "      <td>NaN</td>\n",
       "      <td>2018</td>\n",
       "      <td>5</td>\n",
       "    </tr>\n",
       "    <tr>\n",
       "      <th>4</th>\n",
       "      <td>Strategy</td>\n",
       "      <td>Lost Summoner Kitty</td>\n",
       "      <td>Single-player</td>\n",
       "      <td>4.99</td>\n",
       "      <td>False</td>\n",
       "      <td>Sin Datos</td>\n",
       "      <td>NaN</td>\n",
       "      <td>2018</td>\n",
       "      <td>5</td>\n",
       "    </tr>\n",
       "    <tr>\n",
       "      <th>58</th>\n",
       "      <td>Action</td>\n",
       "      <td>弹炸人2222</td>\n",
       "      <td>Single-player</td>\n",
       "      <td>0.99</td>\n",
       "      <td>False</td>\n",
       "      <td>Sin Datos</td>\n",
       "      <td>NaN</td>\n",
       "      <td>2017</td>\n",
       "      <td>6</td>\n",
       "    </tr>\n",
       "    <tr>\n",
       "      <th>59</th>\n",
       "      <td>Adventure</td>\n",
       "      <td>弹炸人2222</td>\n",
       "      <td>Single-player</td>\n",
       "      <td>0.99</td>\n",
       "      <td>False</td>\n",
       "      <td>Sin Datos</td>\n",
       "      <td>NaN</td>\n",
       "      <td>2017</td>\n",
       "      <td>6</td>\n",
       "    </tr>\n",
       "    <tr>\n",
       "      <th>60</th>\n",
       "      <td>Casual</td>\n",
       "      <td>弹炸人2222</td>\n",
       "      <td>Single-player</td>\n",
       "      <td>0.99</td>\n",
       "      <td>False</td>\n",
       "      <td>Sin Datos</td>\n",
       "      <td>NaN</td>\n",
       "      <td>2017</td>\n",
       "      <td>6</td>\n",
       "    </tr>\n",
       "    <tr>\n",
       "      <th>61</th>\n",
       "      <td>Action</td>\n",
       "      <td>Battle Royale Trainer</td>\n",
       "      <td>Single-player</td>\n",
       "      <td>3.99</td>\n",
       "      <td>False</td>\n",
       "      <td>Mixed</td>\n",
       "      <td>NaN</td>\n",
       "      <td>2018</td>\n",
       "      <td>5</td>\n",
       "    </tr>\n",
       "    <tr>\n",
       "      <th>62</th>\n",
       "      <td>Action</td>\n",
       "      <td>Battle Royale Trainer</td>\n",
       "      <td>Steam Achievements</td>\n",
       "      <td>3.99</td>\n",
       "      <td>False</td>\n",
       "      <td>Mixed</td>\n",
       "      <td>NaN</td>\n",
       "      <td>2018</td>\n",
       "      <td>5</td>\n",
       "    </tr>\n",
       "    <tr>\n",
       "      <th>63</th>\n",
       "      <td>Adventure</td>\n",
       "      <td>Battle Royale Trainer</td>\n",
       "      <td>Single-player</td>\n",
       "      <td>3.99</td>\n",
       "      <td>False</td>\n",
       "      <td>Mixed</td>\n",
       "      <td>NaN</td>\n",
       "      <td>2018</td>\n",
       "      <td>5</td>\n",
       "    </tr>\n",
       "    <tr>\n",
       "      <th>64</th>\n",
       "      <td>Adventure</td>\n",
       "      <td>Battle Royale Trainer</td>\n",
       "      <td>Steam Achievements</td>\n",
       "      <td>3.99</td>\n",
       "      <td>False</td>\n",
       "      <td>Mixed</td>\n",
       "      <td>NaN</td>\n",
       "      <td>2018</td>\n",
       "      <td>5</td>\n",
       "    </tr>\n",
       "    <tr>\n",
       "      <th>65</th>\n",
       "      <td>Simulation</td>\n",
       "      <td>Battle Royale Trainer</td>\n",
       "      <td>Single-player</td>\n",
       "      <td>3.99</td>\n",
       "      <td>False</td>\n",
       "      <td>Mixed</td>\n",
       "      <td>NaN</td>\n",
       "      <td>2018</td>\n",
       "      <td>5</td>\n",
       "    </tr>\n",
       "    <tr>\n",
       "      <th>66</th>\n",
       "      <td>Simulation</td>\n",
       "      <td>Battle Royale Trainer</td>\n",
       "      <td>Steam Achievements</td>\n",
       "      <td>3.99</td>\n",
       "      <td>False</td>\n",
       "      <td>Mixed</td>\n",
       "      <td>NaN</td>\n",
       "      <td>2018</td>\n",
       "      <td>5</td>\n",
       "    </tr>\n",
       "    <tr>\n",
       "      <th>67</th>\n",
       "      <td>Free to Play</td>\n",
       "      <td>SNOW - All Access Basic Pass</td>\n",
       "      <td>Single-player</td>\n",
       "      <td>9.99</td>\n",
       "      <td>False</td>\n",
       "      <td>Sin Datos</td>\n",
       "      <td>NaN</td>\n",
       "      <td>2018</td>\n",
       "      <td>5</td>\n",
       "    </tr>\n",
       "    <tr>\n",
       "      <th>68</th>\n",
       "      <td>Free to Play</td>\n",
       "      <td>SNOW - All Access Basic Pass</td>\n",
       "      <td>Multi-player</td>\n",
       "      <td>9.99</td>\n",
       "      <td>False</td>\n",
       "      <td>Sin Datos</td>\n",
       "      <td>NaN</td>\n",
       "      <td>2018</td>\n",
       "      <td>5</td>\n",
       "    </tr>\n",
       "    <tr>\n",
       "      <th>69</th>\n",
       "      <td>Free to Play</td>\n",
       "      <td>SNOW - All Access Basic Pass</td>\n",
       "      <td>Online Multi-Player</td>\n",
       "      <td>9.99</td>\n",
       "      <td>False</td>\n",
       "      <td>Sin Datos</td>\n",
       "      <td>NaN</td>\n",
       "      <td>2018</td>\n",
       "      <td>5</td>\n",
       "    </tr>\n",
       "    <tr>\n",
       "      <th>70</th>\n",
       "      <td>Free to Play</td>\n",
       "      <td>SNOW - All Access Basic Pass</td>\n",
       "      <td>Cross-Platform Multiplayer</td>\n",
       "      <td>9.99</td>\n",
       "      <td>False</td>\n",
       "      <td>Sin Datos</td>\n",
       "      <td>NaN</td>\n",
       "      <td>2018</td>\n",
       "      <td>5</td>\n",
       "    </tr>\n",
       "    <tr>\n",
       "      <th>71</th>\n",
       "      <td>Free to Play</td>\n",
       "      <td>SNOW - All Access Basic Pass</td>\n",
       "      <td>Downloadable Content</td>\n",
       "      <td>9.99</td>\n",
       "      <td>False</td>\n",
       "      <td>Sin Datos</td>\n",
       "      <td>NaN</td>\n",
       "      <td>2018</td>\n",
       "      <td>5</td>\n",
       "    </tr>\n",
       "    <tr>\n",
       "      <th>72</th>\n",
       "      <td>Free to Play</td>\n",
       "      <td>SNOW - All Access Basic Pass</td>\n",
       "      <td>Steam Achievements</td>\n",
       "      <td>9.99</td>\n",
       "      <td>False</td>\n",
       "      <td>Sin Datos</td>\n",
       "      <td>NaN</td>\n",
       "      <td>2018</td>\n",
       "      <td>5</td>\n",
       "    </tr>\n",
       "  </tbody>\n",
       "</table>\n",
       "</div>"
      ],
      "text/plain": [
       "          genres                      app_name                       specs  \\\n",
       "0         Action           Lost Summoner Kitty               Single-player   \n",
       "1         Casual           Lost Summoner Kitty               Single-player   \n",
       "2          Indie           Lost Summoner Kitty               Single-player   \n",
       "3     Simulation           Lost Summoner Kitty               Single-player   \n",
       "4       Strategy           Lost Summoner Kitty               Single-player   \n",
       "58        Action                       弹炸人2222               Single-player   \n",
       "59     Adventure                       弹炸人2222               Single-player   \n",
       "60        Casual                       弹炸人2222               Single-player   \n",
       "61        Action         Battle Royale Trainer               Single-player   \n",
       "62        Action         Battle Royale Trainer          Steam Achievements   \n",
       "63     Adventure         Battle Royale Trainer               Single-player   \n",
       "64     Adventure         Battle Royale Trainer          Steam Achievements   \n",
       "65    Simulation         Battle Royale Trainer               Single-player   \n",
       "66    Simulation         Battle Royale Trainer          Steam Achievements   \n",
       "67  Free to Play  SNOW - All Access Basic Pass               Single-player   \n",
       "68  Free to Play  SNOW - All Access Basic Pass                Multi-player   \n",
       "69  Free to Play  SNOW - All Access Basic Pass         Online Multi-Player   \n",
       "70  Free to Play  SNOW - All Access Basic Pass  Cross-Platform Multiplayer   \n",
       "71  Free to Play  SNOW - All Access Basic Pass        Downloadable Content   \n",
       "72  Free to Play  SNOW - All Access Basic Pass          Steam Achievements   \n",
       "\n",
       "    price  early_access  sentiment  metascore  release_year  anios  \n",
       "0    4.99         False  Sin Datos        NaN          2018      5  \n",
       "1    4.99         False  Sin Datos        NaN          2018      5  \n",
       "2    4.99         False  Sin Datos        NaN          2018      5  \n",
       "3    4.99         False  Sin Datos        NaN          2018      5  \n",
       "4    4.99         False  Sin Datos        NaN          2018      5  \n",
       "58   0.99         False  Sin Datos        NaN          2017      6  \n",
       "59   0.99         False  Sin Datos        NaN          2017      6  \n",
       "60   0.99         False  Sin Datos        NaN          2017      6  \n",
       "61   3.99         False      Mixed        NaN          2018      5  \n",
       "62   3.99         False      Mixed        NaN          2018      5  \n",
       "63   3.99         False      Mixed        NaN          2018      5  \n",
       "64   3.99         False      Mixed        NaN          2018      5  \n",
       "65   3.99         False      Mixed        NaN          2018      5  \n",
       "66   3.99         False      Mixed        NaN          2018      5  \n",
       "67   9.99         False  Sin Datos        NaN          2018      5  \n",
       "68   9.99         False  Sin Datos        NaN          2018      5  \n",
       "69   9.99         False  Sin Datos        NaN          2018      5  \n",
       "70   9.99         False  Sin Datos        NaN          2018      5  \n",
       "71   9.99         False  Sin Datos        NaN          2018      5  \n",
       "72   9.99         False  Sin Datos        NaN          2018      5  "
      ]
     },
     "execution_count": 3054,
     "metadata": {},
     "output_type": "execute_result"
    }
   ],
   "source": [
    "df1.head(20)"
   ]
  },
  {
   "cell_type": "markdown",
   "metadata": {},
   "source": [
    "7.c - Análisis de la variable sentiment"
   ]
  },
  {
   "cell_type": "markdown",
   "metadata": {},
   "source": [
    "La variable es cualitativa ordinal, por lo que aplicaremos la función map() y Label Encoder"
   ]
  },
  {
   "cell_type": "code",
   "execution_count": 3055,
   "metadata": {},
   "outputs": [
    {
     "data": {
      "text/plain": [
       "array(['Sin Datos', 'Mixed', 'Very Positive', 'Overwhelmingly Positive',\n",
       "       'Mostly Positive', 'Positive', 'Mostly Negative', 'Very Negative',\n",
       "       'Negative', 'Overwhelmingly Negative'], dtype=object)"
      ]
     },
     "execution_count": 3055,
     "metadata": {},
     "output_type": "execute_result"
    }
   ],
   "source": [
    "df1.sentiment.unique()"
   ]
  },
  {
   "cell_type": "code",
   "execution_count": 3056,
   "metadata": {},
   "outputs": [],
   "source": [
    "mapeo_calif = {'Sin Datos': -1, 'Overwhelmingly Negative': 1, 'Very Negative': 2,\n",
    "               'Negative': 3, 'Mostly Negative': 4, 'Mixed': 5, 'Mostly Positive': 6,\n",
    "               'Positive': 7, 'Very Positive': 8, 'Overwhelmingly Positive': 9}                 # Diccionario para el mapeo\n",
    "\n",
    "label_encoder = LabelEncoder()                                                                  # Crear una instancia del LabelEncoder\n",
    "df1['sentiment'] = label_encoder.fit_transform([mapeo_calif[x] for x in df1['sentiment']])"
   ]
  },
  {
   "cell_type": "code",
   "execution_count": 3057,
   "metadata": {},
   "outputs": [
    {
     "data": {
      "text/html": [
       "<div>\n",
       "<style scoped>\n",
       "    .dataframe tbody tr th:only-of-type {\n",
       "        vertical-align: middle;\n",
       "    }\n",
       "\n",
       "    .dataframe tbody tr th {\n",
       "        vertical-align: top;\n",
       "    }\n",
       "\n",
       "    .dataframe thead th {\n",
       "        text-align: right;\n",
       "    }\n",
       "</style>\n",
       "<table border=\"1\" class=\"dataframe\">\n",
       "  <thead>\n",
       "    <tr style=\"text-align: right;\">\n",
       "      <th></th>\n",
       "      <th>genres</th>\n",
       "      <th>app_name</th>\n",
       "      <th>specs</th>\n",
       "      <th>price</th>\n",
       "      <th>early_access</th>\n",
       "      <th>sentiment</th>\n",
       "      <th>metascore</th>\n",
       "      <th>release_year</th>\n",
       "      <th>anios</th>\n",
       "    </tr>\n",
       "  </thead>\n",
       "  <tbody>\n",
       "    <tr>\n",
       "      <th>0</th>\n",
       "      <td>Action</td>\n",
       "      <td>Lost Summoner Kitty</td>\n",
       "      <td>Single-player</td>\n",
       "      <td>4.99</td>\n",
       "      <td>False</td>\n",
       "      <td>0</td>\n",
       "      <td>NaN</td>\n",
       "      <td>2018</td>\n",
       "      <td>5</td>\n",
       "    </tr>\n",
       "    <tr>\n",
       "      <th>1</th>\n",
       "      <td>Casual</td>\n",
       "      <td>Lost Summoner Kitty</td>\n",
       "      <td>Single-player</td>\n",
       "      <td>4.99</td>\n",
       "      <td>False</td>\n",
       "      <td>0</td>\n",
       "      <td>NaN</td>\n",
       "      <td>2018</td>\n",
       "      <td>5</td>\n",
       "    </tr>\n",
       "    <tr>\n",
       "      <th>2</th>\n",
       "      <td>Indie</td>\n",
       "      <td>Lost Summoner Kitty</td>\n",
       "      <td>Single-player</td>\n",
       "      <td>4.99</td>\n",
       "      <td>False</td>\n",
       "      <td>0</td>\n",
       "      <td>NaN</td>\n",
       "      <td>2018</td>\n",
       "      <td>5</td>\n",
       "    </tr>\n",
       "    <tr>\n",
       "      <th>3</th>\n",
       "      <td>Simulation</td>\n",
       "      <td>Lost Summoner Kitty</td>\n",
       "      <td>Single-player</td>\n",
       "      <td>4.99</td>\n",
       "      <td>False</td>\n",
       "      <td>0</td>\n",
       "      <td>NaN</td>\n",
       "      <td>2018</td>\n",
       "      <td>5</td>\n",
       "    </tr>\n",
       "    <tr>\n",
       "      <th>4</th>\n",
       "      <td>Strategy</td>\n",
       "      <td>Lost Summoner Kitty</td>\n",
       "      <td>Single-player</td>\n",
       "      <td>4.99</td>\n",
       "      <td>False</td>\n",
       "      <td>0</td>\n",
       "      <td>NaN</td>\n",
       "      <td>2018</td>\n",
       "      <td>5</td>\n",
       "    </tr>\n",
       "  </tbody>\n",
       "</table>\n",
       "</div>"
      ],
      "text/plain": [
       "       genres             app_name          specs  price  early_access  \\\n",
       "0      Action  Lost Summoner Kitty  Single-player   4.99         False   \n",
       "1      Casual  Lost Summoner Kitty  Single-player   4.99         False   \n",
       "2       Indie  Lost Summoner Kitty  Single-player   4.99         False   \n",
       "3  Simulation  Lost Summoner Kitty  Single-player   4.99         False   \n",
       "4    Strategy  Lost Summoner Kitty  Single-player   4.99         False   \n",
       "\n",
       "   sentiment  metascore  release_year  anios  \n",
       "0          0        NaN          2018      5  \n",
       "1          0        NaN          2018      5  \n",
       "2          0        NaN          2018      5  \n",
       "3          0        NaN          2018      5  \n",
       "4          0        NaN          2018      5  "
      ]
     },
     "execution_count": 3057,
     "metadata": {},
     "output_type": "execute_result"
    }
   ],
   "source": [
    "df1.head()"
   ]
  },
  {
   "cell_type": "code",
   "execution_count": 3058,
   "metadata": {},
   "outputs": [
    {
     "data": {
      "text/plain": [
       "genres               0\n",
       "app_name             0\n",
       "specs                0\n",
       "price                0\n",
       "early_access         0\n",
       "sentiment            0\n",
       "metascore       264944\n",
       "release_year         0\n",
       "anios                0\n",
       "dtype: int64"
      ]
     },
     "execution_count": 3058,
     "metadata": {},
     "output_type": "execute_result"
    }
   ],
   "source": [
    "df1.isna().sum() #Consulta de nulos por campo"
   ]
  },
  {
   "cell_type": "code",
   "execution_count": 3059,
   "metadata": {},
   "outputs": [],
   "source": [
    "df_sentiment = df1.drop_duplicates(subset='app_name')"
   ]
  },
  {
   "cell_type": "code",
   "execution_count": 3060,
   "metadata": {},
   "outputs": [
    {
     "data": {
      "text/html": [
       "<div>\n",
       "<style scoped>\n",
       "    .dataframe tbody tr th:only-of-type {\n",
       "        vertical-align: middle;\n",
       "    }\n",
       "\n",
       "    .dataframe tbody tr th {\n",
       "        vertical-align: top;\n",
       "    }\n",
       "\n",
       "    .dataframe thead th {\n",
       "        text-align: right;\n",
       "    }\n",
       "</style>\n",
       "<table border=\"1\" class=\"dataframe\">\n",
       "  <thead>\n",
       "    <tr style=\"text-align: right;\">\n",
       "      <th></th>\n",
       "      <th>genres</th>\n",
       "      <th>app_name</th>\n",
       "      <th>specs</th>\n",
       "      <th>price</th>\n",
       "      <th>early_access</th>\n",
       "      <th>sentiment</th>\n",
       "      <th>metascore</th>\n",
       "      <th>release_year</th>\n",
       "      <th>anios</th>\n",
       "    </tr>\n",
       "  </thead>\n",
       "  <tbody>\n",
       "    <tr>\n",
       "      <th>0</th>\n",
       "      <td>Action</td>\n",
       "      <td>Lost Summoner Kitty</td>\n",
       "      <td>Single-player</td>\n",
       "      <td>4.99</td>\n",
       "      <td>False</td>\n",
       "      <td>0</td>\n",
       "      <td>NaN</td>\n",
       "      <td>2018</td>\n",
       "      <td>5</td>\n",
       "    </tr>\n",
       "    <tr>\n",
       "      <th>58</th>\n",
       "      <td>Action</td>\n",
       "      <td>弹炸人2222</td>\n",
       "      <td>Single-player</td>\n",
       "      <td>0.99</td>\n",
       "      <td>False</td>\n",
       "      <td>0</td>\n",
       "      <td>NaN</td>\n",
       "      <td>2017</td>\n",
       "      <td>6</td>\n",
       "    </tr>\n",
       "    <tr>\n",
       "      <th>61</th>\n",
       "      <td>Action</td>\n",
       "      <td>Battle Royale Trainer</td>\n",
       "      <td>Single-player</td>\n",
       "      <td>3.99</td>\n",
       "      <td>False</td>\n",
       "      <td>5</td>\n",
       "      <td>NaN</td>\n",
       "      <td>2018</td>\n",
       "      <td>5</td>\n",
       "    </tr>\n",
       "    <tr>\n",
       "      <th>67</th>\n",
       "      <td>Free to Play</td>\n",
       "      <td>SNOW - All Access Basic Pass</td>\n",
       "      <td>Single-player</td>\n",
       "      <td>9.99</td>\n",
       "      <td>False</td>\n",
       "      <td>0</td>\n",
       "      <td>NaN</td>\n",
       "      <td>2018</td>\n",
       "      <td>5</td>\n",
       "    </tr>\n",
       "    <tr>\n",
       "      <th>111</th>\n",
       "      <td>Free to Play</td>\n",
       "      <td>SNOW - All Access Pro Pass</td>\n",
       "      <td>Single-player</td>\n",
       "      <td>18.99</td>\n",
       "      <td>False</td>\n",
       "      <td>0</td>\n",
       "      <td>NaN</td>\n",
       "      <td>2018</td>\n",
       "      <td>5</td>\n",
       "    </tr>\n",
       "  </tbody>\n",
       "</table>\n",
       "</div>"
      ],
      "text/plain": [
       "           genres                      app_name          specs  price  \\\n",
       "0          Action           Lost Summoner Kitty  Single-player   4.99   \n",
       "58         Action                       弹炸人2222  Single-player   0.99   \n",
       "61         Action         Battle Royale Trainer  Single-player   3.99   \n",
       "67   Free to Play  SNOW - All Access Basic Pass  Single-player   9.99   \n",
       "111  Free to Play    SNOW - All Access Pro Pass  Single-player  18.99   \n",
       "\n",
       "     early_access  sentiment  metascore  release_year  anios  \n",
       "0           False          0        NaN          2018      5  \n",
       "58          False          0        NaN          2017      6  \n",
       "61          False          5        NaN          2018      5  \n",
       "67          False          0        NaN          2018      5  \n",
       "111         False          0        NaN          2018      5  "
      ]
     },
     "execution_count": 3060,
     "metadata": {},
     "output_type": "execute_result"
    }
   ],
   "source": [
    "df_sentiment.head()"
   ]
  },
  {
   "cell_type": "code",
   "execution_count": 3061,
   "metadata": {},
   "outputs": [
    {
     "data": {
      "text/plain": [
       "<Axes: xlabel='sentiment', ylabel='price'>"
      ]
     },
     "execution_count": 3061,
     "metadata": {},
     "output_type": "execute_result"
    },
    {
     "data": {
      "image/png": "[encoded data removed]",
      "text/plain": [
       "<Figure size 2000x600 with 1 Axes>"
      ]
     },
     "metadata": {},
     "output_type": "display_data"
    }
   ],
   "source": [
    "plt.figure(figsize=(20, 6))\n",
    "sns.boxplot(x='sentiment', y='price',data=df_sentiment[df_sentiment['price']<25]) #Diagramas de cajas por genres filtrado por menores de 25"
   ]
  },
  {
   "cell_type": "code",
   "execution_count": 3062,
   "metadata": {},
   "outputs": [],
   "source": [
    "del df_sentiment"
   ]
  },
  {
   "cell_type": "markdown",
   "metadata": {},
   "source": [
    "Se observa cierta tendencia al incremento del precio con las mejores calificaciones"
   ]
  },
  {
   "cell_type": "markdown",
   "metadata": {},
   "source": [
    "7.d - Análisis de la variable metascore"
   ]
  },
  {
   "cell_type": "code",
   "execution_count": 3063,
   "metadata": {},
   "outputs": [],
   "source": [
    "df_metascore = df1.drop_duplicates(subset='app_name').dropna(subset='metascore')"
   ]
  },
  {
   "cell_type": "code",
   "execution_count": 3064,
   "metadata": {},
   "outputs": [
    {
     "data": {
      "text/html": [
       "<div>\n",
       "<style scoped>\n",
       "    .dataframe tbody tr th:only-of-type {\n",
       "        vertical-align: middle;\n",
       "    }\n",
       "\n",
       "    .dataframe tbody tr th {\n",
       "        vertical-align: top;\n",
       "    }\n",
       "\n",
       "    .dataframe thead th {\n",
       "        text-align: right;\n",
       "    }\n",
       "</style>\n",
       "<table border=\"1\" class=\"dataframe\">\n",
       "  <thead>\n",
       "    <tr style=\"text-align: right;\">\n",
       "      <th></th>\n",
       "      <th>genres</th>\n",
       "      <th>app_name</th>\n",
       "      <th>specs</th>\n",
       "      <th>price</th>\n",
       "      <th>early_access</th>\n",
       "      <th>sentiment</th>\n",
       "      <th>metascore</th>\n",
       "      <th>release_year</th>\n",
       "      <th>anios</th>\n",
       "    </tr>\n",
       "  </thead>\n",
       "  <tbody>\n",
       "    <tr>\n",
       "      <th>399</th>\n",
       "      <td>Action</td>\n",
       "      <td>Half-Life</td>\n",
       "      <td>Single-player</td>\n",
       "      <td>9.99</td>\n",
       "      <td>False</td>\n",
       "      <td>9</td>\n",
       "      <td>96.0</td>\n",
       "      <td>1998</td>\n",
       "      <td>25</td>\n",
       "    </tr>\n",
       "    <tr>\n",
       "      <th>542</th>\n",
       "      <td>Strategy</td>\n",
       "      <td>Disciples II: Gallean's Return</td>\n",
       "      <td>Single-player</td>\n",
       "      <td>6.99</td>\n",
       "      <td>False</td>\n",
       "      <td>6</td>\n",
       "      <td>84.0</td>\n",
       "      <td>2006</td>\n",
       "      <td>17</td>\n",
       "    </tr>\n",
       "    <tr>\n",
       "      <th>545</th>\n",
       "      <td>Strategy</td>\n",
       "      <td>Disciples II: Rise of the Elves</td>\n",
       "      <td>Single-player</td>\n",
       "      <td>6.99</td>\n",
       "      <td>False</td>\n",
       "      <td>8</td>\n",
       "      <td>80.0</td>\n",
       "      <td>2006</td>\n",
       "      <td>17</td>\n",
       "    </tr>\n",
       "    <tr>\n",
       "      <th>548</th>\n",
       "      <td>Action</td>\n",
       "      <td>The Ship: Murder Party</td>\n",
       "      <td>Single-player</td>\n",
       "      <td>9.99</td>\n",
       "      <td>False</td>\n",
       "      <td>8</td>\n",
       "      <td>76.0</td>\n",
       "      <td>2006</td>\n",
       "      <td>17</td>\n",
       "    </tr>\n",
       "    <tr>\n",
       "      <th>640</th>\n",
       "      <td>Action</td>\n",
       "      <td>Advent Rising</td>\n",
       "      <td>Single-player</td>\n",
       "      <td>9.99</td>\n",
       "      <td>False</td>\n",
       "      <td>6</td>\n",
       "      <td>70.0</td>\n",
       "      <td>2005</td>\n",
       "      <td>18</td>\n",
       "    </tr>\n",
       "    <tr>\n",
       "      <th>642</th>\n",
       "      <td>Indie</td>\n",
       "      <td>DEFCON</td>\n",
       "      <td>Single-player</td>\n",
       "      <td>9.99</td>\n",
       "      <td>False</td>\n",
       "      <td>8</td>\n",
       "      <td>84.0</td>\n",
       "      <td>2006</td>\n",
       "      <td>17</td>\n",
       "    </tr>\n",
       "    <tr>\n",
       "      <th>675</th>\n",
       "      <td>Casual</td>\n",
       "      <td>Gumboy - Crazy Adventures™</td>\n",
       "      <td>Single-player</td>\n",
       "      <td>4.99</td>\n",
       "      <td>False</td>\n",
       "      <td>5</td>\n",
       "      <td>69.0</td>\n",
       "      <td>2006</td>\n",
       "      <td>17</td>\n",
       "    </tr>\n",
       "    <tr>\n",
       "      <th>677</th>\n",
       "      <td>Strategy</td>\n",
       "      <td>Ghost Master®</td>\n",
       "      <td>Single-player</td>\n",
       "      <td>4.99</td>\n",
       "      <td>False</td>\n",
       "      <td>8</td>\n",
       "      <td>81.0</td>\n",
       "      <td>2003</td>\n",
       "      <td>20</td>\n",
       "    </tr>\n",
       "    <tr>\n",
       "      <th>679</th>\n",
       "      <td>Adventure</td>\n",
       "      <td>Dreamfall: The Longest Journey</td>\n",
       "      <td>Single-player</td>\n",
       "      <td>19.99</td>\n",
       "      <td>False</td>\n",
       "      <td>8</td>\n",
       "      <td>75.0</td>\n",
       "      <td>2006</td>\n",
       "      <td>17</td>\n",
       "    </tr>\n",
       "    <tr>\n",
       "      <th>681</th>\n",
       "      <td>Racing</td>\n",
       "      <td>FlatOut 2™</td>\n",
       "      <td>Single-player</td>\n",
       "      <td>9.99</td>\n",
       "      <td>False</td>\n",
       "      <td>8</td>\n",
       "      <td>76.0</td>\n",
       "      <td>2006</td>\n",
       "      <td>17</td>\n",
       "    </tr>\n",
       "  </tbody>\n",
       "</table>\n",
       "</div>"
      ],
      "text/plain": [
       "        genres                         app_name          specs  price  \\\n",
       "399     Action                        Half-Life  Single-player   9.99   \n",
       "542   Strategy   Disciples II: Gallean's Return  Single-player   6.99   \n",
       "545   Strategy  Disciples II: Rise of the Elves  Single-player   6.99   \n",
       "548     Action           The Ship: Murder Party  Single-player   9.99   \n",
       "640     Action                    Advent Rising  Single-player   9.99   \n",
       "642      Indie                           DEFCON  Single-player   9.99   \n",
       "675     Casual       Gumboy - Crazy Adventures™  Single-player   4.99   \n",
       "677   Strategy                    Ghost Master®  Single-player   4.99   \n",
       "679  Adventure   Dreamfall: The Longest Journey  Single-player  19.99   \n",
       "681     Racing                       FlatOut 2™  Single-player   9.99   \n",
       "\n",
       "     early_access  sentiment  metascore  release_year  anios  \n",
       "399         False          9       96.0          1998     25  \n",
       "542         False          6       84.0          2006     17  \n",
       "545         False          8       80.0          2006     17  \n",
       "548         False          8       76.0          2006     17  \n",
       "640         False          6       70.0          2005     18  \n",
       "642         False          8       84.0          2006     17  \n",
       "675         False          5       69.0          2006     17  \n",
       "677         False          8       81.0          2003     20  \n",
       "679         False          8       75.0          2006     17  \n",
       "681         False          8       76.0          2006     17  "
      ]
     },
     "execution_count": 3064,
     "metadata": {},
     "output_type": "execute_result"
    }
   ],
   "source": [
    "df_metascore.head(10)"
   ]
  },
  {
   "cell_type": "code",
   "execution_count": 3065,
   "metadata": {},
   "outputs": [
    {
     "data": {
      "image/png": "[encoded data removed]",
      "text/plain": [
       "<Figure size 2000x600 with 1 Axes>"
      ]
     },
     "metadata": {},
     "output_type": "display_data"
    }
   ],
   "source": [
    "# Crear el scatter plot\n",
    "plt.figure(figsize=(20, 6))\n",
    "sns.scatterplot(data=df_metascore[df_metascore['price']<25], x='metascore', y='price', color='blue')\n",
    "\n",
    "# Añadir etiquetas y título\n",
    "plt.xlabel('metascore')\n",
    "plt.ylabel('price')\n",
    "plt.title('Scatter Plot: metascore vs. price')\n",
    "\n",
    "plt.show()"
   ]
  },
  {
   "cell_type": "markdown",
   "metadata": {},
   "source": [
    "No se observa una correlación que a mayor metascore aumente el precio"
   ]
  },
  {
   "cell_type": "code",
   "execution_count": 3066,
   "metadata": {},
   "outputs": [
    {
     "data": {
      "image/png": "[encoded data removed]",
      "text/plain": [
       "<Figure size 2000x600 with 1 Axes>"
      ]
     },
     "metadata": {},
     "output_type": "display_data"
    }
   ],
   "source": [
    "# Crear el scatter plot\n",
    "plt.figure(figsize=(20, 6))\n",
    "sns.scatterplot(data=df_metascore, x='sentiment', y='metascore', color='blue')\n",
    "\n",
    "# Añadir etiquetas y título\n",
    "plt.xlabel('sentiment')\n",
    "plt.ylabel('metascore')\n",
    "plt.title('Scatter Plot: metascore vs. sentiment')\n",
    "\n",
    "plt.show()"
   ]
  },
  {
   "cell_type": "code",
   "execution_count": 3067,
   "metadata": {},
   "outputs": [],
   "source": [
    "del df_metascore"
   ]
  },
  {
   "cell_type": "markdown",
   "metadata": {},
   "source": [
    "Se observa cierta correlación entre las variables sentiment y metascore"
   ]
  },
  {
   "cell_type": "markdown",
   "metadata": {},
   "source": [
    "7.e - Análisis de la variable genres respecto a la etiqueta price"
   ]
  },
  {
   "cell_type": "code",
   "execution_count": 3068,
   "metadata": {},
   "outputs": [
    {
     "data": {
      "text/plain": [
       "23"
      ]
     },
     "execution_count": 3068,
     "metadata": {},
     "output_type": "execute_result"
    }
   ],
   "source": [
    "df1.genres.nunique() #Consulta de la cantidad de valores únicos del campo genres"
   ]
  },
  {
   "cell_type": "code",
   "execution_count": 3069,
   "metadata": {},
   "outputs": [
    {
     "data": {
      "text/plain": [
       "array(['Action', 'Casual', 'Indie', 'Simulation', 'Strategy', 'Adventure',\n",
       "       'Free to Play', 'Sports', 'RPG', 'Racing', 'Early Access',\n",
       "       'Massively Multiplayer', 'Web Publishing', 'Education',\n",
       "       'Software Training', 'Utilities', 'Design & Illustration',\n",
       "       'Animation & Modeling', 'Audio Production', 'Video Production',\n",
       "       'Photo Editing', 'Accounting', 'Sin Datos'], dtype=object)"
      ]
     },
     "execution_count": 3069,
     "metadata": {},
     "output_type": "execute_result"
    }
   ],
   "source": [
    "df1.genres.unique() #Consulta de valores únicos del campo genres"
   ]
  },
  {
   "cell_type": "code",
   "execution_count": 3070,
   "metadata": {},
   "outputs": [],
   "source": [
    "df_genres = df1.drop_duplicates(subset=['genres','app_name']) #Eliminanos duplicados por genres - df_genres es un data frame auxiliar"
   ]
  },
  {
   "cell_type": "code",
   "execution_count": 3071,
   "metadata": {},
   "outputs": [
    {
     "data": {
      "image/png": "[encoded data removed]",
      "text/plain": [
       "<Figure size 2000x600 with 1 Axes>"
      ]
     },
     "metadata": {},
     "output_type": "display_data"
    }
   ],
   "source": [
    "plt.figure(figsize=(20, 6))\n",
    "# Crear el histograma utilizando Seaborn\n",
    "sns.histplot(data=df_genres, x='genres', kde=False, bins=23, color='blue')\n",
    "\n",
    "# Añadir etiquetas y título\n",
    "plt.xlabel('genres')\n",
    "plt.ylabel('Frecuencia')\n",
    "plt.title('Histograma de genres')\n",
    "\n",
    "# Mostrar el histograma\n",
    "plt.show()"
   ]
  },
  {
   "cell_type": "code",
   "execution_count": 3072,
   "metadata": {},
   "outputs": [],
   "source": [
    "bin_counts = df_genres['genres'].value_counts() # Calcula el conteo de observaciones en cada bin"
   ]
  },
  {
   "cell_type": "code",
   "execution_count": 3073,
   "metadata": {},
   "outputs": [],
   "source": [
    "df_conteo = pd.DataFrame(bin_counts).reset_index()  #Crea un data frame con los generos y el conteo - df_conteo es un data frame auxiliar\n",
    "df_conteo.columns = ['genres', 'cantidad']"
   ]
  },
  {
   "cell_type": "code",
   "execution_count": 3074,
   "metadata": {},
   "outputs": [],
   "source": [
    "df_conteo['porcentaje'] = round((df_conteo['cantidad']/df_genres.shape[0])*100,2)   #Crea una columna de porcentajes de los conteos "
   ]
  },
  {
   "cell_type": "code",
   "execution_count": 3075,
   "metadata": {},
   "outputs": [
    {
     "data": {
      "text/html": [
       "<div>\n",
       "<style scoped>\n",
       "    .dataframe tbody tr th:only-of-type {\n",
       "        vertical-align: middle;\n",
       "    }\n",
       "\n",
       "    .dataframe tbody tr th {\n",
       "        vertical-align: top;\n",
       "    }\n",
       "\n",
       "    .dataframe thead th {\n",
       "        text-align: right;\n",
       "    }\n",
       "</style>\n",
       "<table border=\"1\" class=\"dataframe\">\n",
       "  <thead>\n",
       "    <tr style=\"text-align: right;\">\n",
       "      <th></th>\n",
       "      <th>genres</th>\n",
       "      <th>cantidad</th>\n",
       "      <th>porcentaje</th>\n",
       "    </tr>\n",
       "  </thead>\n",
       "  <tbody>\n",
       "    <tr>\n",
       "      <th>0</th>\n",
       "      <td>Indie</td>\n",
       "      <td>14271</td>\n",
       "      <td>22.19</td>\n",
       "    </tr>\n",
       "    <tr>\n",
       "      <th>1</th>\n",
       "      <td>Action</td>\n",
       "      <td>10164</td>\n",
       "      <td>15.80</td>\n",
       "    </tr>\n",
       "    <tr>\n",
       "      <th>2</th>\n",
       "      <td>Casual</td>\n",
       "      <td>7648</td>\n",
       "      <td>11.89</td>\n",
       "    </tr>\n",
       "    <tr>\n",
       "      <th>3</th>\n",
       "      <td>Adventure</td>\n",
       "      <td>7377</td>\n",
       "      <td>11.47</td>\n",
       "    </tr>\n",
       "    <tr>\n",
       "      <th>4</th>\n",
       "      <td>Strategy</td>\n",
       "      <td>6288</td>\n",
       "      <td>9.78</td>\n",
       "    </tr>\n",
       "    <tr>\n",
       "      <th>5</th>\n",
       "      <td>Simulation</td>\n",
       "      <td>6221</td>\n",
       "      <td>9.67</td>\n",
       "    </tr>\n",
       "    <tr>\n",
       "      <th>6</th>\n",
       "      <td>RPG</td>\n",
       "      <td>4719</td>\n",
       "      <td>7.34</td>\n",
       "    </tr>\n",
       "    <tr>\n",
       "      <th>7</th>\n",
       "      <td>Early Access</td>\n",
       "      <td>1266</td>\n",
       "      <td>1.97</td>\n",
       "    </tr>\n",
       "    <tr>\n",
       "      <th>8</th>\n",
       "      <td>Sin Datos</td>\n",
       "      <td>1157</td>\n",
       "      <td>1.80</td>\n",
       "    </tr>\n",
       "    <tr>\n",
       "      <th>9</th>\n",
       "      <td>Sports</td>\n",
       "      <td>1137</td>\n",
       "      <td>1.77</td>\n",
       "    </tr>\n",
       "    <tr>\n",
       "      <th>10</th>\n",
       "      <td>Racing</td>\n",
       "      <td>988</td>\n",
       "      <td>1.54</td>\n",
       "    </tr>\n",
       "    <tr>\n",
       "      <th>11</th>\n",
       "      <td>Free to Play</td>\n",
       "      <td>966</td>\n",
       "      <td>1.50</td>\n",
       "    </tr>\n",
       "    <tr>\n",
       "      <th>12</th>\n",
       "      <td>Massively Multiplayer</td>\n",
       "      <td>681</td>\n",
       "      <td>1.06</td>\n",
       "    </tr>\n",
       "    <tr>\n",
       "      <th>13</th>\n",
       "      <td>Design &amp; Illustration</td>\n",
       "      <td>460</td>\n",
       "      <td>0.72</td>\n",
       "    </tr>\n",
       "    <tr>\n",
       "      <th>14</th>\n",
       "      <td>Utilities</td>\n",
       "      <td>246</td>\n",
       "      <td>0.38</td>\n",
       "    </tr>\n",
       "    <tr>\n",
       "      <th>15</th>\n",
       "      <td>Web Publishing</td>\n",
       "      <td>232</td>\n",
       "      <td>0.36</td>\n",
       "    </tr>\n",
       "    <tr>\n",
       "      <th>16</th>\n",
       "      <td>Animation &amp; Modeling</td>\n",
       "      <td>125</td>\n",
       "      <td>0.19</td>\n",
       "    </tr>\n",
       "    <tr>\n",
       "      <th>17</th>\n",
       "      <td>Education</td>\n",
       "      <td>96</td>\n",
       "      <td>0.15</td>\n",
       "    </tr>\n",
       "    <tr>\n",
       "      <th>18</th>\n",
       "      <td>Software Training</td>\n",
       "      <td>83</td>\n",
       "      <td>0.13</td>\n",
       "    </tr>\n",
       "    <tr>\n",
       "      <th>19</th>\n",
       "      <td>Audio Production</td>\n",
       "      <td>68</td>\n",
       "      <td>0.11</td>\n",
       "    </tr>\n",
       "    <tr>\n",
       "      <th>20</th>\n",
       "      <td>Photo Editing</td>\n",
       "      <td>64</td>\n",
       "      <td>0.10</td>\n",
       "    </tr>\n",
       "    <tr>\n",
       "      <th>21</th>\n",
       "      <td>Video Production</td>\n",
       "      <td>63</td>\n",
       "      <td>0.10</td>\n",
       "    </tr>\n",
       "    <tr>\n",
       "      <th>22</th>\n",
       "      <td>Accounting</td>\n",
       "      <td>4</td>\n",
       "      <td>0.01</td>\n",
       "    </tr>\n",
       "  </tbody>\n",
       "</table>\n",
       "</div>"
      ],
      "text/plain": [
       "                   genres  cantidad  porcentaje\n",
       "0                   Indie     14271       22.19\n",
       "1                  Action     10164       15.80\n",
       "2                  Casual      7648       11.89\n",
       "3               Adventure      7377       11.47\n",
       "4                Strategy      6288        9.78\n",
       "5              Simulation      6221        9.67\n",
       "6                     RPG      4719        7.34\n",
       "7            Early Access      1266        1.97\n",
       "8               Sin Datos      1157        1.80\n",
       "9                  Sports      1137        1.77\n",
       "10                 Racing       988        1.54\n",
       "11           Free to Play       966        1.50\n",
       "12  Massively Multiplayer       681        1.06\n",
       "13  Design & Illustration       460        0.72\n",
       "14              Utilities       246        0.38\n",
       "15         Web Publishing       232        0.36\n",
       "16   Animation & Modeling       125        0.19\n",
       "17              Education        96        0.15\n",
       "18      Software Training        83        0.13\n",
       "19       Audio Production        68        0.11\n",
       "20          Photo Editing        64        0.10\n",
       "21       Video Production        63        0.10\n",
       "22             Accounting         4        0.01"
      ]
     },
     "execution_count": 3075,
     "metadata": {},
     "output_type": "execute_result"
    }
   ],
   "source": [
    "df_conteo.head(30)  #Consulta del data frame"
   ]
  },
  {
   "cell_type": "markdown",
   "metadata": {},
   "source": [
    "El siguiente ciclo for permite conocer hasta que ítem se representa el 85% de la muestra"
   ]
  },
  {
   "cell_type": "code",
   "execution_count": 3076,
   "metadata": {},
   "outputs": [
    {
     "name": "stdout",
     "output_type": "stream",
     "text": [
      "6\n"
     ]
    }
   ],
   "source": [
    "muestra = 0                                 #Ciclo for permite conocer hasta que ítem se representa el 85% de la muestra\n",
    "item = 0\n",
    "for i in range(0,df_conteo.shape[0]):\n",
    "    if muestra <= 85:\n",
    "        item +=1\n",
    "        muestra = muestra + df_conteo.iloc[i,2]\n",
    "    else:\n",
    "        break\n",
    "print(item-1)"
   ]
  },
  {
   "cell_type": "markdown",
   "metadata": {},
   "source": [
    "De los resultados obtenidos de frecuencias de géneros, vamos en considerar los primeros 7, que representan aproximadamente el 85% del conjunto"
   ]
  },
  {
   "cell_type": "markdown",
   "metadata": {},
   "source": [
    "Eliminacion de generos irrelevantes para el proceso"
   ]
  },
  {
   "cell_type": "code",
   "execution_count": 3077,
   "metadata": {},
   "outputs": [
    {
     "data": {
      "text/plain": [
       "['Early Access',\n",
       " 'Sin Datos',\n",
       " 'Sports',\n",
       " 'Racing',\n",
       " 'Free to Play',\n",
       " 'Massively Multiplayer',\n",
       " 'Design & Illustration',\n",
       " 'Utilities',\n",
       " 'Web Publishing',\n",
       " 'Animation & Modeling',\n",
       " 'Education',\n",
       " 'Software Training',\n",
       " 'Audio Production',\n",
       " 'Photo Editing',\n",
       " 'Video Production',\n",
       " 'Accounting']"
      ]
     },
     "execution_count": 3077,
     "metadata": {},
     "output_type": "execute_result"
    }
   ],
   "source": [
    "lista_gen_del = df_conteo.iloc[7:23,0].to_list()    #Creacion de una lista para eliminar registros\n",
    "lista_gen_del"
   ]
  },
  {
   "cell_type": "code",
   "execution_count": 3078,
   "metadata": {},
   "outputs": [],
   "source": [
    "del df_genres\n",
    "del df_conteo"
   ]
  },
  {
   "cell_type": "code",
   "execution_count": 3079,
   "metadata": {},
   "outputs": [],
   "source": [
    "mask = df1['genres'].isin(lista_gen_del)    # Crear una máscara booleana para filtrar las filas a eliminar\n",
    "df2 = df1[~mask]    # Eliminar las filas que cumplen con la condición - df2 es el data frame del proyecto (Rev.2)"
   ]
  },
  {
   "cell_type": "code",
   "execution_count": 3080,
   "metadata": {},
   "outputs": [],
   "source": [
    "del df1"
   ]
  },
  {
   "cell_type": "code",
   "execution_count": 3081,
   "metadata": {},
   "outputs": [
    {
     "data": {
      "text/html": [
       "<div>\n",
       "<style scoped>\n",
       "    .dataframe tbody tr th:only-of-type {\n",
       "        vertical-align: middle;\n",
       "    }\n",
       "\n",
       "    .dataframe tbody tr th {\n",
       "        vertical-align: top;\n",
       "    }\n",
       "\n",
       "    .dataframe thead th {\n",
       "        text-align: right;\n",
       "    }\n",
       "</style>\n",
       "<table border=\"1\" class=\"dataframe\">\n",
       "  <thead>\n",
       "    <tr style=\"text-align: right;\">\n",
       "      <th></th>\n",
       "      <th>genres</th>\n",
       "      <th>app_name</th>\n",
       "      <th>specs</th>\n",
       "      <th>price</th>\n",
       "      <th>early_access</th>\n",
       "      <th>sentiment</th>\n",
       "      <th>metascore</th>\n",
       "      <th>release_year</th>\n",
       "      <th>anios</th>\n",
       "    </tr>\n",
       "  </thead>\n",
       "  <tbody>\n",
       "    <tr>\n",
       "      <th>0</th>\n",
       "      <td>Action</td>\n",
       "      <td>Lost Summoner Kitty</td>\n",
       "      <td>Single-player</td>\n",
       "      <td>4.99</td>\n",
       "      <td>False</td>\n",
       "      <td>0</td>\n",
       "      <td>NaN</td>\n",
       "      <td>2018</td>\n",
       "      <td>5</td>\n",
       "    </tr>\n",
       "    <tr>\n",
       "      <th>1</th>\n",
       "      <td>Casual</td>\n",
       "      <td>Lost Summoner Kitty</td>\n",
       "      <td>Single-player</td>\n",
       "      <td>4.99</td>\n",
       "      <td>False</td>\n",
       "      <td>0</td>\n",
       "      <td>NaN</td>\n",
       "      <td>2018</td>\n",
       "      <td>5</td>\n",
       "    </tr>\n",
       "    <tr>\n",
       "      <th>2</th>\n",
       "      <td>Indie</td>\n",
       "      <td>Lost Summoner Kitty</td>\n",
       "      <td>Single-player</td>\n",
       "      <td>4.99</td>\n",
       "      <td>False</td>\n",
       "      <td>0</td>\n",
       "      <td>NaN</td>\n",
       "      <td>2018</td>\n",
       "      <td>5</td>\n",
       "    </tr>\n",
       "    <tr>\n",
       "      <th>3</th>\n",
       "      <td>Simulation</td>\n",
       "      <td>Lost Summoner Kitty</td>\n",
       "      <td>Single-player</td>\n",
       "      <td>4.99</td>\n",
       "      <td>False</td>\n",
       "      <td>0</td>\n",
       "      <td>NaN</td>\n",
       "      <td>2018</td>\n",
       "      <td>5</td>\n",
       "    </tr>\n",
       "    <tr>\n",
       "      <th>4</th>\n",
       "      <td>Strategy</td>\n",
       "      <td>Lost Summoner Kitty</td>\n",
       "      <td>Single-player</td>\n",
       "      <td>4.99</td>\n",
       "      <td>False</td>\n",
       "      <td>0</td>\n",
       "      <td>NaN</td>\n",
       "      <td>2018</td>\n",
       "      <td>5</td>\n",
       "    </tr>\n",
       "    <tr>\n",
       "      <th>58</th>\n",
       "      <td>Action</td>\n",
       "      <td>弹炸人2222</td>\n",
       "      <td>Single-player</td>\n",
       "      <td>0.99</td>\n",
       "      <td>False</td>\n",
       "      <td>0</td>\n",
       "      <td>NaN</td>\n",
       "      <td>2017</td>\n",
       "      <td>6</td>\n",
       "    </tr>\n",
       "    <tr>\n",
       "      <th>59</th>\n",
       "      <td>Adventure</td>\n",
       "      <td>弹炸人2222</td>\n",
       "      <td>Single-player</td>\n",
       "      <td>0.99</td>\n",
       "      <td>False</td>\n",
       "      <td>0</td>\n",
       "      <td>NaN</td>\n",
       "      <td>2017</td>\n",
       "      <td>6</td>\n",
       "    </tr>\n",
       "    <tr>\n",
       "      <th>60</th>\n",
       "      <td>Casual</td>\n",
       "      <td>弹炸人2222</td>\n",
       "      <td>Single-player</td>\n",
       "      <td>0.99</td>\n",
       "      <td>False</td>\n",
       "      <td>0</td>\n",
       "      <td>NaN</td>\n",
       "      <td>2017</td>\n",
       "      <td>6</td>\n",
       "    </tr>\n",
       "    <tr>\n",
       "      <th>61</th>\n",
       "      <td>Action</td>\n",
       "      <td>Battle Royale Trainer</td>\n",
       "      <td>Single-player</td>\n",
       "      <td>3.99</td>\n",
       "      <td>False</td>\n",
       "      <td>5</td>\n",
       "      <td>NaN</td>\n",
       "      <td>2018</td>\n",
       "      <td>5</td>\n",
       "    </tr>\n",
       "    <tr>\n",
       "      <th>62</th>\n",
       "      <td>Action</td>\n",
       "      <td>Battle Royale Trainer</td>\n",
       "      <td>Steam Achievements</td>\n",
       "      <td>3.99</td>\n",
       "      <td>False</td>\n",
       "      <td>5</td>\n",
       "      <td>NaN</td>\n",
       "      <td>2018</td>\n",
       "      <td>5</td>\n",
       "    </tr>\n",
       "    <tr>\n",
       "      <th>63</th>\n",
       "      <td>Adventure</td>\n",
       "      <td>Battle Royale Trainer</td>\n",
       "      <td>Single-player</td>\n",
       "      <td>3.99</td>\n",
       "      <td>False</td>\n",
       "      <td>5</td>\n",
       "      <td>NaN</td>\n",
       "      <td>2018</td>\n",
       "      <td>5</td>\n",
       "    </tr>\n",
       "    <tr>\n",
       "      <th>64</th>\n",
       "      <td>Adventure</td>\n",
       "      <td>Battle Royale Trainer</td>\n",
       "      <td>Steam Achievements</td>\n",
       "      <td>3.99</td>\n",
       "      <td>False</td>\n",
       "      <td>5</td>\n",
       "      <td>NaN</td>\n",
       "      <td>2018</td>\n",
       "      <td>5</td>\n",
       "    </tr>\n",
       "    <tr>\n",
       "      <th>65</th>\n",
       "      <td>Simulation</td>\n",
       "      <td>Battle Royale Trainer</td>\n",
       "      <td>Single-player</td>\n",
       "      <td>3.99</td>\n",
       "      <td>False</td>\n",
       "      <td>5</td>\n",
       "      <td>NaN</td>\n",
       "      <td>2018</td>\n",
       "      <td>5</td>\n",
       "    </tr>\n",
       "    <tr>\n",
       "      <th>66</th>\n",
       "      <td>Simulation</td>\n",
       "      <td>Battle Royale Trainer</td>\n",
       "      <td>Steam Achievements</td>\n",
       "      <td>3.99</td>\n",
       "      <td>False</td>\n",
       "      <td>5</td>\n",
       "      <td>NaN</td>\n",
       "      <td>2018</td>\n",
       "      <td>5</td>\n",
       "    </tr>\n",
       "    <tr>\n",
       "      <th>78</th>\n",
       "      <td>Indie</td>\n",
       "      <td>SNOW - All Access Basic Pass</td>\n",
       "      <td>Single-player</td>\n",
       "      <td>9.99</td>\n",
       "      <td>False</td>\n",
       "      <td>0</td>\n",
       "      <td>NaN</td>\n",
       "      <td>2018</td>\n",
       "      <td>5</td>\n",
       "    </tr>\n",
       "    <tr>\n",
       "      <th>79</th>\n",
       "      <td>Indie</td>\n",
       "      <td>SNOW - All Access Basic Pass</td>\n",
       "      <td>Multi-player</td>\n",
       "      <td>9.99</td>\n",
       "      <td>False</td>\n",
       "      <td>0</td>\n",
       "      <td>NaN</td>\n",
       "      <td>2018</td>\n",
       "      <td>5</td>\n",
       "    </tr>\n",
       "    <tr>\n",
       "      <th>80</th>\n",
       "      <td>Indie</td>\n",
       "      <td>SNOW - All Access Basic Pass</td>\n",
       "      <td>Online Multi-Player</td>\n",
       "      <td>9.99</td>\n",
       "      <td>False</td>\n",
       "      <td>0</td>\n",
       "      <td>NaN</td>\n",
       "      <td>2018</td>\n",
       "      <td>5</td>\n",
       "    </tr>\n",
       "    <tr>\n",
       "      <th>81</th>\n",
       "      <td>Indie</td>\n",
       "      <td>SNOW - All Access Basic Pass</td>\n",
       "      <td>Cross-Platform Multiplayer</td>\n",
       "      <td>9.99</td>\n",
       "      <td>False</td>\n",
       "      <td>0</td>\n",
       "      <td>NaN</td>\n",
       "      <td>2018</td>\n",
       "      <td>5</td>\n",
       "    </tr>\n",
       "    <tr>\n",
       "      <th>82</th>\n",
       "      <td>Indie</td>\n",
       "      <td>SNOW - All Access Basic Pass</td>\n",
       "      <td>Downloadable Content</td>\n",
       "      <td>9.99</td>\n",
       "      <td>False</td>\n",
       "      <td>0</td>\n",
       "      <td>NaN</td>\n",
       "      <td>2018</td>\n",
       "      <td>5</td>\n",
       "    </tr>\n",
       "    <tr>\n",
       "      <th>83</th>\n",
       "      <td>Indie</td>\n",
       "      <td>SNOW - All Access Basic Pass</td>\n",
       "      <td>Steam Achievements</td>\n",
       "      <td>9.99</td>\n",
       "      <td>False</td>\n",
       "      <td>0</td>\n",
       "      <td>NaN</td>\n",
       "      <td>2018</td>\n",
       "      <td>5</td>\n",
       "    </tr>\n",
       "  </tbody>\n",
       "</table>\n",
       "</div>"
      ],
      "text/plain": [
       "        genres                      app_name                       specs  \\\n",
       "0       Action           Lost Summoner Kitty               Single-player   \n",
       "1       Casual           Lost Summoner Kitty               Single-player   \n",
       "2        Indie           Lost Summoner Kitty               Single-player   \n",
       "3   Simulation           Lost Summoner Kitty               Single-player   \n",
       "4     Strategy           Lost Summoner Kitty               Single-player   \n",
       "58      Action                       弹炸人2222               Single-player   \n",
       "59   Adventure                       弹炸人2222               Single-player   \n",
       "60      Casual                       弹炸人2222               Single-player   \n",
       "61      Action         Battle Royale Trainer               Single-player   \n",
       "62      Action         Battle Royale Trainer          Steam Achievements   \n",
       "63   Adventure         Battle Royale Trainer               Single-player   \n",
       "64   Adventure         Battle Royale Trainer          Steam Achievements   \n",
       "65  Simulation         Battle Royale Trainer               Single-player   \n",
       "66  Simulation         Battle Royale Trainer          Steam Achievements   \n",
       "78       Indie  SNOW - All Access Basic Pass               Single-player   \n",
       "79       Indie  SNOW - All Access Basic Pass                Multi-player   \n",
       "80       Indie  SNOW - All Access Basic Pass         Online Multi-Player   \n",
       "81       Indie  SNOW - All Access Basic Pass  Cross-Platform Multiplayer   \n",
       "82       Indie  SNOW - All Access Basic Pass        Downloadable Content   \n",
       "83       Indie  SNOW - All Access Basic Pass          Steam Achievements   \n",
       "\n",
       "    price  early_access  sentiment  metascore  release_year  anios  \n",
       "0    4.99         False          0        NaN          2018      5  \n",
       "1    4.99         False          0        NaN          2018      5  \n",
       "2    4.99         False          0        NaN          2018      5  \n",
       "3    4.99         False          0        NaN          2018      5  \n",
       "4    4.99         False          0        NaN          2018      5  \n",
       "58   0.99         False          0        NaN          2017      6  \n",
       "59   0.99         False          0        NaN          2017      6  \n",
       "60   0.99         False          0        NaN          2017      6  \n",
       "61   3.99         False          5        NaN          2018      5  \n",
       "62   3.99         False          5        NaN          2018      5  \n",
       "63   3.99         False          5        NaN          2018      5  \n",
       "64   3.99         False          5        NaN          2018      5  \n",
       "65   3.99         False          5        NaN          2018      5  \n",
       "66   3.99         False          5        NaN          2018      5  \n",
       "78   9.99         False          0        NaN          2018      5  \n",
       "79   9.99         False          0        NaN          2018      5  \n",
       "80   9.99         False          0        NaN          2018      5  \n",
       "81   9.99         False          0        NaN          2018      5  \n",
       "82   9.99         False          0        NaN          2018      5  \n",
       "83   9.99         False          0        NaN          2018      5  "
      ]
     },
     "execution_count": 3081,
     "metadata": {},
     "output_type": "execute_result"
    }
   ],
   "source": [
    "df2.head(20)    #Consulta de data frame"
   ]
  },
  {
   "cell_type": "code",
   "execution_count": 3082,
   "metadata": {},
   "outputs": [
    {
     "data": {
      "text/plain": [
       "(255453, 9)"
      ]
     },
     "execution_count": 3082,
     "metadata": {},
     "output_type": "execute_result"
    }
   ],
   "source": [
    "df2.shape   #Consulta del data frame"
   ]
  },
  {
   "cell_type": "markdown",
   "metadata": {},
   "source": [
    "7.f - Análisis de variable genres y price mediante boxplot"
   ]
  },
  {
   "cell_type": "code",
   "execution_count": 3083,
   "metadata": {},
   "outputs": [
    {
     "data": {
      "text/plain": [
       "<Axes: xlabel='genres', ylabel='price'>"
      ]
     },
     "execution_count": 3083,
     "metadata": {},
     "output_type": "execute_result"
    },
    {
     "data": {
      "image/png": "[encoded data removed]",
      "text/plain": [
       "<Figure size 2000x600 with 1 Axes>"
      ]
     },
     "metadata": {},
     "output_type": "display_data"
    }
   ],
   "source": [
    "plt.figure(figsize=(20, 6))\n",
    "sns.boxplot(x='genres', y='price',data=df2) #Diagramas de cajas por genres"
   ]
  },
  {
   "cell_type": "code",
   "execution_count": 3084,
   "metadata": {},
   "outputs": [
    {
     "data": {
      "text/plain": [
       "<Axes: xlabel='genres', ylabel='price'>"
      ]
     },
     "execution_count": 3084,
     "metadata": {},
     "output_type": "execute_result"
    },
    {
     "data": {
      "image/png": "[encoded data removed]",
      "text/plain": [
       "<Figure size 2000x600 with 1 Axes>"
      ]
     },
     "metadata": {},
     "output_type": "display_data"
    }
   ],
   "source": [
    "plt.figure(figsize=(20, 6))\n",
    "sns.boxplot(x='genres', y='price',data=df2[df2['price']<25]) #Diagramas de cajas por genres filtrado por menores de 25"
   ]
  },
  {
   "cell_type": "markdown",
   "metadata": {},
   "source": [
    "Del diagrama de cajas podemos concluir que para estos diferentes géneros el 75% tiene un precio por dejado de 10 y el 50% alrededor de 5."
   ]
  },
  {
   "cell_type": "code",
   "execution_count": 3085,
   "metadata": {},
   "outputs": [
    {
     "name": "stdout",
     "output_type": "stream",
     "text": [
      "<class 'pandas.core.frame.DataFrame'>\n",
      "Index: 255453 entries, 0 to 324455\n",
      "Data columns (total 9 columns):\n",
      " #   Column        Non-Null Count   Dtype  \n",
      "---  ------        --------------   -----  \n",
      " 0   genres        255453 non-null  object \n",
      " 1   app_name      255453 non-null  object \n",
      " 2   specs         255453 non-null  object \n",
      " 3   price         255453 non-null  float64\n",
      " 4   early_access  255453 non-null  bool   \n",
      " 5   sentiment     255453 non-null  int64  \n",
      " 6   metascore     22603 non-null   float64\n",
      " 7   release_year  255453 non-null  int64  \n",
      " 8   anios         255453 non-null  int64  \n",
      "dtypes: bool(1), float64(2), int64(3), object(3)\n",
      "memory usage: 17.8+ MB\n"
     ]
    }
   ],
   "source": [
    "df2.info()"
   ]
  },
  {
   "cell_type": "code",
   "execution_count": 3086,
   "metadata": {},
   "outputs": [
    {
     "data": {
      "text/html": [
       "<div>\n",
       "<style scoped>\n",
       "    .dataframe tbody tr th:only-of-type {\n",
       "        vertical-align: middle;\n",
       "    }\n",
       "\n",
       "    .dataframe tbody tr th {\n",
       "        vertical-align: top;\n",
       "    }\n",
       "\n",
       "    .dataframe thead th {\n",
       "        text-align: right;\n",
       "    }\n",
       "</style>\n",
       "<table border=\"1\" class=\"dataframe\">\n",
       "  <thead>\n",
       "    <tr style=\"text-align: right;\">\n",
       "      <th></th>\n",
       "      <th>genres</th>\n",
       "      <th>app_name</th>\n",
       "      <th>specs</th>\n",
       "      <th>price</th>\n",
       "      <th>early_access</th>\n",
       "      <th>sentiment</th>\n",
       "      <th>metascore</th>\n",
       "      <th>release_year</th>\n",
       "      <th>anios</th>\n",
       "    </tr>\n",
       "  </thead>\n",
       "  <tbody>\n",
       "    <tr>\n",
       "      <th>0</th>\n",
       "      <td>Action</td>\n",
       "      <td>Lost Summoner Kitty</td>\n",
       "      <td>Single-player</td>\n",
       "      <td>4.99</td>\n",
       "      <td>False</td>\n",
       "      <td>0</td>\n",
       "      <td>NaN</td>\n",
       "      <td>2018</td>\n",
       "      <td>5</td>\n",
       "    </tr>\n",
       "    <tr>\n",
       "      <th>1</th>\n",
       "      <td>Casual</td>\n",
       "      <td>Lost Summoner Kitty</td>\n",
       "      <td>Single-player</td>\n",
       "      <td>4.99</td>\n",
       "      <td>False</td>\n",
       "      <td>0</td>\n",
       "      <td>NaN</td>\n",
       "      <td>2018</td>\n",
       "      <td>5</td>\n",
       "    </tr>\n",
       "    <tr>\n",
       "      <th>2</th>\n",
       "      <td>Indie</td>\n",
       "      <td>Lost Summoner Kitty</td>\n",
       "      <td>Single-player</td>\n",
       "      <td>4.99</td>\n",
       "      <td>False</td>\n",
       "      <td>0</td>\n",
       "      <td>NaN</td>\n",
       "      <td>2018</td>\n",
       "      <td>5</td>\n",
       "    </tr>\n",
       "    <tr>\n",
       "      <th>3</th>\n",
       "      <td>Simulation</td>\n",
       "      <td>Lost Summoner Kitty</td>\n",
       "      <td>Single-player</td>\n",
       "      <td>4.99</td>\n",
       "      <td>False</td>\n",
       "      <td>0</td>\n",
       "      <td>NaN</td>\n",
       "      <td>2018</td>\n",
       "      <td>5</td>\n",
       "    </tr>\n",
       "    <tr>\n",
       "      <th>4</th>\n",
       "      <td>Strategy</td>\n",
       "      <td>Lost Summoner Kitty</td>\n",
       "      <td>Single-player</td>\n",
       "      <td>4.99</td>\n",
       "      <td>False</td>\n",
       "      <td>0</td>\n",
       "      <td>NaN</td>\n",
       "      <td>2018</td>\n",
       "      <td>5</td>\n",
       "    </tr>\n",
       "    <tr>\n",
       "      <th>58</th>\n",
       "      <td>Action</td>\n",
       "      <td>弹炸人2222</td>\n",
       "      <td>Single-player</td>\n",
       "      <td>0.99</td>\n",
       "      <td>False</td>\n",
       "      <td>0</td>\n",
       "      <td>NaN</td>\n",
       "      <td>2017</td>\n",
       "      <td>6</td>\n",
       "    </tr>\n",
       "    <tr>\n",
       "      <th>59</th>\n",
       "      <td>Adventure</td>\n",
       "      <td>弹炸人2222</td>\n",
       "      <td>Single-player</td>\n",
       "      <td>0.99</td>\n",
       "      <td>False</td>\n",
       "      <td>0</td>\n",
       "      <td>NaN</td>\n",
       "      <td>2017</td>\n",
       "      <td>6</td>\n",
       "    </tr>\n",
       "    <tr>\n",
       "      <th>60</th>\n",
       "      <td>Casual</td>\n",
       "      <td>弹炸人2222</td>\n",
       "      <td>Single-player</td>\n",
       "      <td>0.99</td>\n",
       "      <td>False</td>\n",
       "      <td>0</td>\n",
       "      <td>NaN</td>\n",
       "      <td>2017</td>\n",
       "      <td>6</td>\n",
       "    </tr>\n",
       "    <tr>\n",
       "      <th>61</th>\n",
       "      <td>Action</td>\n",
       "      <td>Battle Royale Trainer</td>\n",
       "      <td>Single-player</td>\n",
       "      <td>3.99</td>\n",
       "      <td>False</td>\n",
       "      <td>5</td>\n",
       "      <td>NaN</td>\n",
       "      <td>2018</td>\n",
       "      <td>5</td>\n",
       "    </tr>\n",
       "    <tr>\n",
       "      <th>62</th>\n",
       "      <td>Action</td>\n",
       "      <td>Battle Royale Trainer</td>\n",
       "      <td>Steam Achievements</td>\n",
       "      <td>3.99</td>\n",
       "      <td>False</td>\n",
       "      <td>5</td>\n",
       "      <td>NaN</td>\n",
       "      <td>2018</td>\n",
       "      <td>5</td>\n",
       "    </tr>\n",
       "    <tr>\n",
       "      <th>63</th>\n",
       "      <td>Adventure</td>\n",
       "      <td>Battle Royale Trainer</td>\n",
       "      <td>Single-player</td>\n",
       "      <td>3.99</td>\n",
       "      <td>False</td>\n",
       "      <td>5</td>\n",
       "      <td>NaN</td>\n",
       "      <td>2018</td>\n",
       "      <td>5</td>\n",
       "    </tr>\n",
       "    <tr>\n",
       "      <th>64</th>\n",
       "      <td>Adventure</td>\n",
       "      <td>Battle Royale Trainer</td>\n",
       "      <td>Steam Achievements</td>\n",
       "      <td>3.99</td>\n",
       "      <td>False</td>\n",
       "      <td>5</td>\n",
       "      <td>NaN</td>\n",
       "      <td>2018</td>\n",
       "      <td>5</td>\n",
       "    </tr>\n",
       "    <tr>\n",
       "      <th>65</th>\n",
       "      <td>Simulation</td>\n",
       "      <td>Battle Royale Trainer</td>\n",
       "      <td>Single-player</td>\n",
       "      <td>3.99</td>\n",
       "      <td>False</td>\n",
       "      <td>5</td>\n",
       "      <td>NaN</td>\n",
       "      <td>2018</td>\n",
       "      <td>5</td>\n",
       "    </tr>\n",
       "    <tr>\n",
       "      <th>66</th>\n",
       "      <td>Simulation</td>\n",
       "      <td>Battle Royale Trainer</td>\n",
       "      <td>Steam Achievements</td>\n",
       "      <td>3.99</td>\n",
       "      <td>False</td>\n",
       "      <td>5</td>\n",
       "      <td>NaN</td>\n",
       "      <td>2018</td>\n",
       "      <td>5</td>\n",
       "    </tr>\n",
       "    <tr>\n",
       "      <th>78</th>\n",
       "      <td>Indie</td>\n",
       "      <td>SNOW - All Access Basic Pass</td>\n",
       "      <td>Single-player</td>\n",
       "      <td>9.99</td>\n",
       "      <td>False</td>\n",
       "      <td>0</td>\n",
       "      <td>NaN</td>\n",
       "      <td>2018</td>\n",
       "      <td>5</td>\n",
       "    </tr>\n",
       "    <tr>\n",
       "      <th>79</th>\n",
       "      <td>Indie</td>\n",
       "      <td>SNOW - All Access Basic Pass</td>\n",
       "      <td>Multi-player</td>\n",
       "      <td>9.99</td>\n",
       "      <td>False</td>\n",
       "      <td>0</td>\n",
       "      <td>NaN</td>\n",
       "      <td>2018</td>\n",
       "      <td>5</td>\n",
       "    </tr>\n",
       "    <tr>\n",
       "      <th>80</th>\n",
       "      <td>Indie</td>\n",
       "      <td>SNOW - All Access Basic Pass</td>\n",
       "      <td>Online Multi-Player</td>\n",
       "      <td>9.99</td>\n",
       "      <td>False</td>\n",
       "      <td>0</td>\n",
       "      <td>NaN</td>\n",
       "      <td>2018</td>\n",
       "      <td>5</td>\n",
       "    </tr>\n",
       "    <tr>\n",
       "      <th>81</th>\n",
       "      <td>Indie</td>\n",
       "      <td>SNOW - All Access Basic Pass</td>\n",
       "      <td>Cross-Platform Multiplayer</td>\n",
       "      <td>9.99</td>\n",
       "      <td>False</td>\n",
       "      <td>0</td>\n",
       "      <td>NaN</td>\n",
       "      <td>2018</td>\n",
       "      <td>5</td>\n",
       "    </tr>\n",
       "    <tr>\n",
       "      <th>82</th>\n",
       "      <td>Indie</td>\n",
       "      <td>SNOW - All Access Basic Pass</td>\n",
       "      <td>Downloadable Content</td>\n",
       "      <td>9.99</td>\n",
       "      <td>False</td>\n",
       "      <td>0</td>\n",
       "      <td>NaN</td>\n",
       "      <td>2018</td>\n",
       "      <td>5</td>\n",
       "    </tr>\n",
       "    <tr>\n",
       "      <th>83</th>\n",
       "      <td>Indie</td>\n",
       "      <td>SNOW - All Access Basic Pass</td>\n",
       "      <td>Steam Achievements</td>\n",
       "      <td>9.99</td>\n",
       "      <td>False</td>\n",
       "      <td>0</td>\n",
       "      <td>NaN</td>\n",
       "      <td>2018</td>\n",
       "      <td>5</td>\n",
       "    </tr>\n",
       "  </tbody>\n",
       "</table>\n",
       "</div>"
      ],
      "text/plain": [
       "        genres                      app_name                       specs  \\\n",
       "0       Action           Lost Summoner Kitty               Single-player   \n",
       "1       Casual           Lost Summoner Kitty               Single-player   \n",
       "2        Indie           Lost Summoner Kitty               Single-player   \n",
       "3   Simulation           Lost Summoner Kitty               Single-player   \n",
       "4     Strategy           Lost Summoner Kitty               Single-player   \n",
       "58      Action                       弹炸人2222               Single-player   \n",
       "59   Adventure                       弹炸人2222               Single-player   \n",
       "60      Casual                       弹炸人2222               Single-player   \n",
       "61      Action         Battle Royale Trainer               Single-player   \n",
       "62      Action         Battle Royale Trainer          Steam Achievements   \n",
       "63   Adventure         Battle Royale Trainer               Single-player   \n",
       "64   Adventure         Battle Royale Trainer          Steam Achievements   \n",
       "65  Simulation         Battle Royale Trainer               Single-player   \n",
       "66  Simulation         Battle Royale Trainer          Steam Achievements   \n",
       "78       Indie  SNOW - All Access Basic Pass               Single-player   \n",
       "79       Indie  SNOW - All Access Basic Pass                Multi-player   \n",
       "80       Indie  SNOW - All Access Basic Pass         Online Multi-Player   \n",
       "81       Indie  SNOW - All Access Basic Pass  Cross-Platform Multiplayer   \n",
       "82       Indie  SNOW - All Access Basic Pass        Downloadable Content   \n",
       "83       Indie  SNOW - All Access Basic Pass          Steam Achievements   \n",
       "\n",
       "    price  early_access  sentiment  metascore  release_year  anios  \n",
       "0    4.99         False          0        NaN          2018      5  \n",
       "1    4.99         False          0        NaN          2018      5  \n",
       "2    4.99         False          0        NaN          2018      5  \n",
       "3    4.99         False          0        NaN          2018      5  \n",
       "4    4.99         False          0        NaN          2018      5  \n",
       "58   0.99         False          0        NaN          2017      6  \n",
       "59   0.99         False          0        NaN          2017      6  \n",
       "60   0.99         False          0        NaN          2017      6  \n",
       "61   3.99         False          5        NaN          2018      5  \n",
       "62   3.99         False          5        NaN          2018      5  \n",
       "63   3.99         False          5        NaN          2018      5  \n",
       "64   3.99         False          5        NaN          2018      5  \n",
       "65   3.99         False          5        NaN          2018      5  \n",
       "66   3.99         False          5        NaN          2018      5  \n",
       "78   9.99         False          0        NaN          2018      5  \n",
       "79   9.99         False          0        NaN          2018      5  \n",
       "80   9.99         False          0        NaN          2018      5  \n",
       "81   9.99         False          0        NaN          2018      5  \n",
       "82   9.99         False          0        NaN          2018      5  \n",
       "83   9.99         False          0        NaN          2018      5  "
      ]
     },
     "execution_count": 3086,
     "metadata": {},
     "output_type": "execute_result"
    }
   ],
   "source": [
    "df2.head(20)"
   ]
  },
  {
   "cell_type": "markdown",
   "metadata": {},
   "source": [
    "7.g - Análisis de la variable specs"
   ]
  },
  {
   "cell_type": "code",
   "execution_count": 3087,
   "metadata": {},
   "outputs": [
    {
     "data": {
      "text/plain": [
       "29"
      ]
     },
     "execution_count": 3087,
     "metadata": {},
     "output_type": "execute_result"
    }
   ],
   "source": [
    "df2.specs.nunique()"
   ]
  },
  {
   "cell_type": "code",
   "execution_count": 3088,
   "metadata": {},
   "outputs": [],
   "source": [
    "df_specs = df2.drop_duplicates(subset=['app_name','specs'])"
   ]
  },
  {
   "cell_type": "code",
   "execution_count": 3089,
   "metadata": {},
   "outputs": [
    {
     "data": {
      "text/html": [
       "<div>\n",
       "<style scoped>\n",
       "    .dataframe tbody tr th:only-of-type {\n",
       "        vertical-align: middle;\n",
       "    }\n",
       "\n",
       "    .dataframe tbody tr th {\n",
       "        vertical-align: top;\n",
       "    }\n",
       "\n",
       "    .dataframe thead th {\n",
       "        text-align: right;\n",
       "    }\n",
       "</style>\n",
       "<table border=\"1\" class=\"dataframe\">\n",
       "  <thead>\n",
       "    <tr style=\"text-align: right;\">\n",
       "      <th></th>\n",
       "      <th>genres</th>\n",
       "      <th>app_name</th>\n",
       "      <th>specs</th>\n",
       "      <th>price</th>\n",
       "      <th>early_access</th>\n",
       "      <th>sentiment</th>\n",
       "      <th>metascore</th>\n",
       "      <th>release_year</th>\n",
       "      <th>anios</th>\n",
       "    </tr>\n",
       "  </thead>\n",
       "  <tbody>\n",
       "    <tr>\n",
       "      <th>0</th>\n",
       "      <td>Action</td>\n",
       "      <td>Lost Summoner Kitty</td>\n",
       "      <td>Single-player</td>\n",
       "      <td>4.99</td>\n",
       "      <td>False</td>\n",
       "      <td>0</td>\n",
       "      <td>NaN</td>\n",
       "      <td>2018</td>\n",
       "      <td>5</td>\n",
       "    </tr>\n",
       "    <tr>\n",
       "      <th>58</th>\n",
       "      <td>Action</td>\n",
       "      <td>弹炸人2222</td>\n",
       "      <td>Single-player</td>\n",
       "      <td>0.99</td>\n",
       "      <td>False</td>\n",
       "      <td>0</td>\n",
       "      <td>NaN</td>\n",
       "      <td>2017</td>\n",
       "      <td>6</td>\n",
       "    </tr>\n",
       "    <tr>\n",
       "      <th>61</th>\n",
       "      <td>Action</td>\n",
       "      <td>Battle Royale Trainer</td>\n",
       "      <td>Single-player</td>\n",
       "      <td>3.99</td>\n",
       "      <td>False</td>\n",
       "      <td>5</td>\n",
       "      <td>NaN</td>\n",
       "      <td>2018</td>\n",
       "      <td>5</td>\n",
       "    </tr>\n",
       "    <tr>\n",
       "      <th>62</th>\n",
       "      <td>Action</td>\n",
       "      <td>Battle Royale Trainer</td>\n",
       "      <td>Steam Achievements</td>\n",
       "      <td>3.99</td>\n",
       "      <td>False</td>\n",
       "      <td>5</td>\n",
       "      <td>NaN</td>\n",
       "      <td>2018</td>\n",
       "      <td>5</td>\n",
       "    </tr>\n",
       "    <tr>\n",
       "      <th>78</th>\n",
       "      <td>Indie</td>\n",
       "      <td>SNOW - All Access Basic Pass</td>\n",
       "      <td>Single-player</td>\n",
       "      <td>9.99</td>\n",
       "      <td>False</td>\n",
       "      <td>0</td>\n",
       "      <td>NaN</td>\n",
       "      <td>2018</td>\n",
       "      <td>5</td>\n",
       "    </tr>\n",
       "    <tr>\n",
       "      <th>79</th>\n",
       "      <td>Indie</td>\n",
       "      <td>SNOW - All Access Basic Pass</td>\n",
       "      <td>Multi-player</td>\n",
       "      <td>9.99</td>\n",
       "      <td>False</td>\n",
       "      <td>0</td>\n",
       "      <td>NaN</td>\n",
       "      <td>2018</td>\n",
       "      <td>5</td>\n",
       "    </tr>\n",
       "    <tr>\n",
       "      <th>80</th>\n",
       "      <td>Indie</td>\n",
       "      <td>SNOW - All Access Basic Pass</td>\n",
       "      <td>Online Multi-Player</td>\n",
       "      <td>9.99</td>\n",
       "      <td>False</td>\n",
       "      <td>0</td>\n",
       "      <td>NaN</td>\n",
       "      <td>2018</td>\n",
       "      <td>5</td>\n",
       "    </tr>\n",
       "    <tr>\n",
       "      <th>81</th>\n",
       "      <td>Indie</td>\n",
       "      <td>SNOW - All Access Basic Pass</td>\n",
       "      <td>Cross-Platform Multiplayer</td>\n",
       "      <td>9.99</td>\n",
       "      <td>False</td>\n",
       "      <td>0</td>\n",
       "      <td>NaN</td>\n",
       "      <td>2018</td>\n",
       "      <td>5</td>\n",
       "    </tr>\n",
       "    <tr>\n",
       "      <th>82</th>\n",
       "      <td>Indie</td>\n",
       "      <td>SNOW - All Access Basic Pass</td>\n",
       "      <td>Downloadable Content</td>\n",
       "      <td>9.99</td>\n",
       "      <td>False</td>\n",
       "      <td>0</td>\n",
       "      <td>NaN</td>\n",
       "      <td>2018</td>\n",
       "      <td>5</td>\n",
       "    </tr>\n",
       "    <tr>\n",
       "      <th>83</th>\n",
       "      <td>Indie</td>\n",
       "      <td>SNOW - All Access Basic Pass</td>\n",
       "      <td>Steam Achievements</td>\n",
       "      <td>9.99</td>\n",
       "      <td>False</td>\n",
       "      <td>0</td>\n",
       "      <td>NaN</td>\n",
       "      <td>2018</td>\n",
       "      <td>5</td>\n",
       "    </tr>\n",
       "  </tbody>\n",
       "</table>\n",
       "</div>"
      ],
      "text/plain": [
       "    genres                      app_name                       specs  price  \\\n",
       "0   Action           Lost Summoner Kitty               Single-player   4.99   \n",
       "58  Action                       弹炸人2222               Single-player   0.99   \n",
       "61  Action         Battle Royale Trainer               Single-player   3.99   \n",
       "62  Action         Battle Royale Trainer          Steam Achievements   3.99   \n",
       "78   Indie  SNOW - All Access Basic Pass               Single-player   9.99   \n",
       "79   Indie  SNOW - All Access Basic Pass                Multi-player   9.99   \n",
       "80   Indie  SNOW - All Access Basic Pass         Online Multi-Player   9.99   \n",
       "81   Indie  SNOW - All Access Basic Pass  Cross-Platform Multiplayer   9.99   \n",
       "82   Indie  SNOW - All Access Basic Pass        Downloadable Content   9.99   \n",
       "83   Indie  SNOW - All Access Basic Pass          Steam Achievements   9.99   \n",
       "\n",
       "    early_access  sentiment  metascore  release_year  anios  \n",
       "0          False          0        NaN          2018      5  \n",
       "58         False          0        NaN          2017      6  \n",
       "61         False          5        NaN          2018      5  \n",
       "62         False          5        NaN          2018      5  \n",
       "78         False          0        NaN          2018      5  \n",
       "79         False          0        NaN          2018      5  \n",
       "80         False          0        NaN          2018      5  \n",
       "81         False          0        NaN          2018      5  \n",
       "82         False          0        NaN          2018      5  \n",
       "83         False          0        NaN          2018      5  "
      ]
     },
     "execution_count": 3089,
     "metadata": {},
     "output_type": "execute_result"
    }
   ],
   "source": [
    "df_specs.head(10)"
   ]
  },
  {
   "cell_type": "code",
   "execution_count": 3090,
   "metadata": {},
   "outputs": [
    {
     "data": {
      "image/png": "[encoded data removed]",
      "text/plain": [
       "<Figure size 2000x600 with 1 Axes>"
      ]
     },
     "metadata": {},
     "output_type": "display_data"
    }
   ],
   "source": [
    "plt.figure(figsize=(20, 6))\n",
    "# Crear el histograma utilizando Seaborn\n",
    "sns.histplot(data=df_specs, x='specs', kde=False, bins=23, color='green')\n",
    "\n",
    "# Añadir etiquetas y título\n",
    "plt.xlabel('specs')\n",
    "plt.ylabel('Frecuencia')\n",
    "plt.title('Histograma de specs')\n",
    "\n",
    "# Mostrar el histograma\n",
    "plt.show()"
   ]
  },
  {
   "cell_type": "code",
   "execution_count": 3091,
   "metadata": {},
   "outputs": [],
   "source": [
    "bin_counts_specs = df_specs['specs'].value_counts() # Cálcula el conteo de observaciones en cada bin"
   ]
  },
  {
   "cell_type": "code",
   "execution_count": 3092,
   "metadata": {},
   "outputs": [],
   "source": [
    "df_conteo = pd.DataFrame(bin_counts_specs).reset_index()  #Crea un data frame con los generos y el conteo - df_conteo es un data frame auxiliar\n",
    "df_conteo.columns = ['specs', 'cantidad']"
   ]
  },
  {
   "cell_type": "code",
   "execution_count": 3093,
   "metadata": {},
   "outputs": [],
   "source": [
    "df_conteo['porcentaje'] = round((df_conteo['cantidad']/df_specs.shape[0])*100,2)   #Crea una columna de porcentajes de los conteos "
   ]
  },
  {
   "cell_type": "code",
   "execution_count": 3094,
   "metadata": {},
   "outputs": [
    {
     "data": {
      "text/html": [
       "<div>\n",
       "<style scoped>\n",
       "    .dataframe tbody tr th:only-of-type {\n",
       "        vertical-align: middle;\n",
       "    }\n",
       "\n",
       "    .dataframe tbody tr th {\n",
       "        vertical-align: top;\n",
       "    }\n",
       "\n",
       "    .dataframe thead th {\n",
       "        text-align: right;\n",
       "    }\n",
       "</style>\n",
       "<table border=\"1\" class=\"dataframe\">\n",
       "  <thead>\n",
       "    <tr style=\"text-align: right;\">\n",
       "      <th></th>\n",
       "      <th>specs</th>\n",
       "      <th>cantidad</th>\n",
       "      <th>porcentaje</th>\n",
       "    </tr>\n",
       "  </thead>\n",
       "  <tbody>\n",
       "    <tr>\n",
       "      <th>0</th>\n",
       "      <td>Single-player</td>\n",
       "      <td>22964</td>\n",
       "      <td>20.29</td>\n",
       "    </tr>\n",
       "    <tr>\n",
       "      <th>1</th>\n",
       "      <td>Steam Achievements</td>\n",
       "      <td>14254</td>\n",
       "      <td>12.60</td>\n",
       "    </tr>\n",
       "    <tr>\n",
       "      <th>2</th>\n",
       "      <td>Downloadable Content</td>\n",
       "      <td>10988</td>\n",
       "      <td>9.71</td>\n",
       "    </tr>\n",
       "    <tr>\n",
       "      <th>3</th>\n",
       "      <td>Steam Trading Cards</td>\n",
       "      <td>10800</td>\n",
       "      <td>9.54</td>\n",
       "    </tr>\n",
       "    <tr>\n",
       "      <th>4</th>\n",
       "      <td>Steam Cloud</td>\n",
       "      <td>8978</td>\n",
       "      <td>7.93</td>\n",
       "    </tr>\n",
       "    <tr>\n",
       "      <th>5</th>\n",
       "      <td>Multi-player</td>\n",
       "      <td>6892</td>\n",
       "      <td>6.09</td>\n",
       "    </tr>\n",
       "    <tr>\n",
       "      <th>6</th>\n",
       "      <td>Full controller support</td>\n",
       "      <td>6391</td>\n",
       "      <td>5.65</td>\n",
       "    </tr>\n",
       "    <tr>\n",
       "      <th>7</th>\n",
       "      <td>Partial Controller Support</td>\n",
       "      <td>5653</td>\n",
       "      <td>5.00</td>\n",
       "    </tr>\n",
       "    <tr>\n",
       "      <th>8</th>\n",
       "      <td>Steam Leaderboards</td>\n",
       "      <td>5407</td>\n",
       "      <td>4.78</td>\n",
       "    </tr>\n",
       "    <tr>\n",
       "      <th>9</th>\n",
       "      <td>Co-op</td>\n",
       "      <td>3731</td>\n",
       "      <td>3.30</td>\n",
       "    </tr>\n",
       "  </tbody>\n",
       "</table>\n",
       "</div>"
      ],
      "text/plain": [
       "                        specs  cantidad  porcentaje\n",
       "0               Single-player     22964       20.29\n",
       "1          Steam Achievements     14254       12.60\n",
       "2        Downloadable Content     10988        9.71\n",
       "3         Steam Trading Cards     10800        9.54\n",
       "4                 Steam Cloud      8978        7.93\n",
       "5                Multi-player      6892        6.09\n",
       "6     Full controller support      6391        5.65\n",
       "7  Partial Controller Support      5653        5.00\n",
       "8          Steam Leaderboards      5407        4.78\n",
       "9                       Co-op      3731        3.30"
      ]
     },
     "execution_count": 3094,
     "metadata": {},
     "output_type": "execute_result"
    }
   ],
   "source": [
    "df_conteo.head(10)"
   ]
  },
  {
   "cell_type": "markdown",
   "metadata": {},
   "source": [
    "De los resultados obtenidos d frecuencias de géneros, vamos en considerar los primeros 7, que representan aproximadamente el 85% del conjunto"
   ]
  },
  {
   "cell_type": "code",
   "execution_count": 3095,
   "metadata": {},
   "outputs": [
    {
     "name": "stdout",
     "output_type": "stream",
     "text": [
      "10\n"
     ]
    }
   ],
   "source": [
    "muestra = 0                             \n",
    "item = 0\n",
    "for i in range(0,df_conteo.shape[0]):\n",
    "    if muestra <= 85:\n",
    "        item +=1\n",
    "        muestra = muestra + df_conteo.iloc[i,2]\n",
    "    else:\n",
    "        break\n",
    "print(item-1)"
   ]
  },
  {
   "cell_type": "code",
   "execution_count": 3096,
   "metadata": {},
   "outputs": [
    {
     "data": {
      "text/plain": [
       "(29, 3)"
      ]
     },
     "execution_count": 3096,
     "metadata": {},
     "output_type": "execute_result"
    }
   ],
   "source": [
    "df_conteo.shape"
   ]
  },
  {
   "cell_type": "markdown",
   "metadata": {},
   "source": [
    "Eliminación de sepcs irrelevantes para el proceso"
   ]
  },
  {
   "cell_type": "code",
   "execution_count": 3097,
   "metadata": {},
   "outputs": [
    {
     "data": {
      "text/plain": [
       "['Shared/Split Screen',\n",
       " 'Cross-Platform Multiplayer',\n",
       " 'Stats',\n",
       " 'Online Multi-Player',\n",
       " 'Steam Workshop',\n",
       " 'Includes level editor',\n",
       " 'Local Multi-Player',\n",
       " 'Captions available',\n",
       " 'Online Co-op',\n",
       " 'Local Co-op',\n",
       " 'MMO',\n",
       " 'In-App Purchases',\n",
       " 'Valve Anti-Cheat enabled',\n",
       " 'Commentary available',\n",
       " 'Steam Turn Notifications',\n",
       " 'Sin Datos',\n",
       " 'Includes Source SDK',\n",
       " 'SteamVR Collectibles',\n",
       " 'Game demo']"
      ]
     },
     "execution_count": 3097,
     "metadata": {},
     "output_type": "execute_result"
    }
   ],
   "source": [
    "lista_gen_del = df_conteo.iloc[10:30,0].to_list()    #Creacion de una lista para eliminar registros\n",
    "lista_gen_del"
   ]
  },
  {
   "cell_type": "code",
   "execution_count": 3098,
   "metadata": {},
   "outputs": [],
   "source": [
    "del df_specs\n",
    "del df_conteo"
   ]
  },
  {
   "cell_type": "code",
   "execution_count": 3099,
   "metadata": {},
   "outputs": [],
   "source": [
    "mask = df2['specs'].isin(lista_gen_del)    # Crear una máscara booleana para filtrar las filas a eliminar\n",
    "df3 = df2[~mask]    # Eliminar las filas que cumplen con la condición - df3 es el data frame del proyecto (Rev.3)"
   ]
  },
  {
   "cell_type": "code",
   "execution_count": 3100,
   "metadata": {},
   "outputs": [],
   "source": [
    "del df2"
   ]
  },
  {
   "cell_type": "code",
   "execution_count": 3101,
   "metadata": {},
   "outputs": [
    {
     "data": {
      "text/html": [
       "<div>\n",
       "<style scoped>\n",
       "    .dataframe tbody tr th:only-of-type {\n",
       "        vertical-align: middle;\n",
       "    }\n",
       "\n",
       "    .dataframe tbody tr th {\n",
       "        vertical-align: top;\n",
       "    }\n",
       "\n",
       "    .dataframe thead th {\n",
       "        text-align: right;\n",
       "    }\n",
       "</style>\n",
       "<table border=\"1\" class=\"dataframe\">\n",
       "  <thead>\n",
       "    <tr style=\"text-align: right;\">\n",
       "      <th></th>\n",
       "      <th>genres</th>\n",
       "      <th>app_name</th>\n",
       "      <th>specs</th>\n",
       "      <th>price</th>\n",
       "      <th>early_access</th>\n",
       "      <th>sentiment</th>\n",
       "      <th>metascore</th>\n",
       "      <th>release_year</th>\n",
       "      <th>anios</th>\n",
       "    </tr>\n",
       "  </thead>\n",
       "  <tbody>\n",
       "    <tr>\n",
       "      <th>0</th>\n",
       "      <td>Action</td>\n",
       "      <td>Lost Summoner Kitty</td>\n",
       "      <td>Single-player</td>\n",
       "      <td>4.99</td>\n",
       "      <td>False</td>\n",
       "      <td>0</td>\n",
       "      <td>NaN</td>\n",
       "      <td>2018</td>\n",
       "      <td>5</td>\n",
       "    </tr>\n",
       "    <tr>\n",
       "      <th>1</th>\n",
       "      <td>Casual</td>\n",
       "      <td>Lost Summoner Kitty</td>\n",
       "      <td>Single-player</td>\n",
       "      <td>4.99</td>\n",
       "      <td>False</td>\n",
       "      <td>0</td>\n",
       "      <td>NaN</td>\n",
       "      <td>2018</td>\n",
       "      <td>5</td>\n",
       "    </tr>\n",
       "    <tr>\n",
       "      <th>2</th>\n",
       "      <td>Indie</td>\n",
       "      <td>Lost Summoner Kitty</td>\n",
       "      <td>Single-player</td>\n",
       "      <td>4.99</td>\n",
       "      <td>False</td>\n",
       "      <td>0</td>\n",
       "      <td>NaN</td>\n",
       "      <td>2018</td>\n",
       "      <td>5</td>\n",
       "    </tr>\n",
       "    <tr>\n",
       "      <th>3</th>\n",
       "      <td>Simulation</td>\n",
       "      <td>Lost Summoner Kitty</td>\n",
       "      <td>Single-player</td>\n",
       "      <td>4.99</td>\n",
       "      <td>False</td>\n",
       "      <td>0</td>\n",
       "      <td>NaN</td>\n",
       "      <td>2018</td>\n",
       "      <td>5</td>\n",
       "    </tr>\n",
       "    <tr>\n",
       "      <th>4</th>\n",
       "      <td>Strategy</td>\n",
       "      <td>Lost Summoner Kitty</td>\n",
       "      <td>Single-player</td>\n",
       "      <td>4.99</td>\n",
       "      <td>False</td>\n",
       "      <td>0</td>\n",
       "      <td>NaN</td>\n",
       "      <td>2018</td>\n",
       "      <td>5</td>\n",
       "    </tr>\n",
       "    <tr>\n",
       "      <th>58</th>\n",
       "      <td>Action</td>\n",
       "      <td>弹炸人2222</td>\n",
       "      <td>Single-player</td>\n",
       "      <td>0.99</td>\n",
       "      <td>False</td>\n",
       "      <td>0</td>\n",
       "      <td>NaN</td>\n",
       "      <td>2017</td>\n",
       "      <td>6</td>\n",
       "    </tr>\n",
       "    <tr>\n",
       "      <th>59</th>\n",
       "      <td>Adventure</td>\n",
       "      <td>弹炸人2222</td>\n",
       "      <td>Single-player</td>\n",
       "      <td>0.99</td>\n",
       "      <td>False</td>\n",
       "      <td>0</td>\n",
       "      <td>NaN</td>\n",
       "      <td>2017</td>\n",
       "      <td>6</td>\n",
       "    </tr>\n",
       "    <tr>\n",
       "      <th>60</th>\n",
       "      <td>Casual</td>\n",
       "      <td>弹炸人2222</td>\n",
       "      <td>Single-player</td>\n",
       "      <td>0.99</td>\n",
       "      <td>False</td>\n",
       "      <td>0</td>\n",
       "      <td>NaN</td>\n",
       "      <td>2017</td>\n",
       "      <td>6</td>\n",
       "    </tr>\n",
       "    <tr>\n",
       "      <th>61</th>\n",
       "      <td>Action</td>\n",
       "      <td>Battle Royale Trainer</td>\n",
       "      <td>Single-player</td>\n",
       "      <td>3.99</td>\n",
       "      <td>False</td>\n",
       "      <td>5</td>\n",
       "      <td>NaN</td>\n",
       "      <td>2018</td>\n",
       "      <td>5</td>\n",
       "    </tr>\n",
       "    <tr>\n",
       "      <th>62</th>\n",
       "      <td>Action</td>\n",
       "      <td>Battle Royale Trainer</td>\n",
       "      <td>Steam Achievements</td>\n",
       "      <td>3.99</td>\n",
       "      <td>False</td>\n",
       "      <td>5</td>\n",
       "      <td>NaN</td>\n",
       "      <td>2018</td>\n",
       "      <td>5</td>\n",
       "    </tr>\n",
       "  </tbody>\n",
       "</table>\n",
       "</div>"
      ],
      "text/plain": [
       "        genres               app_name               specs  price  \\\n",
       "0       Action    Lost Summoner Kitty       Single-player   4.99   \n",
       "1       Casual    Lost Summoner Kitty       Single-player   4.99   \n",
       "2        Indie    Lost Summoner Kitty       Single-player   4.99   \n",
       "3   Simulation    Lost Summoner Kitty       Single-player   4.99   \n",
       "4     Strategy    Lost Summoner Kitty       Single-player   4.99   \n",
       "58      Action                弹炸人2222       Single-player   0.99   \n",
       "59   Adventure                弹炸人2222       Single-player   0.99   \n",
       "60      Casual                弹炸人2222       Single-player   0.99   \n",
       "61      Action  Battle Royale Trainer       Single-player   3.99   \n",
       "62      Action  Battle Royale Trainer  Steam Achievements   3.99   \n",
       "\n",
       "    early_access  sentiment  metascore  release_year  anios  \n",
       "0          False          0        NaN          2018      5  \n",
       "1          False          0        NaN          2018      5  \n",
       "2          False          0        NaN          2018      5  \n",
       "3          False          0        NaN          2018      5  \n",
       "4          False          0        NaN          2018      5  \n",
       "58         False          0        NaN          2017      6  \n",
       "59         False          0        NaN          2017      6  \n",
       "60         False          0        NaN          2017      6  \n",
       "61         False          5        NaN          2018      5  \n",
       "62         False          5        NaN          2018      5  "
      ]
     },
     "execution_count": 3101,
     "metadata": {},
     "output_type": "execute_result"
    }
   ],
   "source": [
    "df3.head(10)"
   ]
  },
  {
   "cell_type": "code",
   "execution_count": 3102,
   "metadata": {},
   "outputs": [
    {
     "data": {
      "text/plain": [
       "(214859, 9)"
      ]
     },
     "execution_count": 3102,
     "metadata": {},
     "output_type": "execute_result"
    }
   ],
   "source": [
    "df3.shape"
   ]
  },
  {
   "cell_type": "code",
   "execution_count": 3103,
   "metadata": {},
   "outputs": [
    {
     "data": {
      "text/plain": [
       "<Axes: xlabel='specs', ylabel='price'>"
      ]
     },
     "execution_count": 3103,
     "metadata": {},
     "output_type": "execute_result"
    },
    {
     "data": {
      "image/png": "[encoded data removed]",
      "text/plain": [
       "<Figure size 2000x600 with 1 Axes>"
      ]
     },
     "metadata": {},
     "output_type": "display_data"
    }
   ],
   "source": [
    "plt.figure(figsize=(20, 6))\n",
    "sns.boxplot(x='specs', y='price',data=df3[df3['price']<25]) #Diagramas de cajas por genres filtrado por menores de 25"
   ]
  },
  {
   "cell_type": "markdown",
   "metadata": {},
   "source": [
    "Del diagrama de cajas podemos concluir que para estos diferentes specs el 75% tiene un precio por dejado de 10 y el 50% alrededor de 5."
   ]
  },
  {
   "cell_type": "code",
   "execution_count": 3104,
   "metadata": {},
   "outputs": [
    {
     "name": "stdout",
     "output_type": "stream",
     "text": [
      "<class 'pandas.core.frame.DataFrame'>\n",
      "Index: 214859 entries, 0 to 324455\n",
      "Data columns (total 9 columns):\n",
      " #   Column        Non-Null Count   Dtype  \n",
      "---  ------        --------------   -----  \n",
      " 0   genres        214859 non-null  object \n",
      " 1   app_name      214859 non-null  object \n",
      " 2   specs         214859 non-null  object \n",
      " 3   price         214859 non-null  float64\n",
      " 4   early_access  214859 non-null  bool   \n",
      " 5   sentiment     214859 non-null  int64  \n",
      " 6   metascore     19217 non-null   float64\n",
      " 7   release_year  214859 non-null  int64  \n",
      " 8   anios         214859 non-null  int64  \n",
      "dtypes: bool(1), float64(2), int64(3), object(3)\n",
      "memory usage: 15.0+ MB\n"
     ]
    }
   ],
   "source": [
    "df3.info()"
   ]
  },
  {
   "cell_type": "markdown",
   "metadata": {},
   "source": [
    "7.h - Análisis de la variable early_access"
   ]
  },
  {
   "cell_type": "code",
   "execution_count": 3105,
   "metadata": {},
   "outputs": [],
   "source": [
    "df_early_access = df3.drop_duplicates(subset='app_name')"
   ]
  },
  {
   "cell_type": "code",
   "execution_count": 3106,
   "metadata": {},
   "outputs": [
    {
     "data": {
      "text/html": [
       "<div>\n",
       "<style scoped>\n",
       "    .dataframe tbody tr th:only-of-type {\n",
       "        vertical-align: middle;\n",
       "    }\n",
       "\n",
       "    .dataframe tbody tr th {\n",
       "        vertical-align: top;\n",
       "    }\n",
       "\n",
       "    .dataframe thead th {\n",
       "        text-align: right;\n",
       "    }\n",
       "</style>\n",
       "<table border=\"1\" class=\"dataframe\">\n",
       "  <thead>\n",
       "    <tr style=\"text-align: right;\">\n",
       "      <th></th>\n",
       "      <th>genres</th>\n",
       "      <th>app_name</th>\n",
       "      <th>specs</th>\n",
       "      <th>price</th>\n",
       "      <th>early_access</th>\n",
       "      <th>sentiment</th>\n",
       "      <th>metascore</th>\n",
       "      <th>release_year</th>\n",
       "      <th>anios</th>\n",
       "    </tr>\n",
       "  </thead>\n",
       "  <tbody>\n",
       "    <tr>\n",
       "      <th>0</th>\n",
       "      <td>Action</td>\n",
       "      <td>Lost Summoner Kitty</td>\n",
       "      <td>Single-player</td>\n",
       "      <td>4.99</td>\n",
       "      <td>False</td>\n",
       "      <td>0</td>\n",
       "      <td>NaN</td>\n",
       "      <td>2018</td>\n",
       "      <td>5</td>\n",
       "    </tr>\n",
       "    <tr>\n",
       "      <th>58</th>\n",
       "      <td>Action</td>\n",
       "      <td>弹炸人2222</td>\n",
       "      <td>Single-player</td>\n",
       "      <td>0.99</td>\n",
       "      <td>False</td>\n",
       "      <td>0</td>\n",
       "      <td>NaN</td>\n",
       "      <td>2017</td>\n",
       "      <td>6</td>\n",
       "    </tr>\n",
       "    <tr>\n",
       "      <th>61</th>\n",
       "      <td>Action</td>\n",
       "      <td>Battle Royale Trainer</td>\n",
       "      <td>Single-player</td>\n",
       "      <td>3.99</td>\n",
       "      <td>False</td>\n",
       "      <td>5</td>\n",
       "      <td>NaN</td>\n",
       "      <td>2018</td>\n",
       "      <td>5</td>\n",
       "    </tr>\n",
       "    <tr>\n",
       "      <th>78</th>\n",
       "      <td>Indie</td>\n",
       "      <td>SNOW - All Access Basic Pass</td>\n",
       "      <td>Single-player</td>\n",
       "      <td>9.99</td>\n",
       "      <td>False</td>\n",
       "      <td>0</td>\n",
       "      <td>NaN</td>\n",
       "      <td>2018</td>\n",
       "      <td>5</td>\n",
       "    </tr>\n",
       "    <tr>\n",
       "      <th>122</th>\n",
       "      <td>Indie</td>\n",
       "      <td>SNOW - All Access Pro Pass</td>\n",
       "      <td>Single-player</td>\n",
       "      <td>18.99</td>\n",
       "      <td>False</td>\n",
       "      <td>0</td>\n",
       "      <td>NaN</td>\n",
       "      <td>2018</td>\n",
       "      <td>5</td>\n",
       "    </tr>\n",
       "    <tr>\n",
       "      <th>166</th>\n",
       "      <td>Indie</td>\n",
       "      <td>SNOW - All Access Legend Pass</td>\n",
       "      <td>Single-player</td>\n",
       "      <td>29.99</td>\n",
       "      <td>False</td>\n",
       "      <td>0</td>\n",
       "      <td>NaN</td>\n",
       "      <td>2018</td>\n",
       "      <td>5</td>\n",
       "    </tr>\n",
       "    <tr>\n",
       "      <th>211</th>\n",
       "      <td>Action</td>\n",
       "      <td>Army of Tentacles: (Not) A Cthulhu Dating Sim:...</td>\n",
       "      <td>Single-player</td>\n",
       "      <td>10.99</td>\n",
       "      <td>False</td>\n",
       "      <td>0</td>\n",
       "      <td>NaN</td>\n",
       "      <td>2018</td>\n",
       "      <td>5</td>\n",
       "    </tr>\n",
       "    <tr>\n",
       "      <th>221</th>\n",
       "      <td>Casual</td>\n",
       "      <td>Beach Rules</td>\n",
       "      <td>Single-player</td>\n",
       "      <td>3.99</td>\n",
       "      <td>False</td>\n",
       "      <td>0</td>\n",
       "      <td>NaN</td>\n",
       "      <td>2018</td>\n",
       "      <td>5</td>\n",
       "    </tr>\n",
       "    <tr>\n",
       "      <th>223</th>\n",
       "      <td>Casual</td>\n",
       "      <td>Planetarium 2 - Zen Odyssey</td>\n",
       "      <td>Single-player</td>\n",
       "      <td>2.99</td>\n",
       "      <td>False</td>\n",
       "      <td>0</td>\n",
       "      <td>NaN</td>\n",
       "      <td>2018</td>\n",
       "      <td>5</td>\n",
       "    </tr>\n",
       "    <tr>\n",
       "      <th>226</th>\n",
       "      <td>Adventure</td>\n",
       "      <td>The first thrust of God</td>\n",
       "      <td>Single-player</td>\n",
       "      <td>1.59</td>\n",
       "      <td>False</td>\n",
       "      <td>0</td>\n",
       "      <td>NaN</td>\n",
       "      <td>2018</td>\n",
       "      <td>5</td>\n",
       "    </tr>\n",
       "  </tbody>\n",
       "</table>\n",
       "</div>"
      ],
      "text/plain": [
       "        genres                                           app_name  \\\n",
       "0       Action                                Lost Summoner Kitty   \n",
       "58      Action                                            弹炸人2222   \n",
       "61      Action                              Battle Royale Trainer   \n",
       "78       Indie                       SNOW - All Access Basic Pass   \n",
       "122      Indie                         SNOW - All Access Pro Pass   \n",
       "166      Indie                      SNOW - All Access Legend Pass   \n",
       "211     Action  Army of Tentacles: (Not) A Cthulhu Dating Sim:...   \n",
       "221     Casual                                        Beach Rules   \n",
       "223     Casual                        Planetarium 2 - Zen Odyssey   \n",
       "226  Adventure                            The first thrust of God   \n",
       "\n",
       "             specs  price  early_access  sentiment  metascore  release_year  \\\n",
       "0    Single-player   4.99         False          0        NaN          2018   \n",
       "58   Single-player   0.99         False          0        NaN          2017   \n",
       "61   Single-player   3.99         False          5        NaN          2018   \n",
       "78   Single-player   9.99         False          0        NaN          2018   \n",
       "122  Single-player  18.99         False          0        NaN          2018   \n",
       "166  Single-player  29.99         False          0        NaN          2018   \n",
       "211  Single-player  10.99         False          0        NaN          2018   \n",
       "221  Single-player   3.99         False          0        NaN          2018   \n",
       "223  Single-player   2.99         False          0        NaN          2018   \n",
       "226  Single-player   1.59         False          0        NaN          2018   \n",
       "\n",
       "     anios  \n",
       "0        5  \n",
       "58       6  \n",
       "61       5  \n",
       "78       5  \n",
       "122      5  \n",
       "166      5  \n",
       "211      5  \n",
       "221      5  \n",
       "223      5  \n",
       "226      5  "
      ]
     },
     "execution_count": 3106,
     "metadata": {},
     "output_type": "execute_result"
    }
   ],
   "source": [
    "df_early_access.head(10)"
   ]
  },
  {
   "cell_type": "code",
   "execution_count": 3107,
   "metadata": {},
   "outputs": [
    {
     "data": {
      "text/plain": [
       "<Axes: xlabel='early_access', ylabel='price'>"
      ]
     },
     "execution_count": 3107,
     "metadata": {},
     "output_type": "execute_result"
    },
    {
     "data": {
      "image/png": "[encoded data removed]",
      "text/plain": [
       "<Figure size 2000x600 with 1 Axes>"
      ]
     },
     "metadata": {},
     "output_type": "display_data"
    }
   ],
   "source": [
    "plt.figure(figsize=(20, 6))\n",
    "sns.boxplot(x='early_access', y='price',data=df_early_access[df_early_access['price']<25]) #Diagramas de cajas por genres filtrado por menores de 25"
   ]
  },
  {
   "cell_type": "markdown",
   "metadata": {},
   "source": [
    "Se observa una variación. Si early_acces es False el 50% de los juegos está por debajo de 5 y el 75% por debajo de 10. Pero para el caso de True, el 50% está por debajo de 10 y el 75% por debajo de 15.\n",
    "Esto indica que hay una variación del precio por esta variable"
   ]
  },
  {
   "cell_type": "code",
   "execution_count": 3108,
   "metadata": {},
   "outputs": [
    {
     "name": "stdout",
     "output_type": "stream",
     "text": [
      "<class 'pandas.core.frame.DataFrame'>\n",
      "Index: 214859 entries, 0 to 324455\n",
      "Data columns (total 9 columns):\n",
      " #   Column        Non-Null Count   Dtype  \n",
      "---  ------        --------------   -----  \n",
      " 0   genres        214859 non-null  object \n",
      " 1   app_name      214859 non-null  object \n",
      " 2   specs         214859 non-null  object \n",
      " 3   price         214859 non-null  float64\n",
      " 4   early_access  214859 non-null  bool   \n",
      " 5   sentiment     214859 non-null  int64  \n",
      " 6   metascore     19217 non-null   float64\n",
      " 7   release_year  214859 non-null  int64  \n",
      " 8   anios         214859 non-null  int64  \n",
      "dtypes: bool(1), float64(2), int64(3), object(3)\n",
      "memory usage: 15.0+ MB\n"
     ]
    }
   ],
   "source": [
    "df3.info()"
   ]
  },
  {
   "cell_type": "code",
   "execution_count": 3109,
   "metadata": {},
   "outputs": [],
   "source": [
    "df4 = df3.copy()"
   ]
  },
  {
   "cell_type": "code",
   "execution_count": 3110,
   "metadata": {},
   "outputs": [],
   "source": [
    "del df3"
   ]
  },
  {
   "cell_type": "markdown",
   "metadata": {},
   "source": [
    "**8 – Eliminación de features irrelevantes**"
   ]
  },
  {
   "cell_type": "markdown",
   "metadata": {},
   "source": [
    "8.a – Eliminación de variable specs"
   ]
  },
  {
   "cell_type": "markdown",
   "metadata": {},
   "source": [
    "Por las conclusiones expuestas, a diferentes specs la distribución de price es muy similar"
   ]
  },
  {
   "cell_type": "code",
   "execution_count": 3111,
   "metadata": {},
   "outputs": [],
   "source": [
    "columnas_a_eliminar = ['specs']\n",
    "df4.drop(columns=columnas_a_eliminar, inplace=True)  "
   ]
  },
  {
   "cell_type": "code",
   "execution_count": 3112,
   "metadata": {},
   "outputs": [],
   "source": [
    "df4.drop_duplicates(subset=['genres','app_name'], inplace=True)     "
   ]
  },
  {
   "cell_type": "code",
   "execution_count": 3113,
   "metadata": {},
   "outputs": [
    {
     "data": {
      "text/plain": [
       "(56434, 8)"
      ]
     },
     "execution_count": 3113,
     "metadata": {},
     "output_type": "execute_result"
    }
   ],
   "source": [
    "df4.shape"
   ]
  },
  {
   "cell_type": "code",
   "execution_count": 3114,
   "metadata": {},
   "outputs": [],
   "source": [
    "df4.replace({False: 0, True: 1}, inplace=True) "
   ]
  },
  {
   "cell_type": "code",
   "execution_count": 3115,
   "metadata": {},
   "outputs": [
    {
     "data": {
      "text/html": [
       "<div>\n",
       "<style scoped>\n",
       "    .dataframe tbody tr th:only-of-type {\n",
       "        vertical-align: middle;\n",
       "    }\n",
       "\n",
       "    .dataframe tbody tr th {\n",
       "        vertical-align: top;\n",
       "    }\n",
       "\n",
       "    .dataframe thead th {\n",
       "        text-align: right;\n",
       "    }\n",
       "</style>\n",
       "<table border=\"1\" class=\"dataframe\">\n",
       "  <thead>\n",
       "    <tr style=\"text-align: right;\">\n",
       "      <th></th>\n",
       "      <th>genres</th>\n",
       "      <th>app_name</th>\n",
       "      <th>price</th>\n",
       "      <th>early_access</th>\n",
       "      <th>sentiment</th>\n",
       "      <th>metascore</th>\n",
       "      <th>release_year</th>\n",
       "      <th>anios</th>\n",
       "    </tr>\n",
       "  </thead>\n",
       "  <tbody>\n",
       "    <tr>\n",
       "      <th>0</th>\n",
       "      <td>Action</td>\n",
       "      <td>Lost Summoner Kitty</td>\n",
       "      <td>4.99</td>\n",
       "      <td>0</td>\n",
       "      <td>0</td>\n",
       "      <td>NaN</td>\n",
       "      <td>2018</td>\n",
       "      <td>5</td>\n",
       "    </tr>\n",
       "    <tr>\n",
       "      <th>1</th>\n",
       "      <td>Casual</td>\n",
       "      <td>Lost Summoner Kitty</td>\n",
       "      <td>4.99</td>\n",
       "      <td>0</td>\n",
       "      <td>0</td>\n",
       "      <td>NaN</td>\n",
       "      <td>2018</td>\n",
       "      <td>5</td>\n",
       "    </tr>\n",
       "    <tr>\n",
       "      <th>2</th>\n",
       "      <td>Indie</td>\n",
       "      <td>Lost Summoner Kitty</td>\n",
       "      <td>4.99</td>\n",
       "      <td>0</td>\n",
       "      <td>0</td>\n",
       "      <td>NaN</td>\n",
       "      <td>2018</td>\n",
       "      <td>5</td>\n",
       "    </tr>\n",
       "    <tr>\n",
       "      <th>3</th>\n",
       "      <td>Simulation</td>\n",
       "      <td>Lost Summoner Kitty</td>\n",
       "      <td>4.99</td>\n",
       "      <td>0</td>\n",
       "      <td>0</td>\n",
       "      <td>NaN</td>\n",
       "      <td>2018</td>\n",
       "      <td>5</td>\n",
       "    </tr>\n",
       "    <tr>\n",
       "      <th>4</th>\n",
       "      <td>Strategy</td>\n",
       "      <td>Lost Summoner Kitty</td>\n",
       "      <td>4.99</td>\n",
       "      <td>0</td>\n",
       "      <td>0</td>\n",
       "      <td>NaN</td>\n",
       "      <td>2018</td>\n",
       "      <td>5</td>\n",
       "    </tr>\n",
       "  </tbody>\n",
       "</table>\n",
       "</div>"
      ],
      "text/plain": [
       "       genres             app_name  price  early_access  sentiment  metascore  \\\n",
       "0      Action  Lost Summoner Kitty   4.99             0          0        NaN   \n",
       "1      Casual  Lost Summoner Kitty   4.99             0          0        NaN   \n",
       "2       Indie  Lost Summoner Kitty   4.99             0          0        NaN   \n",
       "3  Simulation  Lost Summoner Kitty   4.99             0          0        NaN   \n",
       "4    Strategy  Lost Summoner Kitty   4.99             0          0        NaN   \n",
       "\n",
       "   release_year  anios  \n",
       "0          2018      5  \n",
       "1          2018      5  \n",
       "2          2018      5  \n",
       "3          2018      5  \n",
       "4          2018      5  "
      ]
     },
     "execution_count": 3115,
     "metadata": {},
     "output_type": "execute_result"
    }
   ],
   "source": [
    "df4.head()"
   ]
  },
  {
   "cell_type": "markdown",
   "metadata": {},
   "source": [
    "**9 – Matrices de correlación**"
   ]
  },
  {
   "cell_type": "markdown",
   "metadata": {},
   "source": [
    "9.a – Matriz de correlación sin genres"
   ]
  },
  {
   "cell_type": "code",
   "execution_count": 3116,
   "metadata": {},
   "outputs": [],
   "source": [
    "df_mc1 = df4.copy()"
   ]
  },
  {
   "cell_type": "code",
   "execution_count": 3117,
   "metadata": {},
   "outputs": [],
   "source": [
    "df_mc1.drop_duplicates(subset='app_name', inplace=True)  #Elimina duplicados"
   ]
  },
  {
   "cell_type": "code",
   "execution_count": 3118,
   "metadata": {},
   "outputs": [
    {
     "data": {
      "text/html": [
       "<div>\n",
       "<style scoped>\n",
       "    .dataframe tbody tr th:only-of-type {\n",
       "        vertical-align: middle;\n",
       "    }\n",
       "\n",
       "    .dataframe tbody tr th {\n",
       "        vertical-align: top;\n",
       "    }\n",
       "\n",
       "    .dataframe thead th {\n",
       "        text-align: right;\n",
       "    }\n",
       "</style>\n",
       "<table border=\"1\" class=\"dataframe\">\n",
       "  <thead>\n",
       "    <tr style=\"text-align: right;\">\n",
       "      <th></th>\n",
       "      <th>genres</th>\n",
       "      <th>app_name</th>\n",
       "      <th>price</th>\n",
       "      <th>early_access</th>\n",
       "      <th>sentiment</th>\n",
       "      <th>metascore</th>\n",
       "      <th>release_year</th>\n",
       "      <th>anios</th>\n",
       "    </tr>\n",
       "  </thead>\n",
       "  <tbody>\n",
       "    <tr>\n",
       "      <th>0</th>\n",
       "      <td>Action</td>\n",
       "      <td>Lost Summoner Kitty</td>\n",
       "      <td>4.99</td>\n",
       "      <td>0</td>\n",
       "      <td>0</td>\n",
       "      <td>NaN</td>\n",
       "      <td>2018</td>\n",
       "      <td>5</td>\n",
       "    </tr>\n",
       "    <tr>\n",
       "      <th>58</th>\n",
       "      <td>Action</td>\n",
       "      <td>弹炸人2222</td>\n",
       "      <td>0.99</td>\n",
       "      <td>0</td>\n",
       "      <td>0</td>\n",
       "      <td>NaN</td>\n",
       "      <td>2017</td>\n",
       "      <td>6</td>\n",
       "    </tr>\n",
       "    <tr>\n",
       "      <th>61</th>\n",
       "      <td>Action</td>\n",
       "      <td>Battle Royale Trainer</td>\n",
       "      <td>3.99</td>\n",
       "      <td>0</td>\n",
       "      <td>5</td>\n",
       "      <td>NaN</td>\n",
       "      <td>2018</td>\n",
       "      <td>5</td>\n",
       "    </tr>\n",
       "    <tr>\n",
       "      <th>78</th>\n",
       "      <td>Indie</td>\n",
       "      <td>SNOW - All Access Basic Pass</td>\n",
       "      <td>9.99</td>\n",
       "      <td>0</td>\n",
       "      <td>0</td>\n",
       "      <td>NaN</td>\n",
       "      <td>2018</td>\n",
       "      <td>5</td>\n",
       "    </tr>\n",
       "    <tr>\n",
       "      <th>122</th>\n",
       "      <td>Indie</td>\n",
       "      <td>SNOW - All Access Pro Pass</td>\n",
       "      <td>18.99</td>\n",
       "      <td>0</td>\n",
       "      <td>0</td>\n",
       "      <td>NaN</td>\n",
       "      <td>2018</td>\n",
       "      <td>5</td>\n",
       "    </tr>\n",
       "  </tbody>\n",
       "</table>\n",
       "</div>"
      ],
      "text/plain": [
       "     genres                      app_name  price  early_access  sentiment  \\\n",
       "0    Action           Lost Summoner Kitty   4.99             0          0   \n",
       "58   Action                       弹炸人2222   0.99             0          0   \n",
       "61   Action         Battle Royale Trainer   3.99             0          5   \n",
       "78    Indie  SNOW - All Access Basic Pass   9.99             0          0   \n",
       "122   Indie    SNOW - All Access Pro Pass  18.99             0          0   \n",
       "\n",
       "     metascore  release_year  anios  \n",
       "0          NaN          2018      5  \n",
       "58         NaN          2017      6  \n",
       "61         NaN          2018      5  \n",
       "78         NaN          2018      5  \n",
       "122        NaN          2018      5  "
      ]
     },
     "execution_count": 3118,
     "metadata": {},
     "output_type": "execute_result"
    }
   ],
   "source": [
    "df_mc1.head()"
   ]
  },
  {
   "cell_type": "code",
   "execution_count": 3119,
   "metadata": {},
   "outputs": [],
   "source": [
    "eliminar_mc1 = ['genres', 'app_name']               #Las columnas app_name e imputación se eliminan por irrelevantes para este análisis\n",
    "df_mc1 = df_mc1.drop(columns=eliminar_mc1)"
   ]
  },
  {
   "cell_type": "code",
   "execution_count": 3120,
   "metadata": {},
   "outputs": [
    {
     "data": {
      "text/html": [
       "<div>\n",
       "<style scoped>\n",
       "    .dataframe tbody tr th:only-of-type {\n",
       "        vertical-align: middle;\n",
       "    }\n",
       "\n",
       "    .dataframe tbody tr th {\n",
       "        vertical-align: top;\n",
       "    }\n",
       "\n",
       "    .dataframe thead th {\n",
       "        text-align: right;\n",
       "    }\n",
       "</style>\n",
       "<table border=\"1\" class=\"dataframe\">\n",
       "  <thead>\n",
       "    <tr style=\"text-align: right;\">\n",
       "      <th></th>\n",
       "      <th>price</th>\n",
       "      <th>early_access</th>\n",
       "      <th>sentiment</th>\n",
       "      <th>metascore</th>\n",
       "      <th>release_year</th>\n",
       "      <th>anios</th>\n",
       "    </tr>\n",
       "  </thead>\n",
       "  <tbody>\n",
       "    <tr>\n",
       "      <th>0</th>\n",
       "      <td>4.99</td>\n",
       "      <td>0</td>\n",
       "      <td>0</td>\n",
       "      <td>NaN</td>\n",
       "      <td>2018</td>\n",
       "      <td>5</td>\n",
       "    </tr>\n",
       "    <tr>\n",
       "      <th>58</th>\n",
       "      <td>0.99</td>\n",
       "      <td>0</td>\n",
       "      <td>0</td>\n",
       "      <td>NaN</td>\n",
       "      <td>2017</td>\n",
       "      <td>6</td>\n",
       "    </tr>\n",
       "    <tr>\n",
       "      <th>61</th>\n",
       "      <td>3.99</td>\n",
       "      <td>0</td>\n",
       "      <td>5</td>\n",
       "      <td>NaN</td>\n",
       "      <td>2018</td>\n",
       "      <td>5</td>\n",
       "    </tr>\n",
       "    <tr>\n",
       "      <th>78</th>\n",
       "      <td>9.99</td>\n",
       "      <td>0</td>\n",
       "      <td>0</td>\n",
       "      <td>NaN</td>\n",
       "      <td>2018</td>\n",
       "      <td>5</td>\n",
       "    </tr>\n",
       "    <tr>\n",
       "      <th>122</th>\n",
       "      <td>18.99</td>\n",
       "      <td>0</td>\n",
       "      <td>0</td>\n",
       "      <td>NaN</td>\n",
       "      <td>2018</td>\n",
       "      <td>5</td>\n",
       "    </tr>\n",
       "  </tbody>\n",
       "</table>\n",
       "</div>"
      ],
      "text/plain": [
       "     price  early_access  sentiment  metascore  release_year  anios\n",
       "0     4.99             0          0        NaN          2018      5\n",
       "58    0.99             0          0        NaN          2017      6\n",
       "61    3.99             0          5        NaN          2018      5\n",
       "78    9.99             0          0        NaN          2018      5\n",
       "122  18.99             0          0        NaN          2018      5"
      ]
     },
     "execution_count": 3120,
     "metadata": {},
     "output_type": "execute_result"
    }
   ],
   "source": [
    "df_mc1.head()"
   ]
  },
  {
   "cell_type": "code",
   "execution_count": 3121,
   "metadata": {},
   "outputs": [
    {
     "data": {
      "image/png": "[encoded data removed]",
      "text/plain": [
       "<Figure size 640x480 with 2 Axes>"
      ]
     },
     "metadata": {},
     "output_type": "display_data"
    }
   ],
   "source": [
    "# Calcular la matriz de correlación\n",
    "matriz_correlacion = df_mc1.corr()\n",
    "\n",
    "# Crear el mapa de calor con Seaborn\n",
    "sns.heatmap(matriz_correlacion, annot=True, cmap='coolwarm')\n",
    "\n",
    "# Mostrar el mapa de calor\n",
    "plt.title('Matriz de Correlación')\n",
    "plt.show()"
   ]
  },
  {
   "cell_type": "markdown",
   "metadata": {},
   "source": [
    "Se observa cierto grado de correlación entre sentiment y metascore, y obviamnente la correlación entre release_year y anios"
   ]
  },
  {
   "cell_type": "code",
   "execution_count": 3122,
   "metadata": {},
   "outputs": [],
   "source": [
    "df4.drop(columns=['metascore','anios'], axis=1, inplace=True) #Elimina metascore y anios por la correlación"
   ]
  },
  {
   "cell_type": "markdown",
   "metadata": {},
   "source": [
    "9.b - Matriz de correlación incluyendo genres"
   ]
  },
  {
   "cell_type": "markdown",
   "metadata": {},
   "source": [
    "A la variable genres, por tratarse de una variable cualitativa nominal, le vamos a aplicar One-Hot Encoding para su análisis respecto a la etiqueta"
   ]
  },
  {
   "cell_type": "code",
   "execution_count": 3123,
   "metadata": {},
   "outputs": [
    {
     "data": {
      "text/html": [
       "<div>\n",
       "<style scoped>\n",
       "    .dataframe tbody tr th:only-of-type {\n",
       "        vertical-align: middle;\n",
       "    }\n",
       "\n",
       "    .dataframe tbody tr th {\n",
       "        vertical-align: top;\n",
       "    }\n",
       "\n",
       "    .dataframe thead th {\n",
       "        text-align: right;\n",
       "    }\n",
       "</style>\n",
       "<table border=\"1\" class=\"dataframe\">\n",
       "  <thead>\n",
       "    <tr style=\"text-align: right;\">\n",
       "      <th></th>\n",
       "      <th>genres</th>\n",
       "      <th>app_name</th>\n",
       "      <th>price</th>\n",
       "      <th>early_access</th>\n",
       "      <th>sentiment</th>\n",
       "      <th>release_year</th>\n",
       "    </tr>\n",
       "  </thead>\n",
       "  <tbody>\n",
       "    <tr>\n",
       "      <th>0</th>\n",
       "      <td>Action</td>\n",
       "      <td>Lost Summoner Kitty</td>\n",
       "      <td>4.99</td>\n",
       "      <td>0</td>\n",
       "      <td>0</td>\n",
       "      <td>2018</td>\n",
       "    </tr>\n",
       "    <tr>\n",
       "      <th>1</th>\n",
       "      <td>Casual</td>\n",
       "      <td>Lost Summoner Kitty</td>\n",
       "      <td>4.99</td>\n",
       "      <td>0</td>\n",
       "      <td>0</td>\n",
       "      <td>2018</td>\n",
       "    </tr>\n",
       "    <tr>\n",
       "      <th>2</th>\n",
       "      <td>Indie</td>\n",
       "      <td>Lost Summoner Kitty</td>\n",
       "      <td>4.99</td>\n",
       "      <td>0</td>\n",
       "      <td>0</td>\n",
       "      <td>2018</td>\n",
       "    </tr>\n",
       "    <tr>\n",
       "      <th>3</th>\n",
       "      <td>Simulation</td>\n",
       "      <td>Lost Summoner Kitty</td>\n",
       "      <td>4.99</td>\n",
       "      <td>0</td>\n",
       "      <td>0</td>\n",
       "      <td>2018</td>\n",
       "    </tr>\n",
       "    <tr>\n",
       "      <th>4</th>\n",
       "      <td>Strategy</td>\n",
       "      <td>Lost Summoner Kitty</td>\n",
       "      <td>4.99</td>\n",
       "      <td>0</td>\n",
       "      <td>0</td>\n",
       "      <td>2018</td>\n",
       "    </tr>\n",
       "    <tr>\n",
       "      <th>58</th>\n",
       "      <td>Action</td>\n",
       "      <td>弹炸人2222</td>\n",
       "      <td>0.99</td>\n",
       "      <td>0</td>\n",
       "      <td>0</td>\n",
       "      <td>2017</td>\n",
       "    </tr>\n",
       "    <tr>\n",
       "      <th>59</th>\n",
       "      <td>Adventure</td>\n",
       "      <td>弹炸人2222</td>\n",
       "      <td>0.99</td>\n",
       "      <td>0</td>\n",
       "      <td>0</td>\n",
       "      <td>2017</td>\n",
       "    </tr>\n",
       "    <tr>\n",
       "      <th>60</th>\n",
       "      <td>Casual</td>\n",
       "      <td>弹炸人2222</td>\n",
       "      <td>0.99</td>\n",
       "      <td>0</td>\n",
       "      <td>0</td>\n",
       "      <td>2017</td>\n",
       "    </tr>\n",
       "    <tr>\n",
       "      <th>61</th>\n",
       "      <td>Action</td>\n",
       "      <td>Battle Royale Trainer</td>\n",
       "      <td>3.99</td>\n",
       "      <td>0</td>\n",
       "      <td>5</td>\n",
       "      <td>2018</td>\n",
       "    </tr>\n",
       "    <tr>\n",
       "      <th>63</th>\n",
       "      <td>Adventure</td>\n",
       "      <td>Battle Royale Trainer</td>\n",
       "      <td>3.99</td>\n",
       "      <td>0</td>\n",
       "      <td>5</td>\n",
       "      <td>2018</td>\n",
       "    </tr>\n",
       "  </tbody>\n",
       "</table>\n",
       "</div>"
      ],
      "text/plain": [
       "        genres               app_name  price  early_access  sentiment  \\\n",
       "0       Action    Lost Summoner Kitty   4.99             0          0   \n",
       "1       Casual    Lost Summoner Kitty   4.99             0          0   \n",
       "2        Indie    Lost Summoner Kitty   4.99             0          0   \n",
       "3   Simulation    Lost Summoner Kitty   4.99             0          0   \n",
       "4     Strategy    Lost Summoner Kitty   4.99             0          0   \n",
       "58      Action                弹炸人2222   0.99             0          0   \n",
       "59   Adventure                弹炸人2222   0.99             0          0   \n",
       "60      Casual                弹炸人2222   0.99             0          0   \n",
       "61      Action  Battle Royale Trainer   3.99             0          5   \n",
       "63   Adventure  Battle Royale Trainer   3.99             0          5   \n",
       "\n",
       "    release_year  \n",
       "0           2018  \n",
       "1           2018  \n",
       "2           2018  \n",
       "3           2018  \n",
       "4           2018  \n",
       "58          2017  \n",
       "59          2017  \n",
       "60          2017  \n",
       "61          2018  \n",
       "63          2018  "
      ]
     },
     "execution_count": 3123,
     "metadata": {},
     "output_type": "execute_result"
    }
   ],
   "source": [
    "df4.head(10)"
   ]
  },
  {
   "cell_type": "code",
   "execution_count": 3124,
   "metadata": {},
   "outputs": [],
   "source": [
    "dfohe = pd.get_dummies(df4['genres'], prefix='genres')  #Data frame auxiliar para aplicar one-hot encoding a genres\n",
    "\n",
    "dfohe.replace({False: 0, True: 1}, inplace=True) #Reemplazo de False y True por ceros y unos\n",
    "\n",
    "df5 = pd.concat([df4, dfohe], axis=1)   #Concatenamos ambos data frames en df1. df2 data frame de proyecto (Rev. 2)\n",
    "\n",
    "df5.drop('genres', axis=1, inplace=True) #Eliminamos la columna genres del data frame"
   ]
  },
  {
   "cell_type": "code",
   "execution_count": 3125,
   "metadata": {},
   "outputs": [],
   "source": [
    "del dfohe\n",
    "del df4"
   ]
  },
  {
   "cell_type": "code",
   "execution_count": 3126,
   "metadata": {},
   "outputs": [
    {
     "data": {
      "text/html": [
       "<div>\n",
       "<style scoped>\n",
       "    .dataframe tbody tr th:only-of-type {\n",
       "        vertical-align: middle;\n",
       "    }\n",
       "\n",
       "    .dataframe tbody tr th {\n",
       "        vertical-align: top;\n",
       "    }\n",
       "\n",
       "    .dataframe thead th {\n",
       "        text-align: right;\n",
       "    }\n",
       "</style>\n",
       "<table border=\"1\" class=\"dataframe\">\n",
       "  <thead>\n",
       "    <tr style=\"text-align: right;\">\n",
       "      <th></th>\n",
       "      <th>app_name</th>\n",
       "      <th>price</th>\n",
       "      <th>early_access</th>\n",
       "      <th>sentiment</th>\n",
       "      <th>release_year</th>\n",
       "      <th>genres_Action</th>\n",
       "      <th>genres_Adventure</th>\n",
       "      <th>genres_Casual</th>\n",
       "      <th>genres_Indie</th>\n",
       "      <th>genres_RPG</th>\n",
       "      <th>genres_Simulation</th>\n",
       "      <th>genres_Strategy</th>\n",
       "    </tr>\n",
       "  </thead>\n",
       "  <tbody>\n",
       "    <tr>\n",
       "      <th>0</th>\n",
       "      <td>Lost Summoner Kitty</td>\n",
       "      <td>4.99</td>\n",
       "      <td>0</td>\n",
       "      <td>0</td>\n",
       "      <td>2018</td>\n",
       "      <td>1</td>\n",
       "      <td>0</td>\n",
       "      <td>0</td>\n",
       "      <td>0</td>\n",
       "      <td>0</td>\n",
       "      <td>0</td>\n",
       "      <td>0</td>\n",
       "    </tr>\n",
       "    <tr>\n",
       "      <th>1</th>\n",
       "      <td>Lost Summoner Kitty</td>\n",
       "      <td>4.99</td>\n",
       "      <td>0</td>\n",
       "      <td>0</td>\n",
       "      <td>2018</td>\n",
       "      <td>0</td>\n",
       "      <td>0</td>\n",
       "      <td>1</td>\n",
       "      <td>0</td>\n",
       "      <td>0</td>\n",
       "      <td>0</td>\n",
       "      <td>0</td>\n",
       "    </tr>\n",
       "    <tr>\n",
       "      <th>2</th>\n",
       "      <td>Lost Summoner Kitty</td>\n",
       "      <td>4.99</td>\n",
       "      <td>0</td>\n",
       "      <td>0</td>\n",
       "      <td>2018</td>\n",
       "      <td>0</td>\n",
       "      <td>0</td>\n",
       "      <td>0</td>\n",
       "      <td>1</td>\n",
       "      <td>0</td>\n",
       "      <td>0</td>\n",
       "      <td>0</td>\n",
       "    </tr>\n",
       "    <tr>\n",
       "      <th>3</th>\n",
       "      <td>Lost Summoner Kitty</td>\n",
       "      <td>4.99</td>\n",
       "      <td>0</td>\n",
       "      <td>0</td>\n",
       "      <td>2018</td>\n",
       "      <td>0</td>\n",
       "      <td>0</td>\n",
       "      <td>0</td>\n",
       "      <td>0</td>\n",
       "      <td>0</td>\n",
       "      <td>1</td>\n",
       "      <td>0</td>\n",
       "    </tr>\n",
       "    <tr>\n",
       "      <th>4</th>\n",
       "      <td>Lost Summoner Kitty</td>\n",
       "      <td>4.99</td>\n",
       "      <td>0</td>\n",
       "      <td>0</td>\n",
       "      <td>2018</td>\n",
       "      <td>0</td>\n",
       "      <td>0</td>\n",
       "      <td>0</td>\n",
       "      <td>0</td>\n",
       "      <td>0</td>\n",
       "      <td>0</td>\n",
       "      <td>1</td>\n",
       "    </tr>\n",
       "  </tbody>\n",
       "</table>\n",
       "</div>"
      ],
      "text/plain": [
       "              app_name  price  early_access  sentiment  release_year  \\\n",
       "0  Lost Summoner Kitty   4.99             0          0          2018   \n",
       "1  Lost Summoner Kitty   4.99             0          0          2018   \n",
       "2  Lost Summoner Kitty   4.99             0          0          2018   \n",
       "3  Lost Summoner Kitty   4.99             0          0          2018   \n",
       "4  Lost Summoner Kitty   4.99             0          0          2018   \n",
       "\n",
       "   genres_Action  genres_Adventure  genres_Casual  genres_Indie  genres_RPG  \\\n",
       "0              1                 0              0             0           0   \n",
       "1              0                 0              1             0           0   \n",
       "2              0                 0              0             1           0   \n",
       "3              0                 0              0             0           0   \n",
       "4              0                 0              0             0           0   \n",
       "\n",
       "   genres_Simulation  genres_Strategy  \n",
       "0                  0                0  \n",
       "1                  0                0  \n",
       "2                  0                0  \n",
       "3                  1                0  \n",
       "4                  0                1  "
      ]
     },
     "execution_count": 3126,
     "metadata": {},
     "output_type": "execute_result"
    }
   ],
   "source": [
    "df5.head() #Consulta del data frame"
   ]
  },
  {
   "cell_type": "code",
   "execution_count": 3127,
   "metadata": {},
   "outputs": [
    {
     "name": "stdout",
     "output_type": "stream",
     "text": [
      "<class 'pandas.core.frame.DataFrame'>\n",
      "Index: 56434 entries, 0 to 324455\n",
      "Data columns (total 12 columns):\n",
      " #   Column             Non-Null Count  Dtype  \n",
      "---  ------             --------------  -----  \n",
      " 0   app_name           56434 non-null  object \n",
      " 1   price              56434 non-null  float64\n",
      " 2   early_access       56434 non-null  int64  \n",
      " 3   sentiment          56434 non-null  int64  \n",
      " 4   release_year       56434 non-null  int64  \n",
      " 5   genres_Action      56434 non-null  int64  \n",
      " 6   genres_Adventure   56434 non-null  int64  \n",
      " 7   genres_Casual      56434 non-null  int64  \n",
      " 8   genres_Indie       56434 non-null  int64  \n",
      " 9   genres_RPG         56434 non-null  int64  \n",
      " 10  genres_Simulation  56434 non-null  int64  \n",
      " 11  genres_Strategy    56434 non-null  int64  \n",
      "dtypes: float64(1), int64(10), object(1)\n",
      "memory usage: 5.6+ MB\n"
     ]
    }
   ],
   "source": [
    "df5.info()"
   ]
  },
  {
   "cell_type": "code",
   "execution_count": 3128,
   "metadata": {},
   "outputs": [
    {
     "data": {
      "text/plain": [
       "Index(['app_name', 'price', 'early_access', 'sentiment', 'release_year',\n",
       "       'genres_Action', 'genres_Adventure', 'genres_Casual', 'genres_Indie',\n",
       "       'genres_RPG', 'genres_Simulation', 'genres_Strategy'],\n",
       "      dtype='object')"
      ]
     },
     "execution_count": 3128,
     "metadata": {},
     "output_type": "execute_result"
    }
   ],
   "source": [
    "df5.columns"
   ]
  },
  {
   "cell_type": "code",
   "execution_count": null,
   "metadata": {},
   "outputs": [],
   "source": []
  },
  {
   "cell_type": "code",
   "execution_count": 3129,
   "metadata": {},
   "outputs": [],
   "source": [
    "lista_mc2 = ['price', 'early_access', 'sentiment', 'release_year','genres_Action', 'genres_Adventure',\n",
    "             'genres_Casual', 'genres_Indie', 'genres_RPG', 'genres_Simulation',\n",
    "             'genres_Strategy']"
   ]
  },
  {
   "cell_type": "code",
   "execution_count": 3130,
   "metadata": {},
   "outputs": [],
   "source": [
    "df_mc2 = df5[lista_mc2]"
   ]
  },
  {
   "cell_type": "code",
   "execution_count": 3131,
   "metadata": {},
   "outputs": [
    {
     "data": {
      "text/html": [
       "<div>\n",
       "<style scoped>\n",
       "    .dataframe tbody tr th:only-of-type {\n",
       "        vertical-align: middle;\n",
       "    }\n",
       "\n",
       "    .dataframe tbody tr th {\n",
       "        vertical-align: top;\n",
       "    }\n",
       "\n",
       "    .dataframe thead th {\n",
       "        text-align: right;\n",
       "    }\n",
       "</style>\n",
       "<table border=\"1\" class=\"dataframe\">\n",
       "  <thead>\n",
       "    <tr style=\"text-align: right;\">\n",
       "      <th></th>\n",
       "      <th>price</th>\n",
       "      <th>early_access</th>\n",
       "      <th>sentiment</th>\n",
       "      <th>release_year</th>\n",
       "      <th>genres_Action</th>\n",
       "      <th>genres_Adventure</th>\n",
       "      <th>genres_Casual</th>\n",
       "      <th>genres_Indie</th>\n",
       "      <th>genres_RPG</th>\n",
       "      <th>genres_Simulation</th>\n",
       "      <th>genres_Strategy</th>\n",
       "    </tr>\n",
       "  </thead>\n",
       "  <tbody>\n",
       "    <tr>\n",
       "      <th>0</th>\n",
       "      <td>4.99</td>\n",
       "      <td>0</td>\n",
       "      <td>0</td>\n",
       "      <td>2018</td>\n",
       "      <td>1</td>\n",
       "      <td>0</td>\n",
       "      <td>0</td>\n",
       "      <td>0</td>\n",
       "      <td>0</td>\n",
       "      <td>0</td>\n",
       "      <td>0</td>\n",
       "    </tr>\n",
       "    <tr>\n",
       "      <th>1</th>\n",
       "      <td>4.99</td>\n",
       "      <td>0</td>\n",
       "      <td>0</td>\n",
       "      <td>2018</td>\n",
       "      <td>0</td>\n",
       "      <td>0</td>\n",
       "      <td>1</td>\n",
       "      <td>0</td>\n",
       "      <td>0</td>\n",
       "      <td>0</td>\n",
       "      <td>0</td>\n",
       "    </tr>\n",
       "    <tr>\n",
       "      <th>2</th>\n",
       "      <td>4.99</td>\n",
       "      <td>0</td>\n",
       "      <td>0</td>\n",
       "      <td>2018</td>\n",
       "      <td>0</td>\n",
       "      <td>0</td>\n",
       "      <td>0</td>\n",
       "      <td>1</td>\n",
       "      <td>0</td>\n",
       "      <td>0</td>\n",
       "      <td>0</td>\n",
       "    </tr>\n",
       "    <tr>\n",
       "      <th>3</th>\n",
       "      <td>4.99</td>\n",
       "      <td>0</td>\n",
       "      <td>0</td>\n",
       "      <td>2018</td>\n",
       "      <td>0</td>\n",
       "      <td>0</td>\n",
       "      <td>0</td>\n",
       "      <td>0</td>\n",
       "      <td>0</td>\n",
       "      <td>1</td>\n",
       "      <td>0</td>\n",
       "    </tr>\n",
       "    <tr>\n",
       "      <th>4</th>\n",
       "      <td>4.99</td>\n",
       "      <td>0</td>\n",
       "      <td>0</td>\n",
       "      <td>2018</td>\n",
       "      <td>0</td>\n",
       "      <td>0</td>\n",
       "      <td>0</td>\n",
       "      <td>0</td>\n",
       "      <td>0</td>\n",
       "      <td>0</td>\n",
       "      <td>1</td>\n",
       "    </tr>\n",
       "  </tbody>\n",
       "</table>\n",
       "</div>"
      ],
      "text/plain": [
       "   price  early_access  sentiment  release_year  genres_Action  \\\n",
       "0   4.99             0          0          2018              1   \n",
       "1   4.99             0          0          2018              0   \n",
       "2   4.99             0          0          2018              0   \n",
       "3   4.99             0          0          2018              0   \n",
       "4   4.99             0          0          2018              0   \n",
       "\n",
       "   genres_Adventure  genres_Casual  genres_Indie  genres_RPG  \\\n",
       "0                 0              0             0           0   \n",
       "1                 0              1             0           0   \n",
       "2                 0              0             1           0   \n",
       "3                 0              0             0           0   \n",
       "4                 0              0             0           0   \n",
       "\n",
       "   genres_Simulation  genres_Strategy  \n",
       "0                  0                0  \n",
       "1                  0                0  \n",
       "2                  0                0  \n",
       "3                  1                0  \n",
       "4                  0                1  "
      ]
     },
     "execution_count": 3131,
     "metadata": {},
     "output_type": "execute_result"
    }
   ],
   "source": [
    "df_mc2.head()"
   ]
  },
  {
   "cell_type": "code",
   "execution_count": 3132,
   "metadata": {},
   "outputs": [
    {
     "data": {
      "image/png": "[encoded data removed]",
      "text/plain": [
       "<Figure size 1000x1000 with 2 Axes>"
      ]
     },
     "metadata": {},
     "output_type": "display_data"
    }
   ],
   "source": [
    "plt.figure(figsize=(10, 10))\n",
    "# Calcular la matriz de correlación\n",
    "matriz_correlacion = df_mc2.corr()\n",
    "\n",
    "# Crear el mapa de calor con Seaborn\n",
    "sns.heatmap(matriz_correlacion, annot=True, cmap='coolwarm')\n",
    "\n",
    "# Mostrar el mapa de calor\n",
    "plt.title('Matriz de Correlación')\n",
    "plt.show()"
   ]
  },
  {
   "cell_type": "code",
   "execution_count": 3133,
   "metadata": {},
   "outputs": [],
   "source": [
    "df_modelo = df_mc2.copy()"
   ]
  },
  {
   "cell_type": "code",
   "execution_count": 3134,
   "metadata": {},
   "outputs": [
    {
     "data": {
      "text/html": [
       "<div>\n",
       "<style scoped>\n",
       "    .dataframe tbody tr th:only-of-type {\n",
       "        vertical-align: middle;\n",
       "    }\n",
       "\n",
       "    .dataframe tbody tr th {\n",
       "        vertical-align: top;\n",
       "    }\n",
       "\n",
       "    .dataframe thead th {\n",
       "        text-align: right;\n",
       "    }\n",
       "</style>\n",
       "<table border=\"1\" class=\"dataframe\">\n",
       "  <thead>\n",
       "    <tr style=\"text-align: right;\">\n",
       "      <th></th>\n",
       "      <th>price</th>\n",
       "      <th>early_access</th>\n",
       "      <th>sentiment</th>\n",
       "      <th>release_year</th>\n",
       "      <th>genres_Action</th>\n",
       "      <th>genres_Adventure</th>\n",
       "      <th>genres_Casual</th>\n",
       "      <th>genres_Indie</th>\n",
       "      <th>genres_RPG</th>\n",
       "      <th>genres_Simulation</th>\n",
       "      <th>genres_Strategy</th>\n",
       "    </tr>\n",
       "  </thead>\n",
       "  <tbody>\n",
       "    <tr>\n",
       "      <th>0</th>\n",
       "      <td>4.99</td>\n",
       "      <td>0</td>\n",
       "      <td>0</td>\n",
       "      <td>2018</td>\n",
       "      <td>1</td>\n",
       "      <td>0</td>\n",
       "      <td>0</td>\n",
       "      <td>0</td>\n",
       "      <td>0</td>\n",
       "      <td>0</td>\n",
       "      <td>0</td>\n",
       "    </tr>\n",
       "    <tr>\n",
       "      <th>1</th>\n",
       "      <td>4.99</td>\n",
       "      <td>0</td>\n",
       "      <td>0</td>\n",
       "      <td>2018</td>\n",
       "      <td>0</td>\n",
       "      <td>0</td>\n",
       "      <td>1</td>\n",
       "      <td>0</td>\n",
       "      <td>0</td>\n",
       "      <td>0</td>\n",
       "      <td>0</td>\n",
       "    </tr>\n",
       "    <tr>\n",
       "      <th>2</th>\n",
       "      <td>4.99</td>\n",
       "      <td>0</td>\n",
       "      <td>0</td>\n",
       "      <td>2018</td>\n",
       "      <td>0</td>\n",
       "      <td>0</td>\n",
       "      <td>0</td>\n",
       "      <td>1</td>\n",
       "      <td>0</td>\n",
       "      <td>0</td>\n",
       "      <td>0</td>\n",
       "    </tr>\n",
       "    <tr>\n",
       "      <th>3</th>\n",
       "      <td>4.99</td>\n",
       "      <td>0</td>\n",
       "      <td>0</td>\n",
       "      <td>2018</td>\n",
       "      <td>0</td>\n",
       "      <td>0</td>\n",
       "      <td>0</td>\n",
       "      <td>0</td>\n",
       "      <td>0</td>\n",
       "      <td>1</td>\n",
       "      <td>0</td>\n",
       "    </tr>\n",
       "    <tr>\n",
       "      <th>4</th>\n",
       "      <td>4.99</td>\n",
       "      <td>0</td>\n",
       "      <td>0</td>\n",
       "      <td>2018</td>\n",
       "      <td>0</td>\n",
       "      <td>0</td>\n",
       "      <td>0</td>\n",
       "      <td>0</td>\n",
       "      <td>0</td>\n",
       "      <td>0</td>\n",
       "      <td>1</td>\n",
       "    </tr>\n",
       "  </tbody>\n",
       "</table>\n",
       "</div>"
      ],
      "text/plain": [
       "   price  early_access  sentiment  release_year  genres_Action  \\\n",
       "0   4.99             0          0          2018              1   \n",
       "1   4.99             0          0          2018              0   \n",
       "2   4.99             0          0          2018              0   \n",
       "3   4.99             0          0          2018              0   \n",
       "4   4.99             0          0          2018              0   \n",
       "\n",
       "   genres_Adventure  genres_Casual  genres_Indie  genres_RPG  \\\n",
       "0                 0              0             0           0   \n",
       "1                 0              1             0           0   \n",
       "2                 0              0             1           0   \n",
       "3                 0              0             0           0   \n",
       "4                 0              0             0           0   \n",
       "\n",
       "   genres_Simulation  genres_Strategy  \n",
       "0                  0                0  \n",
       "1                  0                0  \n",
       "2                  0                0  \n",
       "3                  1                0  \n",
       "4                  0                1  "
      ]
     },
     "execution_count": 3134,
     "metadata": {},
     "output_type": "execute_result"
    }
   ],
   "source": [
    "df_modelo.head()"
   ]
  },
  {
   "cell_type": "markdown",
   "metadata": {},
   "source": [
    "**10 - Exportación**"
   ]
  },
  {
   "cell_type": "code",
   "execution_count": 3135,
   "metadata": {},
   "outputs": [],
   "source": [
    "# Nombre del archivo Parquet\n",
    "parquet_filename = 'steam_games_mod.parquet'\n",
    "\n",
    "# Convertir el DataFrame a una tabla Arrow\n",
    "table = pa.Table.from_pandas(df_modelo)\n",
    "\n",
    "# Guardar la tabla Arrow en formato Parquet\n",
    "pq.write_table(table, parquet_filename)"
   ]
  }
 ],
 "metadata": {
  "kernelspec": {
   "display_name": "Python 3",
   "language": "python",
   "name": "python3"
  },
  "language_info": {
   "codemirror_mode": {
    "name": "ipython",
    "version": 3
   },
   "file_extension": ".py",
   "mimetype": "text/x-python",
   "name": "python",
   "nbconvert_exporter": "python",
   "pygments_lexer": "ipython3",
   "version": "3.11.2"
  },
  "orig_nbformat": 4
 },
 "nbformat": 4,
 "nbformat_minor": 2
}
