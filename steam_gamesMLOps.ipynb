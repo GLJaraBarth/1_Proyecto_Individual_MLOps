{
 "cells": [
  {
   "cell_type": "markdown",
   "metadata": {},
   "source": [
    "PROYECTO INDIVIDUAL Nº1"
   ]
  },
  {
   "cell_type": "markdown",
   "metadata": {},
   "source": [
    "Machine Learning Operations (MLOps)"
   ]
  },
  {
   "cell_type": "markdown",
   "metadata": {},
   "source": [
    "Proceso ETL"
   ]
  },
  {
   "cell_type": "markdown",
   "metadata": {},
   "source": [
    "1 - Importación de librerías"
   ]
  },
  {
   "cell_type": "code",
   "execution_count": 1452,
   "metadata": {},
   "outputs": [],
   "source": [
    "import pandas as pd\n",
    "import numpy as np\n",
    "import ast\n",
    "import pyarrow as pa\n",
    "import pyarrow.parquet as pq"
   ]
  },
  {
   "cell_type": "markdown",
   "metadata": {},
   "source": [
    "2 - Lectura del archivo JSON y creación del Data Frame"
   ]
  },
  {
   "cell_type": "code",
   "execution_count": 1453,
   "metadata": {},
   "outputs": [],
   "source": [
    "lista_juegos = []\n",
    "steam_games = 'steam_games.json'\n",
    "with open(steam_games, 'r') as archivo:\n",
    "    for linea in archivo.readlines():                   #Metodo para leer las lineas del JSON\n",
    "        lista_juegos.append(ast.literal_eval(linea))    #Función del modulo ast. Evalua un literal de datos básicos de Pyhton, \n",
    "                                                        #como un diccionario, una lista, una cadena, un número, un conjunot o una tupla \n",
    "df0 = pd.DataFrame(lista_juegos)                        #df0 data frame del proyecto (Rev. 0)"
   ]
  },
  {
   "cell_type": "markdown",
   "metadata": {},
   "source": [
    "2.a - Consulta de las características de Data Frame"
   ]
  },
  {
   "cell_type": "code",
   "execution_count": 1454,
   "metadata": {},
   "outputs": [
    {
     "data": {
      "text/plain": [
       "(32135, 16)"
      ]
     },
     "execution_count": 1454,
     "metadata": {},
     "output_type": "execute_result"
    }
   ],
   "source": [
    "df0.shape    #Consulta de las caracteristicas de dataset. Tiene 32135 registros y 16 campos"
   ]
  },
  {
   "cell_type": "code",
   "execution_count": 1455,
   "metadata": {},
   "outputs": [
    {
     "data": {
      "text/html": [
       "<div>\n",
       "<style scoped>\n",
       "    .dataframe tbody tr th:only-of-type {\n",
       "        vertical-align: middle;\n",
       "    }\n",
       "\n",
       "    .dataframe tbody tr th {\n",
       "        vertical-align: top;\n",
       "    }\n",
       "\n",
       "    .dataframe thead th {\n",
       "        text-align: right;\n",
       "    }\n",
       "</style>\n",
       "<table border=\"1\" class=\"dataframe\">\n",
       "  <thead>\n",
       "    <tr style=\"text-align: right;\">\n",
       "      <th></th>\n",
       "      <th>publisher</th>\n",
       "      <th>genres</th>\n",
       "      <th>app_name</th>\n",
       "      <th>title</th>\n",
       "      <th>url</th>\n",
       "      <th>release_date</th>\n",
       "      <th>tags</th>\n",
       "      <th>discount_price</th>\n",
       "      <th>reviews_url</th>\n",
       "      <th>specs</th>\n",
       "      <th>price</th>\n",
       "      <th>early_access</th>\n",
       "      <th>id</th>\n",
       "      <th>developer</th>\n",
       "      <th>sentiment</th>\n",
       "      <th>metascore</th>\n",
       "    </tr>\n",
       "  </thead>\n",
       "  <tbody>\n",
       "    <tr>\n",
       "      <th>0</th>\n",
       "      <td>Kotoshiro</td>\n",
       "      <td>[Action, Casual, Indie, Simulation, Strategy]</td>\n",
       "      <td>Lost Summoner Kitty</td>\n",
       "      <td>Lost Summoner Kitty</td>\n",
       "      <td>http://store.steampowered.com/app/761140/Lost_...</td>\n",
       "      <td>2018-01-04</td>\n",
       "      <td>[Strategy, Action, Indie, Casual, Simulation]</td>\n",
       "      <td>4.49</td>\n",
       "      <td>http://steamcommunity.com/app/761140/reviews/?...</td>\n",
       "      <td>[Single-player]</td>\n",
       "      <td>4.99</td>\n",
       "      <td>False</td>\n",
       "      <td>761140</td>\n",
       "      <td>Kotoshiro</td>\n",
       "      <td>NaN</td>\n",
       "      <td>NaN</td>\n",
       "    </tr>\n",
       "    <tr>\n",
       "      <th>1</th>\n",
       "      <td>Making Fun, Inc.</td>\n",
       "      <td>[Free to Play, Indie, RPG, Strategy]</td>\n",
       "      <td>Ironbound</td>\n",
       "      <td>Ironbound</td>\n",
       "      <td>http://store.steampowered.com/app/643980/Ironb...</td>\n",
       "      <td>2018-01-04</td>\n",
       "      <td>[Free to Play, Strategy, Indie, RPG, Card Game...</td>\n",
       "      <td>NaN</td>\n",
       "      <td>http://steamcommunity.com/app/643980/reviews/?...</td>\n",
       "      <td>[Single-player, Multi-player, Online Multi-Pla...</td>\n",
       "      <td>Free To Play</td>\n",
       "      <td>False</td>\n",
       "      <td>643980</td>\n",
       "      <td>Secret Level SRL</td>\n",
       "      <td>Mostly Positive</td>\n",
       "      <td>NaN</td>\n",
       "    </tr>\n",
       "    <tr>\n",
       "      <th>2</th>\n",
       "      <td>Poolians.com</td>\n",
       "      <td>[Casual, Free to Play, Indie, Simulation, Sports]</td>\n",
       "      <td>Real Pool 3D - Poolians</td>\n",
       "      <td>Real Pool 3D - Poolians</td>\n",
       "      <td>http://store.steampowered.com/app/670290/Real_...</td>\n",
       "      <td>2017-07-24</td>\n",
       "      <td>[Free to Play, Simulation, Sports, Casual, Ind...</td>\n",
       "      <td>NaN</td>\n",
       "      <td>http://steamcommunity.com/app/670290/reviews/?...</td>\n",
       "      <td>[Single-player, Multi-player, Online Multi-Pla...</td>\n",
       "      <td>Free to Play</td>\n",
       "      <td>False</td>\n",
       "      <td>670290</td>\n",
       "      <td>Poolians.com</td>\n",
       "      <td>Mostly Positive</td>\n",
       "      <td>NaN</td>\n",
       "    </tr>\n",
       "    <tr>\n",
       "      <th>3</th>\n",
       "      <td>彼岸领域</td>\n",
       "      <td>[Action, Adventure, Casual]</td>\n",
       "      <td>弹炸人2222</td>\n",
       "      <td>弹炸人2222</td>\n",
       "      <td>http://store.steampowered.com/app/767400/2222/</td>\n",
       "      <td>2017-12-07</td>\n",
       "      <td>[Action, Adventure, Casual]</td>\n",
       "      <td>0.83</td>\n",
       "      <td>http://steamcommunity.com/app/767400/reviews/?...</td>\n",
       "      <td>[Single-player]</td>\n",
       "      <td>0.99</td>\n",
       "      <td>False</td>\n",
       "      <td>767400</td>\n",
       "      <td>彼岸领域</td>\n",
       "      <td>NaN</td>\n",
       "      <td>NaN</td>\n",
       "    </tr>\n",
       "    <tr>\n",
       "      <th>4</th>\n",
       "      <td>NaN</td>\n",
       "      <td>NaN</td>\n",
       "      <td>Log Challenge</td>\n",
       "      <td>NaN</td>\n",
       "      <td>http://store.steampowered.com/app/773570/Log_C...</td>\n",
       "      <td>NaN</td>\n",
       "      <td>[Action, Indie, Casual, Sports]</td>\n",
       "      <td>1.79</td>\n",
       "      <td>http://steamcommunity.com/app/773570/reviews/?...</td>\n",
       "      <td>[Single-player, Full controller support, HTC V...</td>\n",
       "      <td>2.99</td>\n",
       "      <td>False</td>\n",
       "      <td>773570</td>\n",
       "      <td>NaN</td>\n",
       "      <td>NaN</td>\n",
       "      <td>NaN</td>\n",
       "    </tr>\n",
       "  </tbody>\n",
       "</table>\n",
       "</div>"
      ],
      "text/plain": [
       "          publisher                                             genres  \\\n",
       "0         Kotoshiro      [Action, Casual, Indie, Simulation, Strategy]   \n",
       "1  Making Fun, Inc.               [Free to Play, Indie, RPG, Strategy]   \n",
       "2      Poolians.com  [Casual, Free to Play, Indie, Simulation, Sports]   \n",
       "3              彼岸领域                        [Action, Adventure, Casual]   \n",
       "4               NaN                                                NaN   \n",
       "\n",
       "                  app_name                    title  \\\n",
       "0      Lost Summoner Kitty      Lost Summoner Kitty   \n",
       "1                Ironbound                Ironbound   \n",
       "2  Real Pool 3D - Poolians  Real Pool 3D - Poolians   \n",
       "3                  弹炸人2222                  弹炸人2222   \n",
       "4            Log Challenge                      NaN   \n",
       "\n",
       "                                                 url release_date  \\\n",
       "0  http://store.steampowered.com/app/761140/Lost_...   2018-01-04   \n",
       "1  http://store.steampowered.com/app/643980/Ironb...   2018-01-04   \n",
       "2  http://store.steampowered.com/app/670290/Real_...   2017-07-24   \n",
       "3     http://store.steampowered.com/app/767400/2222/   2017-12-07   \n",
       "4  http://store.steampowered.com/app/773570/Log_C...          NaN   \n",
       "\n",
       "                                                tags  discount_price  \\\n",
       "0      [Strategy, Action, Indie, Casual, Simulation]            4.49   \n",
       "1  [Free to Play, Strategy, Indie, RPG, Card Game...             NaN   \n",
       "2  [Free to Play, Simulation, Sports, Casual, Ind...             NaN   \n",
       "3                        [Action, Adventure, Casual]            0.83   \n",
       "4                    [Action, Indie, Casual, Sports]            1.79   \n",
       "\n",
       "                                         reviews_url  \\\n",
       "0  http://steamcommunity.com/app/761140/reviews/?...   \n",
       "1  http://steamcommunity.com/app/643980/reviews/?...   \n",
       "2  http://steamcommunity.com/app/670290/reviews/?...   \n",
       "3  http://steamcommunity.com/app/767400/reviews/?...   \n",
       "4  http://steamcommunity.com/app/773570/reviews/?...   \n",
       "\n",
       "                                               specs         price  \\\n",
       "0                                    [Single-player]          4.99   \n",
       "1  [Single-player, Multi-player, Online Multi-Pla...  Free To Play   \n",
       "2  [Single-player, Multi-player, Online Multi-Pla...  Free to Play   \n",
       "3                                    [Single-player]          0.99   \n",
       "4  [Single-player, Full controller support, HTC V...          2.99   \n",
       "\n",
       "   early_access      id         developer        sentiment metascore  \n",
       "0         False  761140         Kotoshiro              NaN       NaN  \n",
       "1         False  643980  Secret Level SRL  Mostly Positive       NaN  \n",
       "2         False  670290      Poolians.com  Mostly Positive       NaN  \n",
       "3         False  767400              彼岸领域              NaN       NaN  \n",
       "4         False  773570               NaN              NaN       NaN  "
      ]
     },
     "execution_count": 1455,
     "metadata": {},
     "output_type": "execute_result"
    }
   ],
   "source": [
    "df0.head()   #Consulta de la estructura del dataset"
   ]
  },
  {
   "cell_type": "code",
   "execution_count": 1456,
   "metadata": {},
   "outputs": [
    {
     "data": {
      "text/html": [
       "<div>\n",
       "<style scoped>\n",
       "    .dataframe tbody tr th:only-of-type {\n",
       "        vertical-align: middle;\n",
       "    }\n",
       "\n",
       "    .dataframe tbody tr th {\n",
       "        vertical-align: top;\n",
       "    }\n",
       "\n",
       "    .dataframe thead th {\n",
       "        text-align: right;\n",
       "    }\n",
       "</style>\n",
       "<table border=\"1\" class=\"dataframe\">\n",
       "  <thead>\n",
       "    <tr style=\"text-align: right;\">\n",
       "      <th></th>\n",
       "      <th>publisher</th>\n",
       "      <th>genres</th>\n",
       "      <th>app_name</th>\n",
       "      <th>title</th>\n",
       "      <th>url</th>\n",
       "      <th>release_date</th>\n",
       "      <th>tags</th>\n",
       "      <th>discount_price</th>\n",
       "      <th>reviews_url</th>\n",
       "      <th>specs</th>\n",
       "      <th>price</th>\n",
       "      <th>early_access</th>\n",
       "      <th>id</th>\n",
       "      <th>developer</th>\n",
       "      <th>sentiment</th>\n",
       "      <th>metascore</th>\n",
       "    </tr>\n",
       "  </thead>\n",
       "  <tbody>\n",
       "    <tr>\n",
       "      <th>32130</th>\n",
       "      <td>Ghost_RUS Games</td>\n",
       "      <td>[Casual, Indie, Simulation, Strategy]</td>\n",
       "      <td>Colony On Mars</td>\n",
       "      <td>Colony On Mars</td>\n",
       "      <td>http://store.steampowered.com/app/773640/Colon...</td>\n",
       "      <td>2018-01-04</td>\n",
       "      <td>[Strategy, Indie, Casual, Simulation]</td>\n",
       "      <td>1.49</td>\n",
       "      <td>http://steamcommunity.com/app/773640/reviews/?...</td>\n",
       "      <td>[Single-player, Steam Achievements]</td>\n",
       "      <td>1.99</td>\n",
       "      <td>False</td>\n",
       "      <td>773640</td>\n",
       "      <td>Nikita \"Ghost_RUS\"</td>\n",
       "      <td>NaN</td>\n",
       "      <td>NaN</td>\n",
       "    </tr>\n",
       "    <tr>\n",
       "      <th>32131</th>\n",
       "      <td>Sacada</td>\n",
       "      <td>[Casual, Indie, Strategy]</td>\n",
       "      <td>LOGistICAL: South Africa</td>\n",
       "      <td>LOGistICAL: South Africa</td>\n",
       "      <td>http://store.steampowered.com/app/733530/LOGis...</td>\n",
       "      <td>2018-01-04</td>\n",
       "      <td>[Strategy, Indie, Casual]</td>\n",
       "      <td>4.24</td>\n",
       "      <td>http://steamcommunity.com/app/733530/reviews/?...</td>\n",
       "      <td>[Single-player, Steam Achievements, Steam Clou...</td>\n",
       "      <td>4.99</td>\n",
       "      <td>False</td>\n",
       "      <td>733530</td>\n",
       "      <td>Sacada</td>\n",
       "      <td>NaN</td>\n",
       "      <td>NaN</td>\n",
       "    </tr>\n",
       "    <tr>\n",
       "      <th>32132</th>\n",
       "      <td>Laush Studio</td>\n",
       "      <td>[Indie, Racing, Simulation]</td>\n",
       "      <td>Russian Roads</td>\n",
       "      <td>Russian Roads</td>\n",
       "      <td>http://store.steampowered.com/app/610660/Russi...</td>\n",
       "      <td>2018-01-04</td>\n",
       "      <td>[Indie, Simulation, Racing]</td>\n",
       "      <td>1.39</td>\n",
       "      <td>http://steamcommunity.com/app/610660/reviews/?...</td>\n",
       "      <td>[Single-player, Steam Achievements, Steam Trad...</td>\n",
       "      <td>1.99</td>\n",
       "      <td>False</td>\n",
       "      <td>610660</td>\n",
       "      <td>Laush Dmitriy Sergeevich</td>\n",
       "      <td>NaN</td>\n",
       "      <td>NaN</td>\n",
       "    </tr>\n",
       "    <tr>\n",
       "      <th>32133</th>\n",
       "      <td>SIXNAILS</td>\n",
       "      <td>[Casual, Indie]</td>\n",
       "      <td>EXIT 2 - Directions</td>\n",
       "      <td>EXIT 2 - Directions</td>\n",
       "      <td>http://store.steampowered.com/app/658870/EXIT_...</td>\n",
       "      <td>2017-09-02</td>\n",
       "      <td>[Indie, Casual, Puzzle, Singleplayer, Atmosphe...</td>\n",
       "      <td>NaN</td>\n",
       "      <td>http://steamcommunity.com/app/658870/reviews/?...</td>\n",
       "      <td>[Single-player, Steam Achievements, Steam Cloud]</td>\n",
       "      <td>4.99</td>\n",
       "      <td>False</td>\n",
       "      <td>658870</td>\n",
       "      <td>xropi,stev3ns</td>\n",
       "      <td>1 user reviews</td>\n",
       "      <td>NaN</td>\n",
       "    </tr>\n",
       "    <tr>\n",
       "      <th>32134</th>\n",
       "      <td>NaN</td>\n",
       "      <td>NaN</td>\n",
       "      <td>Maze Run VR</td>\n",
       "      <td>NaN</td>\n",
       "      <td>http://store.steampowered.com/app/681550/Maze_...</td>\n",
       "      <td>NaN</td>\n",
       "      <td>[Early Access, Adventure, Indie, Action, Simul...</td>\n",
       "      <td>NaN</td>\n",
       "      <td>http://steamcommunity.com/app/681550/reviews/?...</td>\n",
       "      <td>[Single-player, Stats, Steam Leaderboards, HTC...</td>\n",
       "      <td>4.99</td>\n",
       "      <td>True</td>\n",
       "      <td>681550</td>\n",
       "      <td>NaN</td>\n",
       "      <td>Positive</td>\n",
       "      <td>NaN</td>\n",
       "    </tr>\n",
       "  </tbody>\n",
       "</table>\n",
       "</div>"
      ],
      "text/plain": [
       "             publisher                                 genres  \\\n",
       "32130  Ghost_RUS Games  [Casual, Indie, Simulation, Strategy]   \n",
       "32131           Sacada              [Casual, Indie, Strategy]   \n",
       "32132     Laush Studio            [Indie, Racing, Simulation]   \n",
       "32133         SIXNAILS                        [Casual, Indie]   \n",
       "32134              NaN                                    NaN   \n",
       "\n",
       "                       app_name                     title  \\\n",
       "32130            Colony On Mars            Colony On Mars   \n",
       "32131  LOGistICAL: South Africa  LOGistICAL: South Africa   \n",
       "32132             Russian Roads             Russian Roads   \n",
       "32133       EXIT 2 - Directions       EXIT 2 - Directions   \n",
       "32134               Maze Run VR                       NaN   \n",
       "\n",
       "                                                     url release_date  \\\n",
       "32130  http://store.steampowered.com/app/773640/Colon...   2018-01-04   \n",
       "32131  http://store.steampowered.com/app/733530/LOGis...   2018-01-04   \n",
       "32132  http://store.steampowered.com/app/610660/Russi...   2018-01-04   \n",
       "32133  http://store.steampowered.com/app/658870/EXIT_...   2017-09-02   \n",
       "32134  http://store.steampowered.com/app/681550/Maze_...          NaN   \n",
       "\n",
       "                                                    tags  discount_price  \\\n",
       "32130              [Strategy, Indie, Casual, Simulation]            1.49   \n",
       "32131                          [Strategy, Indie, Casual]            4.24   \n",
       "32132                        [Indie, Simulation, Racing]            1.39   \n",
       "32133  [Indie, Casual, Puzzle, Singleplayer, Atmosphe...             NaN   \n",
       "32134  [Early Access, Adventure, Indie, Action, Simul...             NaN   \n",
       "\n",
       "                                             reviews_url  \\\n",
       "32130  http://steamcommunity.com/app/773640/reviews/?...   \n",
       "32131  http://steamcommunity.com/app/733530/reviews/?...   \n",
       "32132  http://steamcommunity.com/app/610660/reviews/?...   \n",
       "32133  http://steamcommunity.com/app/658870/reviews/?...   \n",
       "32134  http://steamcommunity.com/app/681550/reviews/?...   \n",
       "\n",
       "                                                   specs price  early_access  \\\n",
       "32130                [Single-player, Steam Achievements]  1.99         False   \n",
       "32131  [Single-player, Steam Achievements, Steam Clou...  4.99         False   \n",
       "32132  [Single-player, Steam Achievements, Steam Trad...  1.99         False   \n",
       "32133   [Single-player, Steam Achievements, Steam Cloud]  4.99         False   \n",
       "32134  [Single-player, Stats, Steam Leaderboards, HTC...  4.99          True   \n",
       "\n",
       "           id                 developer       sentiment metascore  \n",
       "32130  773640        Nikita \"Ghost_RUS\"             NaN       NaN  \n",
       "32131  733530                    Sacada             NaN       NaN  \n",
       "32132  610660  Laush Dmitriy Sergeevich             NaN       NaN  \n",
       "32133  658870             xropi,stev3ns  1 user reviews       NaN  \n",
       "32134  681550                       NaN        Positive       NaN  "
      ]
     },
     "execution_count": 1456,
     "metadata": {},
     "output_type": "execute_result"
    }
   ],
   "source": [
    "df0.tail()"
   ]
  },
  {
   "cell_type": "markdown",
   "metadata": {},
   "source": [
    "2.b – Consulta de las cantidades de registros por campos y tipos de datos"
   ]
  },
  {
   "cell_type": "code",
   "execution_count": 1457,
   "metadata": {},
   "outputs": [
    {
     "name": "stdout",
     "output_type": "stream",
     "text": [
      "<class 'pandas.core.frame.DataFrame'>\n",
      "RangeIndex: 32135 entries, 0 to 32134\n",
      "Data columns (total 16 columns):\n",
      " #   Column          Non-Null Count  Dtype  \n",
      "---  ------          --------------  -----  \n",
      " 0   publisher       24083 non-null  object \n",
      " 1   genres          28852 non-null  object \n",
      " 2   app_name        32133 non-null  object \n",
      " 3   title           30085 non-null  object \n",
      " 4   url             32135 non-null  object \n",
      " 5   release_date    30068 non-null  object \n",
      " 6   tags            31972 non-null  object \n",
      " 7   discount_price  225 non-null    float64\n",
      " 8   reviews_url     32133 non-null  object \n",
      " 9   specs           31465 non-null  object \n",
      " 10  price           30758 non-null  object \n",
      " 11  early_access    32135 non-null  bool   \n",
      " 12  id              32133 non-null  object \n",
      " 13  developer       28836 non-null  object \n",
      " 14  sentiment       24953 non-null  object \n",
      " 15  metascore       2677 non-null   object \n",
      "dtypes: bool(1), float64(1), object(14)\n",
      "memory usage: 3.7+ MB\n"
     ]
    }
   ],
   "source": [
    "df0.info() #Consulta de las cantidades de registros por campos y tipos de datos"
   ]
  },
  {
   "cell_type": "markdown",
   "metadata": {},
   "source": [
    "2.c-Consulta de cantidad de nulos por campo"
   ]
  },
  {
   "cell_type": "code",
   "execution_count": 1458,
   "metadata": {},
   "outputs": [
    {
     "data": {
      "text/plain": [
       "publisher          8052\n",
       "genres             3283\n",
       "app_name              2\n",
       "title              2050\n",
       "url                   0\n",
       "release_date       2067\n",
       "tags                163\n",
       "discount_price    31910\n",
       "reviews_url           2\n",
       "specs               670\n",
       "price              1377\n",
       "early_access          0\n",
       "id                    2\n",
       "developer          3299\n",
       "sentiment          7182\n",
       "metascore         29458\n",
       "dtype: int64"
      ]
     },
     "execution_count": 1458,
     "metadata": {},
     "output_type": "execute_result"
    }
   ],
   "source": [
    "df0.isna().sum() #Consulta de nulos por campo"
   ]
  },
  {
   "cell_type": "markdown",
   "metadata": {},
   "source": [
    "3 - Identificacion de features importantes"
   ]
  },
  {
   "cell_type": "markdown",
   "metadata": {},
   "source": [
    "3.a-Eliminacion de variables consideradas irrelevantes y/o redundantes"
   ]
  },
  {
   "cell_type": "code",
   "execution_count": 1459,
   "metadata": {},
   "outputs": [],
   "source": [
    "columnas_a_eliminar = ['title','url','reviews_url','publisher','developer','id'] #Se va a trabajar con la columna app_name y se elimina la columna title por redundante. \n",
    "df0.drop(columns=columnas_a_eliminar, inplace=True)  #Las columnas url, reviews_url, publisher, id y developer se eliminan por irrelevantes para el analisis"
   ]
  },
  {
   "cell_type": "markdown",
   "metadata": {},
   "source": [
    "4 - Eliminacion de nulos"
   ]
  },
  {
   "cell_type": "markdown",
   "metadata": {},
   "source": [
    "4.a - Eliminación de Nan en realease_date"
   ]
  },
  {
   "cell_type": "code",
   "execution_count": 1460,
   "metadata": {},
   "outputs": [],
   "source": [
    "df0.dropna(subset = ['release_date'],inplace=True) #Se eliminan los nulos de release_date porque este campo es fundamental y no los podemos imputar de ninguna forma"
   ]
  },
  {
   "cell_type": "code",
   "execution_count": 1461,
   "metadata": {},
   "outputs": [
    {
     "name": "stdout",
     "output_type": "stream",
     "text": [
      "<class 'pandas.core.frame.DataFrame'>\n",
      "Index: 30068 entries, 0 to 32133\n",
      "Data columns (total 10 columns):\n",
      " #   Column          Non-Null Count  Dtype  \n",
      "---  ------          --------------  -----  \n",
      " 0   genres          28834 non-null  object \n",
      " 1   app_name        30067 non-null  object \n",
      " 2   release_date    30068 non-null  object \n",
      " 3   tags            29907 non-null  object \n",
      " 4   discount_price  204 non-null    float64\n",
      " 5   specs           29399 non-null  object \n",
      " 6   price           28821 non-null  object \n",
      " 7   early_access    30068 non-null  bool   \n",
      " 8   sentiment       23156 non-null  object \n",
      " 9   metascore       2623 non-null   object \n",
      "dtypes: bool(1), float64(1), object(8)\n",
      "memory usage: 2.3+ MB\n"
     ]
    }
   ],
   "source": [
    "df0.info()"
   ]
  },
  {
   "cell_type": "markdown",
   "metadata": {},
   "source": [
    "Creacion de la columna release_year necesaria para los endpoints"
   ]
  },
  {
   "cell_type": "code",
   "execution_count": 1462,
   "metadata": {},
   "outputs": [
    {
     "data": {
      "text/plain": [
       "array(['2018-01-04', '2017-07-24', '2017-12-07', ..., '2016-11-19',\n",
       "       'January 2018', '2018-10-01'], dtype=object)"
      ]
     },
     "execution_count": 1462,
     "metadata": {},
     "output_type": "execute_result"
    }
   ],
   "source": [
    "df0['release_date'].unique() #Consulta de valores unicos de la columna release_date"
   ]
  },
  {
   "cell_type": "code",
   "execution_count": 1463,
   "metadata": {},
   "outputs": [],
   "source": [
    "df0['release_year'] = df['release_date'].str.extract(r'(\\d{4})') #Con este metodo buscamos y extreamos secuencias de cuatro digitos(Distintos formatos de datos en la columna release_date)"
   ]
  },
  {
   "cell_type": "code",
   "execution_count": 1464,
   "metadata": {},
   "outputs": [
    {
     "data": {
      "text/plain": [
       "101"
      ]
     },
     "execution_count": 1464,
     "metadata": {},
     "output_type": "execute_result"
    }
   ],
   "source": [
    "df0.release_year.isna().sum() #Consulta de datos que no se puedo extraer en el paso previo"
   ]
  },
  {
   "cell_type": "markdown",
   "metadata": {},
   "source": [
    "\n",
    "Generacion de una mascara con los nulos del campo release_year para enviar a un data frame los posibles registros con datos erroneos en el campo release_date"
   ]
  },
  {
   "cell_type": "code",
   "execution_count": 1465,
   "metadata": {},
   "outputs": [
    {
     "data": {
      "text/html": [
       "<div>\n",
       "<style scoped>\n",
       "    .dataframe tbody tr th:only-of-type {\n",
       "        vertical-align: middle;\n",
       "    }\n",
       "\n",
       "    .dataframe tbody tr th {\n",
       "        vertical-align: top;\n",
       "    }\n",
       "\n",
       "    .dataframe thead th {\n",
       "        text-align: right;\n",
       "    }\n",
       "</style>\n",
       "<table border=\"1\" class=\"dataframe\">\n",
       "  <thead>\n",
       "    <tr style=\"text-align: right;\">\n",
       "      <th></th>\n",
       "      <th>genres</th>\n",
       "      <th>app_name</th>\n",
       "      <th>release_date</th>\n",
       "      <th>tags</th>\n",
       "      <th>discount_price</th>\n",
       "      <th>specs</th>\n",
       "      <th>price</th>\n",
       "      <th>early_access</th>\n",
       "      <th>sentiment</th>\n",
       "      <th>metascore</th>\n",
       "      <th>release_year</th>\n",
       "    </tr>\n",
       "  </thead>\n",
       "  <tbody>\n",
       "    <tr>\n",
       "      <th>10</th>\n",
       "      <td>[Action, Indie, Simulation, Early Access]</td>\n",
       "      <td>Uncanny Islands</td>\n",
       "      <td>Soon..</td>\n",
       "      <td>[Early Access, Action, Indie, Simulation, Surv...</td>\n",
       "      <td>NaN</td>\n",
       "      <td>[Single-player]</td>\n",
       "      <td>NaN</td>\n",
       "      <td>True</td>\n",
       "      <td>NaN</td>\n",
       "      <td>NaN</td>\n",
       "      <td>NaN</td>\n",
       "    </tr>\n",
       "    <tr>\n",
       "      <th>44</th>\n",
       "      <td>[Adventure, Free to Play, RPG, Early Access]</td>\n",
       "      <td>Idle Adventure</td>\n",
       "      <td>Beta测试已开启</td>\n",
       "      <td>[Early Access, Free to Play, Adventure, RPG]</td>\n",
       "      <td>NaN</td>\n",
       "      <td>[MMO, Steam Achievements]</td>\n",
       "      <td>NaN</td>\n",
       "      <td>True</td>\n",
       "      <td>NaN</td>\n",
       "      <td>NaN</td>\n",
       "      <td>NaN</td>\n",
       "    </tr>\n",
       "    <tr>\n",
       "      <th>6737</th>\n",
       "      <td>[Action, Indie]</td>\n",
       "      <td>Warhawks</td>\n",
       "      <td>Coming Soon</td>\n",
       "      <td>[Action, Indie, VR, Flight]</td>\n",
       "      <td>NaN</td>\n",
       "      <td>[Single-player, Multi-player, Steam Achievemen...</td>\n",
       "      <td>NaN</td>\n",
       "      <td>False</td>\n",
       "      <td>NaN</td>\n",
       "      <td>NaN</td>\n",
       "      <td>NaN</td>\n",
       "    </tr>\n",
       "    <tr>\n",
       "      <th>7134</th>\n",
       "      <td>[Adventure, Indie, Simulation]</td>\n",
       "      <td>Eco</td>\n",
       "      <td>Coming Soon</td>\n",
       "      <td>[Survival, Adventure, Multiplayer, Simulation,...</td>\n",
       "      <td>NaN</td>\n",
       "      <td>[Single-player, Multi-player, Online Multi-Pla...</td>\n",
       "      <td>NaN</td>\n",
       "      <td>False</td>\n",
       "      <td>NaN</td>\n",
       "      <td>NaN</td>\n",
       "      <td>NaN</td>\n",
       "    </tr>\n",
       "    <tr>\n",
       "      <th>7189</th>\n",
       "      <td>[Adventure, Casual, Indie]</td>\n",
       "      <td>Woven</td>\n",
       "      <td>TBA</td>\n",
       "      <td>[Indie, Casual, Adventure, Singleplayer, Story...</td>\n",
       "      <td>NaN</td>\n",
       "      <td>[Single-player]</td>\n",
       "      <td>NaN</td>\n",
       "      <td>False</td>\n",
       "      <td>NaN</td>\n",
       "      <td>NaN</td>\n",
       "      <td>NaN</td>\n",
       "    </tr>\n",
       "    <tr>\n",
       "      <th>8338</th>\n",
       "      <td>[Indie, Simulation]</td>\n",
       "      <td>Orcish Inn</td>\n",
       "      <td>When it's done</td>\n",
       "      <td>[Simulation, Indie, Survival]</td>\n",
       "      <td>NaN</td>\n",
       "      <td>[Single-player]</td>\n",
       "      <td>NaN</td>\n",
       "      <td>False</td>\n",
       "      <td>NaN</td>\n",
       "      <td>NaN</td>\n",
       "      <td>NaN</td>\n",
       "    </tr>\n",
       "    <tr>\n",
       "      <th>8552</th>\n",
       "      <td>[Adventure, Casual, Indie]</td>\n",
       "      <td>Out Of The Box</td>\n",
       "      <td>coming soon</td>\n",
       "      <td>[Indie, Adventure, Casual]</td>\n",
       "      <td>NaN</td>\n",
       "      <td>[Single-player, Steam Achievements, Steam Trad...</td>\n",
       "      <td>NaN</td>\n",
       "      <td>False</td>\n",
       "      <td>NaN</td>\n",
       "      <td>NaN</td>\n",
       "      <td>NaN</td>\n",
       "    </tr>\n",
       "    <tr>\n",
       "      <th>9335</th>\n",
       "      <td>[Action, Adventure, Indie]</td>\n",
       "      <td>Attack On Kitten</td>\n",
       "      <td>TBA</td>\n",
       "      <td>[Action, Indie, Adventure, Platformer]</td>\n",
       "      <td>NaN</td>\n",
       "      <td>[Single-player, Steam Achievements, Full contr...</td>\n",
       "      <td>NaN</td>\n",
       "      <td>False</td>\n",
       "      <td>NaN</td>\n",
       "      <td>NaN</td>\n",
       "      <td>NaN</td>\n",
       "    </tr>\n",
       "    <tr>\n",
       "      <th>10275</th>\n",
       "      <td>[Free to Play, RPG, Strategy]</td>\n",
       "      <td>Samurai Forge</td>\n",
       "      <td>soon</td>\n",
       "      <td>[Free to Play, Strategy, RPG]</td>\n",
       "      <td>NaN</td>\n",
       "      <td>[Single-player, Online Multi-Player, Online Co...</td>\n",
       "      <td>NaN</td>\n",
       "      <td>False</td>\n",
       "      <td>NaN</td>\n",
       "      <td>NaN</td>\n",
       "      <td>NaN</td>\n",
       "    </tr>\n",
       "    <tr>\n",
       "      <th>10483</th>\n",
       "      <td>[Indie]</td>\n",
       "      <td>Edge of Insanity</td>\n",
       "      <td>14 July</td>\n",
       "      <td>[Violent, Indie, Psychological Horror, Horror,...</td>\n",
       "      <td>NaN</td>\n",
       "      <td>[Single-player]</td>\n",
       "      <td>NaN</td>\n",
       "      <td>False</td>\n",
       "      <td>NaN</td>\n",
       "      <td>NaN</td>\n",
       "      <td>NaN</td>\n",
       "    </tr>\n",
       "  </tbody>\n",
       "</table>\n",
       "</div>"
      ],
      "text/plain": [
       "                                             genres          app_name  \\\n",
       "10        [Action, Indie, Simulation, Early Access]   Uncanny Islands   \n",
       "44     [Adventure, Free to Play, RPG, Early Access]    Idle Adventure   \n",
       "6737                                [Action, Indie]          Warhawks   \n",
       "7134                 [Adventure, Indie, Simulation]               Eco   \n",
       "7189                     [Adventure, Casual, Indie]             Woven   \n",
       "8338                            [Indie, Simulation]        Orcish Inn   \n",
       "8552                     [Adventure, Casual, Indie]    Out Of The Box   \n",
       "9335                     [Action, Adventure, Indie]  Attack On Kitten   \n",
       "10275                 [Free to Play, RPG, Strategy]     Samurai Forge   \n",
       "10483                                       [Indie]  Edge of Insanity   \n",
       "\n",
       "         release_date                                               tags  \\\n",
       "10             Soon..  [Early Access, Action, Indie, Simulation, Surv...   \n",
       "44          Beta测试已开启       [Early Access, Free to Play, Adventure, RPG]   \n",
       "6737      Coming Soon                        [Action, Indie, VR, Flight]   \n",
       "7134      Coming Soon  [Survival, Adventure, Multiplayer, Simulation,...   \n",
       "7189              TBA  [Indie, Casual, Adventure, Singleplayer, Story...   \n",
       "8338   When it's done                      [Simulation, Indie, Survival]   \n",
       "8552      coming soon                         [Indie, Adventure, Casual]   \n",
       "9335              TBA             [Action, Indie, Adventure, Platformer]   \n",
       "10275            soon                      [Free to Play, Strategy, RPG]   \n",
       "10483         14 July  [Violent, Indie, Psychological Horror, Horror,...   \n",
       "\n",
       "       discount_price                                              specs  \\\n",
       "10                NaN                                    [Single-player]   \n",
       "44                NaN                          [MMO, Steam Achievements]   \n",
       "6737              NaN  [Single-player, Multi-player, Steam Achievemen...   \n",
       "7134              NaN  [Single-player, Multi-player, Online Multi-Pla...   \n",
       "7189              NaN                                    [Single-player]   \n",
       "8338              NaN                                    [Single-player]   \n",
       "8552              NaN  [Single-player, Steam Achievements, Steam Trad...   \n",
       "9335              NaN  [Single-player, Steam Achievements, Full contr...   \n",
       "10275             NaN  [Single-player, Online Multi-Player, Online Co...   \n",
       "10483             NaN                                    [Single-player]   \n",
       "\n",
       "      price  early_access sentiment metascore release_year  \n",
       "10      NaN          True       NaN       NaN          NaN  \n",
       "44      NaN          True       NaN       NaN          NaN  \n",
       "6737    NaN         False       NaN       NaN          NaN  \n",
       "7134    NaN         False       NaN       NaN          NaN  \n",
       "7189    NaN         False       NaN       NaN          NaN  \n",
       "8338    NaN         False       NaN       NaN          NaN  \n",
       "8552    NaN         False       NaN       NaN          NaN  \n",
       "9335    NaN         False       NaN       NaN          NaN  \n",
       "10275   NaN         False       NaN       NaN          NaN  \n",
       "10483   NaN         False       NaN       NaN          NaN  "
      ]
     },
     "execution_count": 1465,
     "metadata": {},
     "output_type": "execute_result"
    }
   ],
   "source": [
    "mask = df0['release_year'].isna()    #Se genera una mascara con los nulos del campo release_year\n",
    "df_filtrado = df0[mask]              #Con la mascara se crea un data frame con los registros con posibles errores en el campo release_date\n",
    "df_filtrado.head(10)                #Consulta del data frame - df_filtrado es un data frame auxiliar"
   ]
  },
  {
   "cell_type": "code",
   "execution_count": 1466,
   "metadata": {},
   "outputs": [
    {
     "data": {
      "text/html": [
       "<div>\n",
       "<style scoped>\n",
       "    .dataframe tbody tr th:only-of-type {\n",
       "        vertical-align: middle;\n",
       "    }\n",
       "\n",
       "    .dataframe tbody tr th {\n",
       "        vertical-align: top;\n",
       "    }\n",
       "\n",
       "    .dataframe thead th {\n",
       "        text-align: right;\n",
       "    }\n",
       "</style>\n",
       "<table border=\"1\" class=\"dataframe\">\n",
       "  <thead>\n",
       "    <tr style=\"text-align: right;\">\n",
       "      <th></th>\n",
       "      <th>genres</th>\n",
       "      <th>app_name</th>\n",
       "      <th>release_date</th>\n",
       "      <th>tags</th>\n",
       "      <th>discount_price</th>\n",
       "      <th>specs</th>\n",
       "      <th>price</th>\n",
       "      <th>early_access</th>\n",
       "      <th>sentiment</th>\n",
       "      <th>metascore</th>\n",
       "      <th>release_year</th>\n",
       "    </tr>\n",
       "  </thead>\n",
       "  <tbody>\n",
       "    <tr>\n",
       "      <th>25926</th>\n",
       "      <td>[Action, Casual, Indie]</td>\n",
       "      <td>Shwip</td>\n",
       "      <td>When it's done!</td>\n",
       "      <td>[Action, Indie, Casual]</td>\n",
       "      <td>NaN</td>\n",
       "      <td>[Single-player, Local Multi-Player, Shared/Spl...</td>\n",
       "      <td>NaN</td>\n",
       "      <td>False</td>\n",
       "      <td>NaN</td>\n",
       "      <td>NaN</td>\n",
       "      <td>NaN</td>\n",
       "    </tr>\n",
       "    <tr>\n",
       "      <th>31925</th>\n",
       "      <td>[Casual, Indie, Racing]</td>\n",
       "      <td>Sparkour</td>\n",
       "      <td>Coming Soon</td>\n",
       "      <td>[Racing, Parkour, Casual, Indie, Multiplayer, ...</td>\n",
       "      <td>NaN</td>\n",
       "      <td>[Single-player, Multi-player, Online Multi-Pla...</td>\n",
       "      <td>NaN</td>\n",
       "      <td>False</td>\n",
       "      <td>NaN</td>\n",
       "      <td>NaN</td>\n",
       "      <td>NaN</td>\n",
       "    </tr>\n",
       "    <tr>\n",
       "      <th>31943</th>\n",
       "      <td>[Action, Indie]</td>\n",
       "      <td>Acceleration of SUGURI 2</td>\n",
       "      <td>Coming Soon</td>\n",
       "      <td>[Indie, Action, Bullet Hell, Anime, Cute, Shoo...</td>\n",
       "      <td>NaN</td>\n",
       "      <td>[Single-player, Multi-player, Shared/Split Scr...</td>\n",
       "      <td>NaN</td>\n",
       "      <td>False</td>\n",
       "      <td>NaN</td>\n",
       "      <td>NaN</td>\n",
       "      <td>NaN</td>\n",
       "    </tr>\n",
       "    <tr>\n",
       "      <th>31952</th>\n",
       "      <td>[Casual]</td>\n",
       "      <td>Dungeon Girl</td>\n",
       "      <td>Coming Soon</td>\n",
       "      <td>[Casual, Anime, Visual Novel, Puzzle, Match 3,...</td>\n",
       "      <td>NaN</td>\n",
       "      <td>[Single-player, Steam Achievements, Steam Clou...</td>\n",
       "      <td>NaN</td>\n",
       "      <td>False</td>\n",
       "      <td>NaN</td>\n",
       "      <td>NaN</td>\n",
       "      <td>NaN</td>\n",
       "    </tr>\n",
       "    <tr>\n",
       "      <th>31958</th>\n",
       "      <td>[Action]</td>\n",
       "      <td>Sniper Ghost Warrior 3 - Multiplayer map</td>\n",
       "      <td>coming soon</td>\n",
       "      <td>[Action, Violent]</td>\n",
       "      <td>NaN</td>\n",
       "      <td>[Single-player, Downloadable Content, Partial ...</td>\n",
       "      <td>19.99</td>\n",
       "      <td>False</td>\n",
       "      <td>NaN</td>\n",
       "      <td>NaN</td>\n",
       "      <td>NaN</td>\n",
       "    </tr>\n",
       "    <tr>\n",
       "      <th>31983</th>\n",
       "      <td>[Casual, Strategy]</td>\n",
       "      <td>Lost Artifacts</td>\n",
       "      <td>Coming soon</td>\n",
       "      <td>[Strategy, Casual]</td>\n",
       "      <td>NaN</td>\n",
       "      <td>[Single-player, Steam Achievements]</td>\n",
       "      <td>NaN</td>\n",
       "      <td>False</td>\n",
       "      <td>NaN</td>\n",
       "      <td>NaN</td>\n",
       "      <td>NaN</td>\n",
       "    </tr>\n",
       "    <tr>\n",
       "      <th>31989</th>\n",
       "      <td>[Action, Adventure, Indie]</td>\n",
       "      <td>Memento</td>\n",
       "      <td>TBD</td>\n",
       "      <td>[Indie, Action, Adventure, Horror]</td>\n",
       "      <td>NaN</td>\n",
       "      <td>[Single-player]</td>\n",
       "      <td>NaN</td>\n",
       "      <td>False</td>\n",
       "      <td>NaN</td>\n",
       "      <td>NaN</td>\n",
       "      <td>NaN</td>\n",
       "    </tr>\n",
       "    <tr>\n",
       "      <th>32000</th>\n",
       "      <td>[Adventure, Indie]</td>\n",
       "      <td>Spy of Deimos</td>\n",
       "      <td>Coming Soon</td>\n",
       "      <td>[Indie, Adventure]</td>\n",
       "      <td>NaN</td>\n",
       "      <td>[Single-player, Steam Achievements, Steam Cloud]</td>\n",
       "      <td>NaN</td>\n",
       "      <td>False</td>\n",
       "      <td>NaN</td>\n",
       "      <td>NaN</td>\n",
       "      <td>NaN</td>\n",
       "    </tr>\n",
       "    <tr>\n",
       "      <th>32008</th>\n",
       "      <td>[Action, Indie]</td>\n",
       "      <td>DUSK</td>\n",
       "      <td>SOON™</td>\n",
       "      <td>[Action, FPS, Indie, Retro, Shooter, Horror, G...</td>\n",
       "      <td>NaN</td>\n",
       "      <td>[Single-player, Online Multi-Player, Steam Ach...</td>\n",
       "      <td>20.0</td>\n",
       "      <td>False</td>\n",
       "      <td>NaN</td>\n",
       "      <td>NaN</td>\n",
       "      <td>NaN</td>\n",
       "    </tr>\n",
       "    <tr>\n",
       "      <th>32087</th>\n",
       "      <td>[Action, Casual, Indie, Simulation]</td>\n",
       "      <td>Lonely Astronaut</td>\n",
       "      <td>Coming Soon</td>\n",
       "      <td>[Casual, Action, Indie, Simulation]</td>\n",
       "      <td>NaN</td>\n",
       "      <td>[Single-player]</td>\n",
       "      <td>NaN</td>\n",
       "      <td>False</td>\n",
       "      <td>NaN</td>\n",
       "      <td>NaN</td>\n",
       "      <td>NaN</td>\n",
       "    </tr>\n",
       "  </tbody>\n",
       "</table>\n",
       "</div>"
      ],
      "text/plain": [
       "                                    genres  \\\n",
       "25926              [Action, Casual, Indie]   \n",
       "31925              [Casual, Indie, Racing]   \n",
       "31943                      [Action, Indie]   \n",
       "31952                             [Casual]   \n",
       "31958                             [Action]   \n",
       "31983                   [Casual, Strategy]   \n",
       "31989           [Action, Adventure, Indie]   \n",
       "32000                   [Adventure, Indie]   \n",
       "32008                      [Action, Indie]   \n",
       "32087  [Action, Casual, Indie, Simulation]   \n",
       "\n",
       "                                       app_name     release_date  \\\n",
       "25926                                     Shwip  When it's done!   \n",
       "31925                                  Sparkour      Coming Soon   \n",
       "31943                  Acceleration of SUGURI 2      Coming Soon   \n",
       "31952                              Dungeon Girl      Coming Soon   \n",
       "31958  Sniper Ghost Warrior 3 - Multiplayer map      coming soon   \n",
       "31983                            Lost Artifacts      Coming soon   \n",
       "31989                                   Memento              TBD   \n",
       "32000                             Spy of Deimos      Coming Soon   \n",
       "32008                                      DUSK            SOON™   \n",
       "32087                          Lonely Astronaut      Coming Soon   \n",
       "\n",
       "                                                    tags  discount_price  \\\n",
       "25926                            [Action, Indie, Casual]             NaN   \n",
       "31925  [Racing, Parkour, Casual, Indie, Multiplayer, ...             NaN   \n",
       "31943  [Indie, Action, Bullet Hell, Anime, Cute, Shoo...             NaN   \n",
       "31952  [Casual, Anime, Visual Novel, Puzzle, Match 3,...             NaN   \n",
       "31958                                  [Action, Violent]             NaN   \n",
       "31983                                 [Strategy, Casual]             NaN   \n",
       "31989                 [Indie, Action, Adventure, Horror]             NaN   \n",
       "32000                                 [Indie, Adventure]             NaN   \n",
       "32008  [Action, FPS, Indie, Retro, Shooter, Horror, G...             NaN   \n",
       "32087                [Casual, Action, Indie, Simulation]             NaN   \n",
       "\n",
       "                                                   specs  price  early_access  \\\n",
       "25926  [Single-player, Local Multi-Player, Shared/Spl...    NaN         False   \n",
       "31925  [Single-player, Multi-player, Online Multi-Pla...    NaN         False   \n",
       "31943  [Single-player, Multi-player, Shared/Split Scr...    NaN         False   \n",
       "31952  [Single-player, Steam Achievements, Steam Clou...    NaN         False   \n",
       "31958  [Single-player, Downloadable Content, Partial ...  19.99         False   \n",
       "31983                [Single-player, Steam Achievements]    NaN         False   \n",
       "31989                                    [Single-player]    NaN         False   \n",
       "32000   [Single-player, Steam Achievements, Steam Cloud]    NaN         False   \n",
       "32008  [Single-player, Online Multi-Player, Steam Ach...   20.0         False   \n",
       "32087                                    [Single-player]    NaN         False   \n",
       "\n",
       "      sentiment metascore release_year  \n",
       "25926       NaN       NaN          NaN  \n",
       "31925       NaN       NaN          NaN  \n",
       "31943       NaN       NaN          NaN  \n",
       "31952       NaN       NaN          NaN  \n",
       "31958       NaN       NaN          NaN  \n",
       "31983       NaN       NaN          NaN  \n",
       "31989       NaN       NaN          NaN  \n",
       "32000       NaN       NaN          NaN  \n",
       "32008       NaN       NaN          NaN  \n",
       "32087       NaN       NaN          NaN  "
      ]
     },
     "execution_count": 1466,
     "metadata": {},
     "output_type": "execute_result"
    }
   ],
   "source": [
    "df_filtrado.tail(10)        #Consulta del data frame"
   ]
  },
  {
   "cell_type": "code",
   "execution_count": 1467,
   "metadata": {},
   "outputs": [
    {
     "name": "stdout",
     "output_type": "stream",
     "text": [
      "<class 'pandas.core.frame.DataFrame'>\n",
      "Index: 101 entries, 10 to 32087\n",
      "Data columns (total 11 columns):\n",
      " #   Column          Non-Null Count  Dtype  \n",
      "---  ------          --------------  -----  \n",
      " 0   genres          101 non-null    object \n",
      " 1   app_name        101 non-null    object \n",
      " 2   release_date    101 non-null    object \n",
      " 3   tags            101 non-null    object \n",
      " 4   discount_price  0 non-null      float64\n",
      " 5   specs           101 non-null    object \n",
      " 6   price           3 non-null      object \n",
      " 7   early_access    101 non-null    bool   \n",
      " 8   sentiment       0 non-null      object \n",
      " 9   metascore       0 non-null      object \n",
      " 10  release_year    0 non-null      object \n",
      "dtypes: bool(1), float64(1), object(9)\n",
      "memory usage: 8.8+ KB\n"
     ]
    }
   ],
   "source": [
    "df_filtrado.info()  #Consulta de los campos del data frame filtrado"
   ]
  },
  {
   "cell_type": "code",
   "execution_count": 1468,
   "metadata": {},
   "outputs": [
    {
     "data": {
      "text/plain": [
       "37"
      ]
     },
     "execution_count": 1468,
     "metadata": {},
     "output_type": "execute_result"
    }
   ],
   "source": [
    "df_filtrado.release_date.nunique()  #Consulta de cantidad de registros unicos en release_date del data frame filtrado"
   ]
  },
  {
   "cell_type": "code",
   "execution_count": 1469,
   "metadata": {},
   "outputs": [
    {
     "data": {
      "text/plain": [
       "array(['Soon..', 'Beta测试已开启', 'Coming Soon', 'TBA', \"When it's done\",\n",
       "       'coming soon', 'soon', '14 July', 'To be Announced', 'TBD', 'Soon',\n",
       "       'Please wait warmly', 'early access', 'SOON',\n",
       "       'Coming Soon/Próximamente', 'Coming soon',\n",
       "       '0̵1̴0̵0̶1̷0̶0̵0̴ ̴0̶0̶1̶1̶0̷0̶1̵1̴ ̸0̶0̶1̶1̵0̶1̷0̴0̵ ̴0̶1̷0̸1̵0̷0̴1̶0̴ ̴0̷0̴1̷1̶0̶1̵1̷1̵ ̵',\n",
       "       '\"\"\"Soon\"\"\"', 'Demo coming soon.', 'Not yet available',\n",
       "       \"C'est bientôt...                    (ou pas)\",\n",
       "       'Datachunks conflicted. Be vigiliant.', 'Demo is available now!',\n",
       "       'Play Beta in demo!', 'Coming Soon!', 'To be announced',\n",
       "       'When it is finished', 'Release Date TBA', 'When it is ready',\n",
       "       'Early Access Starting Soon!', 'Comming Soon', 'Early Access soon',\n",
       "       'To Be Announced', 'Coming soon..', 'Soon™', \"When it's done!\",\n",
       "       'SOON™'], dtype=object)"
      ]
     },
     "execution_count": 1469,
     "metadata": {},
     "output_type": "execute_result"
    }
   ],
   "source": [
    "df_filtrado.release_date.unique()   #Consulta de lista de registros unicos en release_date del data frame fitlrado"
   ]
  },
  {
   "cell_type": "code",
   "execution_count": 1470,
   "metadata": {},
   "outputs": [],
   "source": [
    "del df_filtrado"
   ]
  },
  {
   "cell_type": "markdown",
   "metadata": {},
   "source": [
    "Limpieza de columna release_date medainte la columna release_year"
   ]
  },
  {
   "cell_type": "code",
   "execution_count": 1471,
   "metadata": {},
   "outputs": [],
   "source": [
    "df1 = df0.dropna(subset=['release_year']) #Se eliminan de esta manera los registros erroneos de release_data - df1 data frame del proyecto (Rev.1) sin nulos de release_year"
   ]
  },
  {
   "cell_type": "code",
   "execution_count": 1472,
   "metadata": {},
   "outputs": [],
   "source": [
    "del df0"
   ]
  },
  {
   "cell_type": "code",
   "execution_count": 1473,
   "metadata": {},
   "outputs": [
    {
     "name": "stdout",
     "output_type": "stream",
     "text": [
      "<class 'pandas.core.frame.DataFrame'>\n",
      "Index: 29967 entries, 0 to 32133\n",
      "Data columns (total 11 columns):\n",
      " #   Column          Non-Null Count  Dtype  \n",
      "---  ------          --------------  -----  \n",
      " 0   genres          28733 non-null  object \n",
      " 1   app_name        29966 non-null  object \n",
      " 2   release_date    29967 non-null  object \n",
      " 3   tags            29806 non-null  object \n",
      " 4   discount_price  204 non-null    float64\n",
      " 5   specs           29298 non-null  object \n",
      " 6   price           28818 non-null  object \n",
      " 7   early_access    29967 non-null  bool   \n",
      " 8   sentiment       23156 non-null  object \n",
      " 9   metascore       2623 non-null   object \n",
      " 10  release_year    29967 non-null  object \n",
      "dtypes: bool(1), float64(1), object(9)\n",
      "memory usage: 2.5+ MB\n"
     ]
    }
   ],
   "source": [
    "df1.info() #Consulta del nuevo data frame"
   ]
  },
  {
   "cell_type": "code",
   "execution_count": 1474,
   "metadata": {},
   "outputs": [
    {
     "data": {
      "text/html": [
       "<div>\n",
       "<style scoped>\n",
       "    .dataframe tbody tr th:only-of-type {\n",
       "        vertical-align: middle;\n",
       "    }\n",
       "\n",
       "    .dataframe tbody tr th {\n",
       "        vertical-align: top;\n",
       "    }\n",
       "\n",
       "    .dataframe thead th {\n",
       "        text-align: right;\n",
       "    }\n",
       "</style>\n",
       "<table border=\"1\" class=\"dataframe\">\n",
       "  <thead>\n",
       "    <tr style=\"text-align: right;\">\n",
       "      <th></th>\n",
       "      <th>genres</th>\n",
       "      <th>app_name</th>\n",
       "      <th>release_date</th>\n",
       "      <th>tags</th>\n",
       "      <th>discount_price</th>\n",
       "      <th>specs</th>\n",
       "      <th>price</th>\n",
       "      <th>early_access</th>\n",
       "      <th>sentiment</th>\n",
       "      <th>metascore</th>\n",
       "      <th>release_year</th>\n",
       "    </tr>\n",
       "  </thead>\n",
       "  <tbody>\n",
       "    <tr>\n",
       "      <th>0</th>\n",
       "      <td>[Action, Casual, Indie, Simulation, Strategy]</td>\n",
       "      <td>Lost Summoner Kitty</td>\n",
       "      <td>2018-01-04</td>\n",
       "      <td>[Strategy, Action, Indie, Casual, Simulation]</td>\n",
       "      <td>4.49</td>\n",
       "      <td>[Single-player]</td>\n",
       "      <td>4.99</td>\n",
       "      <td>False</td>\n",
       "      <td>NaN</td>\n",
       "      <td>NaN</td>\n",
       "      <td>2018</td>\n",
       "    </tr>\n",
       "    <tr>\n",
       "      <th>1</th>\n",
       "      <td>[Free to Play, Indie, RPG, Strategy]</td>\n",
       "      <td>Ironbound</td>\n",
       "      <td>2018-01-04</td>\n",
       "      <td>[Free to Play, Strategy, Indie, RPG, Card Game...</td>\n",
       "      <td>NaN</td>\n",
       "      <td>[Single-player, Multi-player, Online Multi-Pla...</td>\n",
       "      <td>Free To Play</td>\n",
       "      <td>False</td>\n",
       "      <td>Mostly Positive</td>\n",
       "      <td>NaN</td>\n",
       "      <td>2018</td>\n",
       "    </tr>\n",
       "    <tr>\n",
       "      <th>2</th>\n",
       "      <td>[Casual, Free to Play, Indie, Simulation, Sports]</td>\n",
       "      <td>Real Pool 3D - Poolians</td>\n",
       "      <td>2017-07-24</td>\n",
       "      <td>[Free to Play, Simulation, Sports, Casual, Ind...</td>\n",
       "      <td>NaN</td>\n",
       "      <td>[Single-player, Multi-player, Online Multi-Pla...</td>\n",
       "      <td>Free to Play</td>\n",
       "      <td>False</td>\n",
       "      <td>Mostly Positive</td>\n",
       "      <td>NaN</td>\n",
       "      <td>2017</td>\n",
       "    </tr>\n",
       "    <tr>\n",
       "      <th>3</th>\n",
       "      <td>[Action, Adventure, Casual]</td>\n",
       "      <td>弹炸人2222</td>\n",
       "      <td>2017-12-07</td>\n",
       "      <td>[Action, Adventure, Casual]</td>\n",
       "      <td>0.83</td>\n",
       "      <td>[Single-player]</td>\n",
       "      <td>0.99</td>\n",
       "      <td>False</td>\n",
       "      <td>NaN</td>\n",
       "      <td>NaN</td>\n",
       "      <td>2017</td>\n",
       "    </tr>\n",
       "    <tr>\n",
       "      <th>5</th>\n",
       "      <td>[Action, Adventure, Simulation]</td>\n",
       "      <td>Battle Royale Trainer</td>\n",
       "      <td>2018-01-04</td>\n",
       "      <td>[Action, Adventure, Simulation, FPS, Shooter, ...</td>\n",
       "      <td>NaN</td>\n",
       "      <td>[Single-player, Steam Achievements]</td>\n",
       "      <td>3.99</td>\n",
       "      <td>False</td>\n",
       "      <td>Mixed</td>\n",
       "      <td>NaN</td>\n",
       "      <td>2018</td>\n",
       "    </tr>\n",
       "  </tbody>\n",
       "</table>\n",
       "</div>"
      ],
      "text/plain": [
       "                                              genres                 app_name  \\\n",
       "0      [Action, Casual, Indie, Simulation, Strategy]      Lost Summoner Kitty   \n",
       "1               [Free to Play, Indie, RPG, Strategy]                Ironbound   \n",
       "2  [Casual, Free to Play, Indie, Simulation, Sports]  Real Pool 3D - Poolians   \n",
       "3                        [Action, Adventure, Casual]                  弹炸人2222   \n",
       "5                    [Action, Adventure, Simulation]    Battle Royale Trainer   \n",
       "\n",
       "  release_date                                               tags  \\\n",
       "0   2018-01-04      [Strategy, Action, Indie, Casual, Simulation]   \n",
       "1   2018-01-04  [Free to Play, Strategy, Indie, RPG, Card Game...   \n",
       "2   2017-07-24  [Free to Play, Simulation, Sports, Casual, Ind...   \n",
       "3   2017-12-07                        [Action, Adventure, Casual]   \n",
       "5   2018-01-04  [Action, Adventure, Simulation, FPS, Shooter, ...   \n",
       "\n",
       "   discount_price                                              specs  \\\n",
       "0            4.49                                    [Single-player]   \n",
       "1             NaN  [Single-player, Multi-player, Online Multi-Pla...   \n",
       "2             NaN  [Single-player, Multi-player, Online Multi-Pla...   \n",
       "3            0.83                                    [Single-player]   \n",
       "5             NaN                [Single-player, Steam Achievements]   \n",
       "\n",
       "          price  early_access        sentiment metascore release_year  \n",
       "0          4.99         False              NaN       NaN         2018  \n",
       "1  Free To Play         False  Mostly Positive       NaN         2018  \n",
       "2  Free to Play         False  Mostly Positive       NaN         2017  \n",
       "3          0.99         False              NaN       NaN         2017  \n",
       "5          3.99         False            Mixed       NaN         2018  "
      ]
     },
     "execution_count": 1474,
     "metadata": {},
     "output_type": "execute_result"
    }
   ],
   "source": [
    "df1.head() #Consulta del nuevo data frame"
   ]
  },
  {
   "cell_type": "code",
   "execution_count": 1475,
   "metadata": {},
   "outputs": [
    {
     "data": {
      "text/html": [
       "<div>\n",
       "<style scoped>\n",
       "    .dataframe tbody tr th:only-of-type {\n",
       "        vertical-align: middle;\n",
       "    }\n",
       "\n",
       "    .dataframe tbody tr th {\n",
       "        vertical-align: top;\n",
       "    }\n",
       "\n",
       "    .dataframe thead th {\n",
       "        text-align: right;\n",
       "    }\n",
       "</style>\n",
       "<table border=\"1\" class=\"dataframe\">\n",
       "  <thead>\n",
       "    <tr style=\"text-align: right;\">\n",
       "      <th></th>\n",
       "      <th>release_date</th>\n",
       "      <th>release_year</th>\n",
       "    </tr>\n",
       "  </thead>\n",
       "  <tbody>\n",
       "    <tr>\n",
       "      <th>0</th>\n",
       "      <td>2018-01-04</td>\n",
       "      <td>2018</td>\n",
       "    </tr>\n",
       "    <tr>\n",
       "      <th>1</th>\n",
       "      <td>2018-01-04</td>\n",
       "      <td>2018</td>\n",
       "    </tr>\n",
       "    <tr>\n",
       "      <th>2</th>\n",
       "      <td>2017-07-24</td>\n",
       "      <td>2017</td>\n",
       "    </tr>\n",
       "    <tr>\n",
       "      <th>3</th>\n",
       "      <td>2017-12-07</td>\n",
       "      <td>2017</td>\n",
       "    </tr>\n",
       "    <tr>\n",
       "      <th>5</th>\n",
       "      <td>2018-01-04</td>\n",
       "      <td>2018</td>\n",
       "    </tr>\n",
       "    <tr>\n",
       "      <th>...</th>\n",
       "      <td>...</td>\n",
       "      <td>...</td>\n",
       "    </tr>\n",
       "    <tr>\n",
       "      <th>32129</th>\n",
       "      <td>2018-01-04</td>\n",
       "      <td>2018</td>\n",
       "    </tr>\n",
       "    <tr>\n",
       "      <th>32130</th>\n",
       "      <td>2018-01-04</td>\n",
       "      <td>2018</td>\n",
       "    </tr>\n",
       "    <tr>\n",
       "      <th>32131</th>\n",
       "      <td>2018-01-04</td>\n",
       "      <td>2018</td>\n",
       "    </tr>\n",
       "    <tr>\n",
       "      <th>32132</th>\n",
       "      <td>2018-01-04</td>\n",
       "      <td>2018</td>\n",
       "    </tr>\n",
       "    <tr>\n",
       "      <th>32133</th>\n",
       "      <td>2017-09-02</td>\n",
       "      <td>2017</td>\n",
       "    </tr>\n",
       "  </tbody>\n",
       "</table>\n",
       "<p>29967 rows × 2 columns</p>\n",
       "</div>"
      ],
      "text/plain": [
       "      release_date release_year\n",
       "0       2018-01-04         2018\n",
       "1       2018-01-04         2018\n",
       "2       2017-07-24         2017\n",
       "3       2017-12-07         2017\n",
       "5       2018-01-04         2018\n",
       "...            ...          ...\n",
       "32129   2018-01-04         2018\n",
       "32130   2018-01-04         2018\n",
       "32131   2018-01-04         2018\n",
       "32132   2018-01-04         2018\n",
       "32133   2017-09-02         2017\n",
       "\n",
       "[29967 rows x 2 columns]"
      ]
     },
     "execution_count": 1475,
     "metadata": {},
     "output_type": "execute_result"
    }
   ],
   "source": [
    "df1[['release_date','release_year']] #Consulta solo de las columnas release_date y release_year"
   ]
  },
  {
   "cell_type": "markdown",
   "metadata": {},
   "source": [
    "Elimnación de la columna release_date por resultar ya irrelevante para el proyecto"
   ]
  },
  {
   "cell_type": "code",
   "execution_count": 1476,
   "metadata": {},
   "outputs": [],
   "source": [
    "df1.drop(columns='release_date', inplace=True) #Se elimina la columna release_date por resultar ya irrelevante para el proyecto"
   ]
  },
  {
   "cell_type": "markdown",
   "metadata": {},
   "source": [
    "Conversion de la variable release_year a numerica"
   ]
  },
  {
   "cell_type": "code",
   "execution_count": 1477,
   "metadata": {},
   "outputs": [],
   "source": [
    "df1['release_year'] = pd.to_numeric(df1['release_year']) #Conversion de la variable release_year a numerica"
   ]
  },
  {
   "cell_type": "code",
   "execution_count": 1478,
   "metadata": {},
   "outputs": [
    {
     "name": "stdout",
     "output_type": "stream",
     "text": [
      "<class 'pandas.core.frame.DataFrame'>\n",
      "Index: 29967 entries, 0 to 32133\n",
      "Data columns (total 10 columns):\n",
      " #   Column          Non-Null Count  Dtype  \n",
      "---  ------          --------------  -----  \n",
      " 0   genres          28733 non-null  object \n",
      " 1   app_name        29966 non-null  object \n",
      " 2   tags            29806 non-null  object \n",
      " 3   discount_price  204 non-null    float64\n",
      " 4   specs           29298 non-null  object \n",
      " 5   price           28818 non-null  object \n",
      " 6   early_access    29967 non-null  bool   \n",
      " 7   sentiment       23156 non-null  object \n",
      " 8   metascore       2623 non-null   object \n",
      " 9   release_year    29967 non-null  int64  \n",
      "dtypes: bool(1), float64(1), int64(1), object(7)\n",
      "memory usage: 2.3+ MB\n"
     ]
    }
   ],
   "source": [
    "df1.info()"
   ]
  },
  {
   "cell_type": "markdown",
   "metadata": {},
   "source": [
    "3 - Transformaciones"
   ]
  },
  {
   "cell_type": "markdown",
   "metadata": {},
   "source": [
    "3.a - Expansión de las columnas anidadas"
   ]
  },
  {
   "cell_type": "code",
   "execution_count": 1479,
   "metadata": {},
   "outputs": [],
   "source": [
    "df2 = df1.explode('genres') #Se desanida el campo genres - df2 es data frame de proyecto (Rev.2) con la columna genres desanidada\n"
   ]
  },
  {
   "cell_type": "code",
   "execution_count": 1480,
   "metadata": {},
   "outputs": [],
   "source": [
    "del df1"
   ]
  },
  {
   "cell_type": "code",
   "execution_count": 1481,
   "metadata": {},
   "outputs": [
    {
     "data": {
      "text/html": [
       "<div>\n",
       "<style scoped>\n",
       "    .dataframe tbody tr th:only-of-type {\n",
       "        vertical-align: middle;\n",
       "    }\n",
       "\n",
       "    .dataframe tbody tr th {\n",
       "        vertical-align: top;\n",
       "    }\n",
       "\n",
       "    .dataframe thead th {\n",
       "        text-align: right;\n",
       "    }\n",
       "</style>\n",
       "<table border=\"1\" class=\"dataframe\">\n",
       "  <thead>\n",
       "    <tr style=\"text-align: right;\">\n",
       "      <th></th>\n",
       "      <th>genres</th>\n",
       "      <th>app_name</th>\n",
       "      <th>tags</th>\n",
       "      <th>discount_price</th>\n",
       "      <th>specs</th>\n",
       "      <th>price</th>\n",
       "      <th>early_access</th>\n",
       "      <th>sentiment</th>\n",
       "      <th>metascore</th>\n",
       "      <th>release_year</th>\n",
       "    </tr>\n",
       "  </thead>\n",
       "  <tbody>\n",
       "    <tr>\n",
       "      <th>0</th>\n",
       "      <td>Action</td>\n",
       "      <td>Lost Summoner Kitty</td>\n",
       "      <td>[Strategy, Action, Indie, Casual, Simulation]</td>\n",
       "      <td>4.49</td>\n",
       "      <td>[Single-player]</td>\n",
       "      <td>4.99</td>\n",
       "      <td>False</td>\n",
       "      <td>NaN</td>\n",
       "      <td>NaN</td>\n",
       "      <td>2018</td>\n",
       "    </tr>\n",
       "    <tr>\n",
       "      <th>0</th>\n",
       "      <td>Casual</td>\n",
       "      <td>Lost Summoner Kitty</td>\n",
       "      <td>[Strategy, Action, Indie, Casual, Simulation]</td>\n",
       "      <td>4.49</td>\n",
       "      <td>[Single-player]</td>\n",
       "      <td>4.99</td>\n",
       "      <td>False</td>\n",
       "      <td>NaN</td>\n",
       "      <td>NaN</td>\n",
       "      <td>2018</td>\n",
       "    </tr>\n",
       "    <tr>\n",
       "      <th>0</th>\n",
       "      <td>Indie</td>\n",
       "      <td>Lost Summoner Kitty</td>\n",
       "      <td>[Strategy, Action, Indie, Casual, Simulation]</td>\n",
       "      <td>4.49</td>\n",
       "      <td>[Single-player]</td>\n",
       "      <td>4.99</td>\n",
       "      <td>False</td>\n",
       "      <td>NaN</td>\n",
       "      <td>NaN</td>\n",
       "      <td>2018</td>\n",
       "    </tr>\n",
       "    <tr>\n",
       "      <th>0</th>\n",
       "      <td>Simulation</td>\n",
       "      <td>Lost Summoner Kitty</td>\n",
       "      <td>[Strategy, Action, Indie, Casual, Simulation]</td>\n",
       "      <td>4.49</td>\n",
       "      <td>[Single-player]</td>\n",
       "      <td>4.99</td>\n",
       "      <td>False</td>\n",
       "      <td>NaN</td>\n",
       "      <td>NaN</td>\n",
       "      <td>2018</td>\n",
       "    </tr>\n",
       "    <tr>\n",
       "      <th>0</th>\n",
       "      <td>Strategy</td>\n",
       "      <td>Lost Summoner Kitty</td>\n",
       "      <td>[Strategy, Action, Indie, Casual, Simulation]</td>\n",
       "      <td>4.49</td>\n",
       "      <td>[Single-player]</td>\n",
       "      <td>4.99</td>\n",
       "      <td>False</td>\n",
       "      <td>NaN</td>\n",
       "      <td>NaN</td>\n",
       "      <td>2018</td>\n",
       "    </tr>\n",
       "    <tr>\n",
       "      <th>1</th>\n",
       "      <td>Free to Play</td>\n",
       "      <td>Ironbound</td>\n",
       "      <td>[Free to Play, Strategy, Indie, RPG, Card Game...</td>\n",
       "      <td>NaN</td>\n",
       "      <td>[Single-player, Multi-player, Online Multi-Pla...</td>\n",
       "      <td>Free To Play</td>\n",
       "      <td>False</td>\n",
       "      <td>Mostly Positive</td>\n",
       "      <td>NaN</td>\n",
       "      <td>2018</td>\n",
       "    </tr>\n",
       "    <tr>\n",
       "      <th>1</th>\n",
       "      <td>Indie</td>\n",
       "      <td>Ironbound</td>\n",
       "      <td>[Free to Play, Strategy, Indie, RPG, Card Game...</td>\n",
       "      <td>NaN</td>\n",
       "      <td>[Single-player, Multi-player, Online Multi-Pla...</td>\n",
       "      <td>Free To Play</td>\n",
       "      <td>False</td>\n",
       "      <td>Mostly Positive</td>\n",
       "      <td>NaN</td>\n",
       "      <td>2018</td>\n",
       "    </tr>\n",
       "    <tr>\n",
       "      <th>1</th>\n",
       "      <td>RPG</td>\n",
       "      <td>Ironbound</td>\n",
       "      <td>[Free to Play, Strategy, Indie, RPG, Card Game...</td>\n",
       "      <td>NaN</td>\n",
       "      <td>[Single-player, Multi-player, Online Multi-Pla...</td>\n",
       "      <td>Free To Play</td>\n",
       "      <td>False</td>\n",
       "      <td>Mostly Positive</td>\n",
       "      <td>NaN</td>\n",
       "      <td>2018</td>\n",
       "    </tr>\n",
       "    <tr>\n",
       "      <th>1</th>\n",
       "      <td>Strategy</td>\n",
       "      <td>Ironbound</td>\n",
       "      <td>[Free to Play, Strategy, Indie, RPG, Card Game...</td>\n",
       "      <td>NaN</td>\n",
       "      <td>[Single-player, Multi-player, Online Multi-Pla...</td>\n",
       "      <td>Free To Play</td>\n",
       "      <td>False</td>\n",
       "      <td>Mostly Positive</td>\n",
       "      <td>NaN</td>\n",
       "      <td>2018</td>\n",
       "    </tr>\n",
       "    <tr>\n",
       "      <th>2</th>\n",
       "      <td>Casual</td>\n",
       "      <td>Real Pool 3D - Poolians</td>\n",
       "      <td>[Free to Play, Simulation, Sports, Casual, Ind...</td>\n",
       "      <td>NaN</td>\n",
       "      <td>[Single-player, Multi-player, Online Multi-Pla...</td>\n",
       "      <td>Free to Play</td>\n",
       "      <td>False</td>\n",
       "      <td>Mostly Positive</td>\n",
       "      <td>NaN</td>\n",
       "      <td>2017</td>\n",
       "    </tr>\n",
       "  </tbody>\n",
       "</table>\n",
       "</div>"
      ],
      "text/plain": [
       "         genres                 app_name  \\\n",
       "0        Action      Lost Summoner Kitty   \n",
       "0        Casual      Lost Summoner Kitty   \n",
       "0         Indie      Lost Summoner Kitty   \n",
       "0    Simulation      Lost Summoner Kitty   \n",
       "0      Strategy      Lost Summoner Kitty   \n",
       "1  Free to Play                Ironbound   \n",
       "1         Indie                Ironbound   \n",
       "1           RPG                Ironbound   \n",
       "1      Strategy                Ironbound   \n",
       "2        Casual  Real Pool 3D - Poolians   \n",
       "\n",
       "                                                tags  discount_price  \\\n",
       "0      [Strategy, Action, Indie, Casual, Simulation]            4.49   \n",
       "0      [Strategy, Action, Indie, Casual, Simulation]            4.49   \n",
       "0      [Strategy, Action, Indie, Casual, Simulation]            4.49   \n",
       "0      [Strategy, Action, Indie, Casual, Simulation]            4.49   \n",
       "0      [Strategy, Action, Indie, Casual, Simulation]            4.49   \n",
       "1  [Free to Play, Strategy, Indie, RPG, Card Game...             NaN   \n",
       "1  [Free to Play, Strategy, Indie, RPG, Card Game...             NaN   \n",
       "1  [Free to Play, Strategy, Indie, RPG, Card Game...             NaN   \n",
       "1  [Free to Play, Strategy, Indie, RPG, Card Game...             NaN   \n",
       "2  [Free to Play, Simulation, Sports, Casual, Ind...             NaN   \n",
       "\n",
       "                                               specs         price  \\\n",
       "0                                    [Single-player]          4.99   \n",
       "0                                    [Single-player]          4.99   \n",
       "0                                    [Single-player]          4.99   \n",
       "0                                    [Single-player]          4.99   \n",
       "0                                    [Single-player]          4.99   \n",
       "1  [Single-player, Multi-player, Online Multi-Pla...  Free To Play   \n",
       "1  [Single-player, Multi-player, Online Multi-Pla...  Free To Play   \n",
       "1  [Single-player, Multi-player, Online Multi-Pla...  Free To Play   \n",
       "1  [Single-player, Multi-player, Online Multi-Pla...  Free To Play   \n",
       "2  [Single-player, Multi-player, Online Multi-Pla...  Free to Play   \n",
       "\n",
       "   early_access        sentiment metascore  release_year  \n",
       "0         False              NaN       NaN          2018  \n",
       "0         False              NaN       NaN          2018  \n",
       "0         False              NaN       NaN          2018  \n",
       "0         False              NaN       NaN          2018  \n",
       "0         False              NaN       NaN          2018  \n",
       "1         False  Mostly Positive       NaN          2018  \n",
       "1         False  Mostly Positive       NaN          2018  \n",
       "1         False  Mostly Positive       NaN          2018  \n",
       "1         False  Mostly Positive       NaN          2018  \n",
       "2         False  Mostly Positive       NaN          2017  "
      ]
     },
     "execution_count": 1481,
     "metadata": {},
     "output_type": "execute_result"
    }
   ],
   "source": [
    "df2.head(10) #Consulta del nuevo data frame desanidado"
   ]
  },
  {
   "cell_type": "code",
   "execution_count": 1482,
   "metadata": {},
   "outputs": [
    {
     "name": "stdout",
     "output_type": "stream",
     "text": [
      "<class 'pandas.core.frame.DataFrame'>\n",
      "Index: 72450 entries, 0 to 32133\n",
      "Data columns (total 10 columns):\n",
      " #   Column          Non-Null Count  Dtype  \n",
      "---  ------          --------------  -----  \n",
      " 0   genres          71216 non-null  object \n",
      " 1   app_name        72448 non-null  object \n",
      " 2   tags            72267 non-null  object \n",
      " 3   discount_price  580 non-null    float64\n",
      " 4   specs           71510 non-null  object \n",
      " 5   price           69542 non-null  object \n",
      " 6   early_access    72450 non-null  bool   \n",
      " 7   sentiment       56152 non-null  object \n",
      " 8   metascore       5474 non-null   object \n",
      " 9   release_year    72450 non-null  int64  \n",
      "dtypes: bool(1), float64(1), int64(1), object(7)\n",
      "memory usage: 5.6+ MB\n"
     ]
    }
   ],
   "source": [
    "df2.info() #Consulta del nuevo data frame desanidado"
   ]
  },
  {
   "cell_type": "code",
   "execution_count": 1483,
   "metadata": {},
   "outputs": [
    {
     "data": {
      "text/plain": [
       "array(['Action', 'Casual', 'Indie', 'Simulation', 'Strategy',\n",
       "       'Free to Play', 'RPG', 'Sports', 'Adventure', 'Racing', nan,\n",
       "       'Massively Multiplayer', 'Early Access',\n",
       "       'Animation &amp; Modeling', 'Video Production', 'Web Publishing',\n",
       "       'Education', 'Software Training', 'Utilities',\n",
       "       'Design &amp; Illustration', 'Audio Production', 'Photo Editing',\n",
       "       'Accounting'], dtype=object)"
      ]
     },
     "execution_count": 1483,
     "metadata": {},
     "output_type": "execute_result"
    }
   ],
   "source": [
    "lista_genres = df2.genres.unique() #Consulta de valores unicos del campo genres\n",
    "lista_genres"
   ]
  },
  {
   "cell_type": "code",
   "execution_count": 1484,
   "metadata": {},
   "outputs": [
    {
     "data": {
      "text/plain": [
       "22"
      ]
     },
     "execution_count": 1484,
     "metadata": {},
     "output_type": "execute_result"
    }
   ],
   "source": [
    "df2.genres.nunique() #Consulta de la cantidad de valores unicos del campo genres"
   ]
  },
  {
   "cell_type": "markdown",
   "metadata": {},
   "source": [
    "Correcion de los valores 'Animation &amp; Modeling' y 'Design &amp; Illustration' en los registros"
   ]
  },
  {
   "cell_type": "code",
   "execution_count": 1485,
   "metadata": {},
   "outputs": [],
   "source": [
    "df2['genres'] = df2['genres'].replace({'Animation &amp; Modeling':'Animation & Modeling',\n",
    "                                                            'Design &amp; Illustration':'Design & Illustration'}) #Se corrigen dos valores en los registros"
   ]
  },
  {
   "cell_type": "code",
   "execution_count": 1486,
   "metadata": {},
   "outputs": [
    {
     "data": {
      "text/plain": [
       "genres             1234\n",
       "app_name              2\n",
       "tags                183\n",
       "discount_price    71870\n",
       "specs               940\n",
       "price              2908\n",
       "early_access          0\n",
       "sentiment         16298\n",
       "metascore         66976\n",
       "release_year          0\n",
       "dtype: int64"
      ]
     },
     "execution_count": 1486,
     "metadata": {},
     "output_type": "execute_result"
    }
   ],
   "source": [
    "df2.isna().sum() #Consulta de nulos del data frame"
   ]
  },
  {
   "cell_type": "markdown",
   "metadata": {},
   "source": [
    "Imputacion de valores nulos del campo genres con valores coincidentes de genres en el campo tags"
   ]
  },
  {
   "cell_type": "markdown",
   "metadata": {},
   "source": [
    "Se crea la columna imputacion para registrar que registros fueron imputados en el campo genres - 0 para valor no imputado y 1 para valor imputado"
   ]
  },
  {
   "cell_type": "code",
   "execution_count": 1487,
   "metadata": {},
   "outputs": [],
   "source": [
    "df2['imputacion'] = df2['genres'].isna().astype(int) #Creacion de la columna imputacion - 1 para valores Nan"
   ]
  },
  {
   "cell_type": "code",
   "execution_count": 1488,
   "metadata": {},
   "outputs": [
    {
     "name": "stdout",
     "output_type": "stream",
     "text": [
      "<class 'pandas.core.frame.DataFrame'>\n",
      "Index: 72450 entries, 0 to 32133\n",
      "Data columns (total 11 columns):\n",
      " #   Column          Non-Null Count  Dtype  \n",
      "---  ------          --------------  -----  \n",
      " 0   genres          71216 non-null  object \n",
      " 1   app_name        72448 non-null  object \n",
      " 2   tags            72267 non-null  object \n",
      " 3   discount_price  580 non-null    float64\n",
      " 4   specs           71510 non-null  object \n",
      " 5   price           69542 non-null  object \n",
      " 6   early_access    72450 non-null  bool   \n",
      " 7   sentiment       56152 non-null  object \n",
      " 8   metascore       5474 non-null   object \n",
      " 9   release_year    72450 non-null  int64  \n",
      " 10  imputacion      72450 non-null  int32  \n",
      "dtypes: bool(1), float64(1), int32(1), int64(1), object(7)\n",
      "memory usage: 5.9+ MB\n"
     ]
    }
   ],
   "source": [
    "df2.info() #Consulta del data frame"
   ]
  },
  {
   "cell_type": "code",
   "execution_count": 1489,
   "metadata": {},
   "outputs": [
    {
     "data": {
      "text/html": [
       "<div>\n",
       "<style scoped>\n",
       "    .dataframe tbody tr th:only-of-type {\n",
       "        vertical-align: middle;\n",
       "    }\n",
       "\n",
       "    .dataframe tbody tr th {\n",
       "        vertical-align: top;\n",
       "    }\n",
       "\n",
       "    .dataframe thead th {\n",
       "        text-align: right;\n",
       "    }\n",
       "</style>\n",
       "<table border=\"1\" class=\"dataframe\">\n",
       "  <thead>\n",
       "    <tr style=\"text-align: right;\">\n",
       "      <th></th>\n",
       "      <th>genres</th>\n",
       "      <th>app_name</th>\n",
       "      <th>tags</th>\n",
       "      <th>discount_price</th>\n",
       "      <th>specs</th>\n",
       "      <th>price</th>\n",
       "      <th>early_access</th>\n",
       "      <th>sentiment</th>\n",
       "      <th>metascore</th>\n",
       "      <th>release_year</th>\n",
       "      <th>imputacion</th>\n",
       "    </tr>\n",
       "  </thead>\n",
       "  <tbody>\n",
       "    <tr>\n",
       "      <th>0</th>\n",
       "      <td>Action</td>\n",
       "      <td>Lost Summoner Kitty</td>\n",
       "      <td>[Strategy, Action, Indie, Casual, Simulation]</td>\n",
       "      <td>4.49</td>\n",
       "      <td>[Single-player]</td>\n",
       "      <td>4.99</td>\n",
       "      <td>False</td>\n",
       "      <td>NaN</td>\n",
       "      <td>NaN</td>\n",
       "      <td>2018</td>\n",
       "      <td>0</td>\n",
       "    </tr>\n",
       "    <tr>\n",
       "      <th>0</th>\n",
       "      <td>Casual</td>\n",
       "      <td>Lost Summoner Kitty</td>\n",
       "      <td>[Strategy, Action, Indie, Casual, Simulation]</td>\n",
       "      <td>4.49</td>\n",
       "      <td>[Single-player]</td>\n",
       "      <td>4.99</td>\n",
       "      <td>False</td>\n",
       "      <td>NaN</td>\n",
       "      <td>NaN</td>\n",
       "      <td>2018</td>\n",
       "      <td>0</td>\n",
       "    </tr>\n",
       "    <tr>\n",
       "      <th>0</th>\n",
       "      <td>Indie</td>\n",
       "      <td>Lost Summoner Kitty</td>\n",
       "      <td>[Strategy, Action, Indie, Casual, Simulation]</td>\n",
       "      <td>4.49</td>\n",
       "      <td>[Single-player]</td>\n",
       "      <td>4.99</td>\n",
       "      <td>False</td>\n",
       "      <td>NaN</td>\n",
       "      <td>NaN</td>\n",
       "      <td>2018</td>\n",
       "      <td>0</td>\n",
       "    </tr>\n",
       "    <tr>\n",
       "      <th>0</th>\n",
       "      <td>Simulation</td>\n",
       "      <td>Lost Summoner Kitty</td>\n",
       "      <td>[Strategy, Action, Indie, Casual, Simulation]</td>\n",
       "      <td>4.49</td>\n",
       "      <td>[Single-player]</td>\n",
       "      <td>4.99</td>\n",
       "      <td>False</td>\n",
       "      <td>NaN</td>\n",
       "      <td>NaN</td>\n",
       "      <td>2018</td>\n",
       "      <td>0</td>\n",
       "    </tr>\n",
       "    <tr>\n",
       "      <th>0</th>\n",
       "      <td>Strategy</td>\n",
       "      <td>Lost Summoner Kitty</td>\n",
       "      <td>[Strategy, Action, Indie, Casual, Simulation]</td>\n",
       "      <td>4.49</td>\n",
       "      <td>[Single-player]</td>\n",
       "      <td>4.99</td>\n",
       "      <td>False</td>\n",
       "      <td>NaN</td>\n",
       "      <td>NaN</td>\n",
       "      <td>2018</td>\n",
       "      <td>0</td>\n",
       "    </tr>\n",
       "  </tbody>\n",
       "</table>\n",
       "</div>"
      ],
      "text/plain": [
       "       genres             app_name  \\\n",
       "0      Action  Lost Summoner Kitty   \n",
       "0      Casual  Lost Summoner Kitty   \n",
       "0       Indie  Lost Summoner Kitty   \n",
       "0  Simulation  Lost Summoner Kitty   \n",
       "0    Strategy  Lost Summoner Kitty   \n",
       "\n",
       "                                            tags  discount_price  \\\n",
       "0  [Strategy, Action, Indie, Casual, Simulation]            4.49   \n",
       "0  [Strategy, Action, Indie, Casual, Simulation]            4.49   \n",
       "0  [Strategy, Action, Indie, Casual, Simulation]            4.49   \n",
       "0  [Strategy, Action, Indie, Casual, Simulation]            4.49   \n",
       "0  [Strategy, Action, Indie, Casual, Simulation]            4.49   \n",
       "\n",
       "             specs price  early_access sentiment metascore  release_year  \\\n",
       "0  [Single-player]  4.99         False       NaN       NaN          2018   \n",
       "0  [Single-player]  4.99         False       NaN       NaN          2018   \n",
       "0  [Single-player]  4.99         False       NaN       NaN          2018   \n",
       "0  [Single-player]  4.99         False       NaN       NaN          2018   \n",
       "0  [Single-player]  4.99         False       NaN       NaN          2018   \n",
       "\n",
       "   imputacion  \n",
       "0           0  \n",
       "0           0  \n",
       "0           0  \n",
       "0           0  \n",
       "0           0  "
      ]
     },
     "execution_count": 1489,
     "metadata": {},
     "output_type": "execute_result"
    }
   ],
   "source": [
    "df2.head() #Consulta del data frame"
   ]
  },
  {
   "cell_type": "markdown",
   "metadata": {},
   "source": [
    "Creación de un nuevo data frame con una mascara para guardar los registros nulos de genres"
   ]
  },
  {
   "cell_type": "code",
   "execution_count": 1490,
   "metadata": {},
   "outputs": [],
   "source": [
    "mask = df2['genres'].isna()   #Se crea una mascara para valores nulos de genres\n",
    "df_genres_nan = df2[mask] #Se crea un nuevo data frame con los registros nulos de genres - df_genres_nan es un data frame auxiliar"
   ]
  },
  {
   "cell_type": "markdown",
   "metadata": {},
   "source": [
    "Elimnación de nulos en el data frame principal"
   ]
  },
  {
   "cell_type": "code",
   "execution_count": 1491,
   "metadata": {},
   "outputs": [],
   "source": [
    "df3 = df2.dropna(subset=['genres']) #Se eliminan los nulos del campo genres - df3 es el data frame de proyecto (Rev. 3) con nulos de genres eliminados"
   ]
  },
  {
   "cell_type": "code",
   "execution_count": 1492,
   "metadata": {},
   "outputs": [],
   "source": [
    "del df2"
   ]
  },
  {
   "cell_type": "code",
   "execution_count": 1493,
   "metadata": {},
   "outputs": [
    {
     "name": "stdout",
     "output_type": "stream",
     "text": [
      "<class 'pandas.core.frame.DataFrame'>\n",
      "Index: 1234 entries, 26 to 32121\n",
      "Data columns (total 11 columns):\n",
      " #   Column          Non-Null Count  Dtype  \n",
      "---  ------          --------------  -----  \n",
      " 0   genres          0 non-null      object \n",
      " 1   app_name        1234 non-null   object \n",
      " 2   tags            1097 non-null   object \n",
      " 3   discount_price  0 non-null      float64\n",
      " 4   specs           851 non-null    object \n",
      " 5   price           1203 non-null   object \n",
      " 6   early_access    1234 non-null   bool   \n",
      " 7   sentiment       624 non-null    object \n",
      " 8   metascore       13 non-null     object \n",
      " 9   release_year    1234 non-null   int64  \n",
      " 10  imputacion      1234 non-null   int32  \n",
      "dtypes: bool(1), float64(1), int32(1), int64(1), object(7)\n",
      "memory usage: 102.4+ KB\n"
     ]
    }
   ],
   "source": [
    "df_genres_nan.info()    #Consulta del data frame de nulos de genres"
   ]
  },
  {
   "cell_type": "markdown",
   "metadata": {},
   "source": [
    "Desanidado del campo tags en el data frame auxiliar df_genres_nan y re indexado"
   ]
  },
  {
   "cell_type": "code",
   "execution_count": 1494,
   "metadata": {},
   "outputs": [],
   "source": [
    "df_genres_nan = df_genres_nan.explode('tags')   #Desanidado del campo tags en el data frame auxiliar df_genres_nan"
   ]
  },
  {
   "cell_type": "code",
   "execution_count": 1495,
   "metadata": {},
   "outputs": [],
   "source": [
    "df_genres_nan.reset_index(drop=True, inplace=True)   #Se reindexa el data frame auxiliar"
   ]
  },
  {
   "cell_type": "markdown",
   "metadata": {},
   "source": [
    "Proceso de imputación de datos en genres"
   ]
  },
  {
   "cell_type": "code",
   "execution_count": 1496,
   "metadata": {},
   "outputs": [],
   "source": [
    "registros = df_genres_nan.shape   #Guardado de la tupla con la información del data frame auxiliar"
   ]
  },
  {
   "cell_type": "code",
   "execution_count": 1497,
   "metadata": {},
   "outputs": [
    {
     "data": {
      "text/plain": [
       "array(['Action', 'Casual', 'Indie', 'Simulation', 'Strategy',\n",
       "       'Free to Play', 'RPG', 'Sports', 'Adventure', 'Racing',\n",
       "       'Massively Multiplayer', 'Early Access', 'Animation & Modeling',\n",
       "       'Video Production', 'Web Publishing', 'Education',\n",
       "       'Software Training', 'Utilities', 'Design & Illustration',\n",
       "       'Audio Production', 'Photo Editing', 'Accounting'], dtype=object)"
      ]
     },
     "execution_count": 1497,
     "metadata": {},
     "output_type": "execute_result"
    }
   ],
   "source": [
    "lista_genres = df3.genres.unique()    #Genración de una lista de generos del campo genres para comparación\n",
    "lista_genres"
   ]
  },
  {
   "cell_type": "markdown",
   "metadata": {},
   "source": [
    "Definición de una función para obtencion de los datos de imputación"
   ]
  },
  {
   "cell_type": "code",
   "execution_count": 1498,
   "metadata": {},
   "outputs": [],
   "source": [
    "def imputacion(tag,lista):              #En esta función ingresa un dato y se verifica si esta contenido en una lista.\n",
    "    genero_imputado = 'Sin Datos'       #En caso afirmativo, devuelve el valor de tag, contrario, devuelve Sin Datos\n",
    "    if tag in lista:\n",
    "        genero_imputado = tag\n",
    "    return genero_imputado     "
   ]
  },
  {
   "cell_type": "code",
   "execution_count": 1499,
   "metadata": {},
   "outputs": [],
   "source": [
    "for i in range(0,registros[0]):                 #Con este ciclo for se imputan valores en genres con los datos de tags en el data frame auxiliar df_genres_nan\n",
    "    tag = df_genres_nan.loc[i,'tags']\n",
    "    genero = imputacion(tag,lista_genres)\n",
    "    df_genres_nan.loc[i, 'genres'] = genero"
   ]
  },
  {
   "cell_type": "code",
   "execution_count": 1500,
   "metadata": {},
   "outputs": [
    {
     "data": {
      "text/html": [
       "<div>\n",
       "<style scoped>\n",
       "    .dataframe tbody tr th:only-of-type {\n",
       "        vertical-align: middle;\n",
       "    }\n",
       "\n",
       "    .dataframe tbody tr th {\n",
       "        vertical-align: top;\n",
       "    }\n",
       "\n",
       "    .dataframe thead th {\n",
       "        text-align: right;\n",
       "    }\n",
       "</style>\n",
       "<table border=\"1\" class=\"dataframe\">\n",
       "  <thead>\n",
       "    <tr style=\"text-align: right;\">\n",
       "      <th></th>\n",
       "      <th>genres</th>\n",
       "      <th>app_name</th>\n",
       "      <th>tags</th>\n",
       "      <th>discount_price</th>\n",
       "      <th>specs</th>\n",
       "      <th>price</th>\n",
       "      <th>early_access</th>\n",
       "      <th>sentiment</th>\n",
       "      <th>metascore</th>\n",
       "      <th>release_year</th>\n",
       "      <th>imputacion</th>\n",
       "    </tr>\n",
       "  </thead>\n",
       "  <tbody>\n",
       "    <tr>\n",
       "      <th>0</th>\n",
       "      <td>Design &amp; Illustration</td>\n",
       "      <td>Robotpencil Presents: Understanding 3D for Con...</td>\n",
       "      <td>Design &amp; Illustration</td>\n",
       "      <td>NaN</td>\n",
       "      <td>NaN</td>\n",
       "      <td>4.99</td>\n",
       "      <td>False</td>\n",
       "      <td>NaN</td>\n",
       "      <td>NaN</td>\n",
       "      <td>2018</td>\n",
       "      <td>1</td>\n",
       "    </tr>\n",
       "    <tr>\n",
       "      <th>1</th>\n",
       "      <td>Sin Datos</td>\n",
       "      <td>Robotpencil Presents: Understanding 3D for Con...</td>\n",
       "      <td>Tutorial</td>\n",
       "      <td>NaN</td>\n",
       "      <td>NaN</td>\n",
       "      <td>4.99</td>\n",
       "      <td>False</td>\n",
       "      <td>NaN</td>\n",
       "      <td>NaN</td>\n",
       "      <td>2018</td>\n",
       "      <td>1</td>\n",
       "    </tr>\n",
       "    <tr>\n",
       "      <th>2</th>\n",
       "      <td>Casual</td>\n",
       "      <td>Dr. Daisy Pet Vet</td>\n",
       "      <td>Casual</td>\n",
       "      <td>NaN</td>\n",
       "      <td>[Single-player]</td>\n",
       "      <td>9.99</td>\n",
       "      <td>False</td>\n",
       "      <td>3 user reviews</td>\n",
       "      <td>NA</td>\n",
       "      <td>2008</td>\n",
       "      <td>1</td>\n",
       "    </tr>\n",
       "    <tr>\n",
       "      <th>3</th>\n",
       "      <td>Casual</td>\n",
       "      <td>Hot Dish</td>\n",
       "      <td>Casual</td>\n",
       "      <td>NaN</td>\n",
       "      <td>[Single-player]</td>\n",
       "      <td>9.99</td>\n",
       "      <td>False</td>\n",
       "      <td>4 user reviews</td>\n",
       "      <td>NA</td>\n",
       "      <td>2008</td>\n",
       "      <td>1</td>\n",
       "    </tr>\n",
       "    <tr>\n",
       "      <th>4</th>\n",
       "      <td>Sin Datos</td>\n",
       "      <td>Call of Cthulhu®: Dark Corners of the Earth</td>\n",
       "      <td>Horror</td>\n",
       "      <td>NaN</td>\n",
       "      <td>[Single-player]</td>\n",
       "      <td>4.99</td>\n",
       "      <td>False</td>\n",
       "      <td>Mostly Positive</td>\n",
       "      <td>76</td>\n",
       "      <td>2006</td>\n",
       "      <td>1</td>\n",
       "    </tr>\n",
       "  </tbody>\n",
       "</table>\n",
       "</div>"
      ],
      "text/plain": [
       "                  genres                                           app_name  \\\n",
       "0  Design & Illustration  Robotpencil Presents: Understanding 3D for Con...   \n",
       "1              Sin Datos  Robotpencil Presents: Understanding 3D for Con...   \n",
       "2                 Casual                                  Dr. Daisy Pet Vet   \n",
       "3                 Casual                                           Hot Dish   \n",
       "4              Sin Datos        Call of Cthulhu®: Dark Corners of the Earth   \n",
       "\n",
       "                    tags  discount_price            specs price  early_access  \\\n",
       "0  Design & Illustration             NaN              NaN  4.99         False   \n",
       "1               Tutorial             NaN              NaN  4.99         False   \n",
       "2                 Casual             NaN  [Single-player]  9.99         False   \n",
       "3                 Casual             NaN  [Single-player]  9.99         False   \n",
       "4                 Horror             NaN  [Single-player]  4.99         False   \n",
       "\n",
       "         sentiment metascore  release_year  imputacion  \n",
       "0              NaN       NaN          2018           1  \n",
       "1              NaN       NaN          2018           1  \n",
       "2   3 user reviews        NA          2008           1  \n",
       "3   4 user reviews        NA          2008           1  \n",
       "4  Mostly Positive        76          2006           1  "
      ]
     },
     "execution_count": 1500,
     "metadata": {},
     "output_type": "execute_result"
    }
   ],
   "source": [
    "df_genres_nan.head()"
   ]
  },
  {
   "cell_type": "markdown",
   "metadata": {},
   "source": [
    "Eliminación del campo tags en el data frame del proyecto df3 y en el auxiliar df_genres_nan por irrelevante"
   ]
  },
  {
   "cell_type": "code",
   "execution_count": 1501,
   "metadata": {},
   "outputs": [],
   "source": [
    "df_genres_nan.drop('tags', axis=1, inplace=True)"
   ]
  },
  {
   "cell_type": "code",
   "execution_count": 1502,
   "metadata": {},
   "outputs": [],
   "source": [
    "df3.drop('tags', axis=1, inplace=True)"
   ]
  },
  {
   "cell_type": "markdown",
   "metadata": {},
   "source": [
    "Concatenación del data frame principal del proyecto y el data frame auxiliar"
   ]
  },
  {
   "cell_type": "code",
   "execution_count": 1503,
   "metadata": {},
   "outputs": [],
   "source": [
    "df4 = pd.concat([df3, df_genres_nan]) #Concatenación de df3 y df_genres_nan en df4 - df4 data frame de proyecto (Rev. 4)"
   ]
  },
  {
   "cell_type": "code",
   "execution_count": 1504,
   "metadata": {},
   "outputs": [],
   "source": [
    "del df3\n",
    "del df_genres_nan"
   ]
  },
  {
   "cell_type": "code",
   "execution_count": 1505,
   "metadata": {},
   "outputs": [],
   "source": [
    "df4.reset_index(drop=True, inplace=True)"
   ]
  },
  {
   "cell_type": "markdown",
   "metadata": {},
   "source": [
    "Desanidado de campo specs"
   ]
  },
  {
   "cell_type": "code",
   "execution_count": 1506,
   "metadata": {},
   "outputs": [],
   "source": [
    "df5 = df4.explode('specs')  #Desanidado del campo specs en un nuevo data frame - df5 data frame de proyecto (Rev. 5) con el campo specs desanidado"
   ]
  },
  {
   "cell_type": "code",
   "execution_count": 1507,
   "metadata": {},
   "outputs": [],
   "source": [
    "del df4"
   ]
  },
  {
   "cell_type": "code",
   "execution_count": 1508,
   "metadata": {},
   "outputs": [],
   "source": [
    "df5.reset_index(drop=True, inplace=True)    #Reindexado del data frame de proyecto"
   ]
  },
  {
   "cell_type": "code",
   "execution_count": 1509,
   "metadata": {},
   "outputs": [
    {
     "name": "stdout",
     "output_type": "stream",
     "text": [
      "<class 'pandas.core.frame.DataFrame'>\n",
      "RangeIndex: 324469 entries, 0 to 324468\n",
      "Data columns (total 10 columns):\n",
      " #   Column          Non-Null Count   Dtype  \n",
      "---  ------          --------------   -----  \n",
      " 0   genres          324469 non-null  object \n",
      " 1   app_name        324465 non-null  object \n",
      " 2   discount_price  2701 non-null    float64\n",
      " 3   specs           322824 non-null  object \n",
      " 4   price           312696 non-null  object \n",
      " 5   early_access    324469 non-null  bool   \n",
      " 6   sentiment       247241 non-null  object \n",
      " 7   metascore       25850 non-null   object \n",
      " 8   release_year    324469 non-null  int64  \n",
      " 9   imputacion      324469 non-null  int32  \n",
      "dtypes: bool(1), float64(1), int32(1), int64(1), object(6)\n",
      "memory usage: 21.4+ MB\n"
     ]
    }
   ],
   "source": [
    "df5.info() #Consulta del data frame de proyecto"
   ]
  },
  {
   "cell_type": "markdown",
   "metadata": {},
   "source": [
    "Consulta de datos unicos del campo specs"
   ]
  },
  {
   "cell_type": "code",
   "execution_count": 1510,
   "metadata": {},
   "outputs": [
    {
     "data": {
      "text/plain": [
       "array(['Single-player', 'Multi-player', 'Online Multi-Player',\n",
       "       'Cross-Platform Multiplayer', 'Steam Achievements',\n",
       "       'Steam Trading Cards', 'In-App Purchases', 'Stats',\n",
       "       'Downloadable Content', 'Full controller support', 'Steam Cloud',\n",
       "       'Steam Leaderboards', 'Partial Controller Support', 'Local Co-op',\n",
       "       'Shared/Split Screen', 'Valve Anti-Cheat enabled',\n",
       "       'Local Multi-Player', 'Steam Turn Notifications', 'MMO', 'Co-op',\n",
       "       'Captions available', 'Steam Workshop', 'Includes level editor',\n",
       "       'Mods', 'Mods (require HL2)', 'Online Co-op', 'Game demo',\n",
       "       'Includes Source SDK', 'Commentary available', nan,\n",
       "       'SteamVR Collectibles', 'Mods (require HL1)'], dtype=object)"
      ]
     },
     "execution_count": 1510,
     "metadata": {},
     "output_type": "execute_result"
    }
   ],
   "source": [
    "lista_specs = df5.specs.unique()    #Consulta de datos unicos del campo specs\n",
    "lista_specs"
   ]
  },
  {
   "cell_type": "code",
   "execution_count": 1511,
   "metadata": {},
   "outputs": [
    {
     "data": {
      "text/plain": [
       "31"
      ]
     },
     "execution_count": 1511,
     "metadata": {},
     "output_type": "execute_result"
    }
   ],
   "source": [
    "df5.specs.nunique() #Consulta de cantidad de datos unicos del campo specs"
   ]
  },
  {
   "cell_type": "code",
   "execution_count": 1512,
   "metadata": {},
   "outputs": [
    {
     "data": {
      "text/html": [
       "<div>\n",
       "<style scoped>\n",
       "    .dataframe tbody tr th:only-of-type {\n",
       "        vertical-align: middle;\n",
       "    }\n",
       "\n",
       "    .dataframe tbody tr th {\n",
       "        vertical-align: top;\n",
       "    }\n",
       "\n",
       "    .dataframe thead th {\n",
       "        text-align: right;\n",
       "    }\n",
       "</style>\n",
       "<table border=\"1\" class=\"dataframe\">\n",
       "  <thead>\n",
       "    <tr style=\"text-align: right;\">\n",
       "      <th></th>\n",
       "      <th>genres</th>\n",
       "      <th>app_name</th>\n",
       "      <th>discount_price</th>\n",
       "      <th>specs</th>\n",
       "      <th>price</th>\n",
       "      <th>early_access</th>\n",
       "      <th>sentiment</th>\n",
       "      <th>metascore</th>\n",
       "      <th>release_year</th>\n",
       "      <th>imputacion</th>\n",
       "    </tr>\n",
       "  </thead>\n",
       "  <tbody>\n",
       "    <tr>\n",
       "      <th>0</th>\n",
       "      <td>Action</td>\n",
       "      <td>Lost Summoner Kitty</td>\n",
       "      <td>4.49</td>\n",
       "      <td>Single-player</td>\n",
       "      <td>4.99</td>\n",
       "      <td>False</td>\n",
       "      <td>NaN</td>\n",
       "      <td>NaN</td>\n",
       "      <td>2018</td>\n",
       "      <td>0</td>\n",
       "    </tr>\n",
       "    <tr>\n",
       "      <th>1</th>\n",
       "      <td>Casual</td>\n",
       "      <td>Lost Summoner Kitty</td>\n",
       "      <td>4.49</td>\n",
       "      <td>Single-player</td>\n",
       "      <td>4.99</td>\n",
       "      <td>False</td>\n",
       "      <td>NaN</td>\n",
       "      <td>NaN</td>\n",
       "      <td>2018</td>\n",
       "      <td>0</td>\n",
       "    </tr>\n",
       "    <tr>\n",
       "      <th>2</th>\n",
       "      <td>Indie</td>\n",
       "      <td>Lost Summoner Kitty</td>\n",
       "      <td>4.49</td>\n",
       "      <td>Single-player</td>\n",
       "      <td>4.99</td>\n",
       "      <td>False</td>\n",
       "      <td>NaN</td>\n",
       "      <td>NaN</td>\n",
       "      <td>2018</td>\n",
       "      <td>0</td>\n",
       "    </tr>\n",
       "    <tr>\n",
       "      <th>3</th>\n",
       "      <td>Simulation</td>\n",
       "      <td>Lost Summoner Kitty</td>\n",
       "      <td>4.49</td>\n",
       "      <td>Single-player</td>\n",
       "      <td>4.99</td>\n",
       "      <td>False</td>\n",
       "      <td>NaN</td>\n",
       "      <td>NaN</td>\n",
       "      <td>2018</td>\n",
       "      <td>0</td>\n",
       "    </tr>\n",
       "    <tr>\n",
       "      <th>4</th>\n",
       "      <td>Strategy</td>\n",
       "      <td>Lost Summoner Kitty</td>\n",
       "      <td>4.49</td>\n",
       "      <td>Single-player</td>\n",
       "      <td>4.99</td>\n",
       "      <td>False</td>\n",
       "      <td>NaN</td>\n",
       "      <td>NaN</td>\n",
       "      <td>2018</td>\n",
       "      <td>0</td>\n",
       "    </tr>\n",
       "  </tbody>\n",
       "</table>\n",
       "</div>"
      ],
      "text/plain": [
       "       genres             app_name  discount_price          specs price  \\\n",
       "0      Action  Lost Summoner Kitty            4.49  Single-player  4.99   \n",
       "1      Casual  Lost Summoner Kitty            4.49  Single-player  4.99   \n",
       "2       Indie  Lost Summoner Kitty            4.49  Single-player  4.99   \n",
       "3  Simulation  Lost Summoner Kitty            4.49  Single-player  4.99   \n",
       "4    Strategy  Lost Summoner Kitty            4.49  Single-player  4.99   \n",
       "\n",
       "   early_access sentiment metascore  release_year  imputacion  \n",
       "0         False       NaN       NaN          2018           0  \n",
       "1         False       NaN       NaN          2018           0  \n",
       "2         False       NaN       NaN          2018           0  \n",
       "3         False       NaN       NaN          2018           0  \n",
       "4         False       NaN       NaN          2018           0  "
      ]
     },
     "execution_count": 1512,
     "metadata": {},
     "output_type": "execute_result"
    }
   ],
   "source": [
    "df5.head()  #Consulta del data frame de proyecto"
   ]
  },
  {
   "cell_type": "markdown",
   "metadata": {},
   "source": [
    "Reemplazo de nulos del campo specs por Sin Datos"
   ]
  },
  {
   "cell_type": "code",
   "execution_count": 1513,
   "metadata": {},
   "outputs": [],
   "source": [
    "df5.specs.fillna('Sin Datos', inplace=True) #Reemplazo de nulos del campo specs por Sin Datos"
   ]
  },
  {
   "cell_type": "markdown",
   "metadata": {},
   "source": [
    "Conversión del campo price a númerico y reemplazo de errores por Nan"
   ]
  },
  {
   "cell_type": "code",
   "execution_count": 1514,
   "metadata": {},
   "outputs": [
    {
     "data": {
      "text/plain": [
       "genres                 0\n",
       "app_name               4\n",
       "discount_price    321768\n",
       "specs                  0\n",
       "price              11773\n",
       "early_access           0\n",
       "sentiment          77228\n",
       "metascore         298619\n",
       "release_year           0\n",
       "imputacion             0\n",
       "dtype: int64"
      ]
     },
     "execution_count": 1514,
     "metadata": {},
     "output_type": "execute_result"
    }
   ],
   "source": [
    "df5.isna().sum()    #Consulta de nulos del data frame de proyecto"
   ]
  },
  {
   "cell_type": "code",
   "execution_count": 1515,
   "metadata": {},
   "outputs": [
    {
     "data": {
      "text/plain": [
       "array([4.99, 'Free To Play', 'Free to Play', 0.99, 3.99, 9.99, 18.99,\n",
       "       29.99, nan, 10.99, 2.99, 1.59, 14.99, 1.99, 59.99, 8.99, 6.99,\n",
       "       7.99, 39.99, 'Free', 19.99, 7.49, 12.99, 5.99, 2.49, 15.99, 1.25,\n",
       "       24.99, 17.99, 61.99, 3.49, 11.99, 13.99, 'Free Demo',\n",
       "       'Play for Free!', 34.99, 1.49, 32.99, 99.99, 14.95, 69.99, 16.99,\n",
       "       79.99, 49.99, 5.0, 44.99, 13.98, 29.96, 109.99, 149.99, 771.71,\n",
       "       'Install Now', 21.99, 89.99, 'Play WARMACHINE: Tactics Demo', 0.98,\n",
       "       139.92, 4.29, 64.99, 'Free Mod', 54.99, 74.99, 'Install Theme',\n",
       "       0.89, 'Third-party', 0.5, 'Play Now', 299.99, 1.29, 119.99, 3.0,\n",
       "       15.0, 5.49, 23.99, 49.0, 20.99, 10.93, 1.39,\n",
       "       'Free HITMAN™ Holiday Pack', 36.99, 4.49, 2.0, 4.0, 1.95, 1.5,\n",
       "       199.0, 189.0, 6.66, 27.99, 129.99, 179.0, 26.99, 399.99, 31.99,\n",
       "       399.0, 20.0, 40.0, 3.33, 22.99, 320.0, 38.85, 71.7, 995.0, 27.49,\n",
       "       3.39, 6.0, 19.95, 499.99, 199.99, 16.06, 4.68, 131.4, 44.98,\n",
       "       202.76, 2.3, 0.95, 172.24, 249.99, 2.97, 10.96, 10.0, 30.0, 2.66,\n",
       "       6.48, 1.0, 11.15, 'Play the Demo', 99.0, 87.94, 0.49, 9.98, 9.95,\n",
       "       7.0, 12.89, 6.49, 1.87, 42.99, 41.99, 289.99, 'Free to Try', 23.96,\n",
       "       5.65, 12.0, 59.95, 13.37, 189.96, 124.99, 19.98, 160.91,\n",
       "       'Free to Use', 234.99, 10.49, 19.29, 599.0, 'Starting at $499.00',\n",
       "       'Starting at $449.00', 'Free Movie'], dtype=object)"
      ]
     },
     "execution_count": 1515,
     "metadata": {},
     "output_type": "execute_result"
    }
   ],
   "source": [
    "df5['price'].unique()"
   ]
  },
  {
   "cell_type": "code",
   "execution_count": 1516,
   "metadata": {},
   "outputs": [],
   "source": [
    "df5['price'] = pd.to_numeric(df5['price'], errors='coerce') #Conversión de campo price a numerico y reemplazo de errores con Nan"
   ]
  },
  {
   "cell_type": "code",
   "execution_count": 1517,
   "metadata": {},
   "outputs": [
    {
     "data": {
      "text/plain": [
       "genres                 0\n",
       "app_name               4\n",
       "discount_price    321768\n",
       "specs                  0\n",
       "price              32457\n",
       "early_access           0\n",
       "sentiment          77228\n",
       "metascore         298619\n",
       "release_year           0\n",
       "imputacion             0\n",
       "dtype: int64"
      ]
     },
     "execution_count": 1517,
     "metadata": {},
     "output_type": "execute_result"
    }
   ],
   "source": [
    "df5.isna().sum() #Consulta de nulos del data frame de proyecto"
   ]
  },
  {
   "cell_type": "markdown",
   "metadata": {},
   "source": [
    "Revisión de campo early_access"
   ]
  },
  {
   "cell_type": "code",
   "execution_count": 1518,
   "metadata": {},
   "outputs": [
    {
     "data": {
      "text/plain": [
       "2"
      ]
     },
     "execution_count": 1518,
     "metadata": {},
     "output_type": "execute_result"
    }
   ],
   "source": [
    "df5.early_access.nunique()  #Revisión de cantidad de valores unicos del campo early_access (Valores False y True)"
   ]
  },
  {
   "cell_type": "markdown",
   "metadata": {},
   "source": [
    "Revisión del campo sentiment"
   ]
  },
  {
   "cell_type": "code",
   "execution_count": 1519,
   "metadata": {},
   "outputs": [
    {
     "data": {
      "text/plain": [
       "18"
      ]
     },
     "execution_count": 1519,
     "metadata": {},
     "output_type": "execute_result"
    }
   ],
   "source": [
    "df5.sentiment.nunique() #Revisión de cantidad de valores unicos del campo sentiment"
   ]
  },
  {
   "cell_type": "code",
   "execution_count": 1520,
   "metadata": {},
   "outputs": [
    {
     "data": {
      "text/plain": [
       "array([nan, 'Mostly Positive', 'Mixed', '1 user reviews',\n",
       "       '3 user reviews', 'Very Positive', 'Overwhelmingly Positive',\n",
       "       '6 user reviews', '5 user reviews', '2 user reviews',\n",
       "       'Very Negative', 'Positive', 'Mostly Negative', '9 user reviews',\n",
       "       '8 user reviews', 'Negative', '7 user reviews', '4 user reviews',\n",
       "       'Overwhelmingly Negative'], dtype=object)"
      ]
     },
     "execution_count": 1520,
     "metadata": {},
     "output_type": "execute_result"
    }
   ],
   "source": [
    "lista_sentiment = df5.sentiment.unique() #Revisión de datos unicos del campo sentiment\n",
    "lista_sentiment"
   ]
  },
  {
   "cell_type": "markdown",
   "metadata": {},
   "source": [
    "Reemplazo de datos en el campo sentiment - Los valores Nan y que constengan \"user reviews\" se reemplazan por \"Sin Datos\" porque no aplican como calificación"
   ]
  },
  {
   "cell_type": "code",
   "execution_count": 1521,
   "metadata": {},
   "outputs": [],
   "source": [
    "df5['sentiment'] = df5['sentiment'].replace({None: 'Sin Datos', \n",
    "                                    '1 user reviews':'Sin Datos',\n",
    "                                    '3 user reviews':'Sin Datos',\n",
    "                                    '6 user reviews':'Sin Datos',\n",
    "                                    '5 user reviews':'Sin Datos',\n",
    "                                    '2 user reviews':'Sin Datos',\n",
    "                                    '9 user reviews':'Sin Datos',\n",
    "                                    '8 user reviews':'Sin Datos',\n",
    "                                    '7 user reviews':'Sin Datos',\n",
    "                                    '4 user reviews':'Sin Datos'})  #Reemplazo de valores Nan y que constengan \"user reviews\" se reemplazan por \"Sin Datos\""
   ]
  },
  {
   "cell_type": "markdown",
   "metadata": {},
   "source": [
    "Revisión del campo metascore"
   ]
  },
  {
   "cell_type": "code",
   "execution_count": 1522,
   "metadata": {},
   "outputs": [
    {
     "data": {
      "text/plain": [
       "71"
      ]
     },
     "execution_count": 1522,
     "metadata": {},
     "output_type": "execute_result"
    }
   ],
   "source": [
    "df5.metascore.nunique() #Revisión de cantidad de valores unicos del campo metascore"
   ]
  },
  {
   "cell_type": "code",
   "execution_count": 1523,
   "metadata": {},
   "outputs": [
    {
     "data": {
      "text/plain": [
       "array([nan, 96, 84, 80, 76, 70, 'NA', 69, 81, 75, 72, 66, 67, 77, 91, 89,\n",
       "       83, 61, 88, 65, 94, 57, 86, 87, 92, 79, 82, 58, 74, 85, 90, 68, 71,\n",
       "       60, 73, 59, 64, 54, 53, 78, 51, 44, 63, 38, 56, 49, 52, 62, 93, 48,\n",
       "       34, 95, 43, 55, 24, 46, 41, 20, 39, 45, 35, 47, 40, 36, 50, 32, 37,\n",
       "       33, 42, 27, 29, 30], dtype=object)"
      ]
     },
     "execution_count": 1523,
     "metadata": {},
     "output_type": "execute_result"
    }
   ],
   "source": [
    "lista_metascore = df5.metascore.unique()  #Revisión de datos unicos del campo metascore\n",
    "lista_metascore"
   ]
  },
  {
   "cell_type": "markdown",
   "metadata": {},
   "source": [
    "Conversión del campo metascore a numerico y de posibles errores a Nan (p.e. valor \"NA\")"
   ]
  },
  {
   "cell_type": "code",
   "execution_count": 1524,
   "metadata": {},
   "outputs": [],
   "source": [
    "df5['metascore'] = pd.to_numeric(df5['metascore'], errors='coerce')"
   ]
  },
  {
   "cell_type": "markdown",
   "metadata": {},
   "source": [
    "Reindexado del data frame de proyecto"
   ]
  },
  {
   "cell_type": "code",
   "execution_count": 1525,
   "metadata": {},
   "outputs": [],
   "source": [
    "df5.reset_index(drop=True, inplace=True) #Reindexado del data frame de proyecto"
   ]
  },
  {
   "cell_type": "code",
   "execution_count": 1526,
   "metadata": {},
   "outputs": [
    {
     "data": {
      "text/html": [
       "<div>\n",
       "<style scoped>\n",
       "    .dataframe tbody tr th:only-of-type {\n",
       "        vertical-align: middle;\n",
       "    }\n",
       "\n",
       "    .dataframe tbody tr th {\n",
       "        vertical-align: top;\n",
       "    }\n",
       "\n",
       "    .dataframe thead th {\n",
       "        text-align: right;\n",
       "    }\n",
       "</style>\n",
       "<table border=\"1\" class=\"dataframe\">\n",
       "  <thead>\n",
       "    <tr style=\"text-align: right;\">\n",
       "      <th></th>\n",
       "      <th>genres</th>\n",
       "      <th>app_name</th>\n",
       "      <th>discount_price</th>\n",
       "      <th>specs</th>\n",
       "      <th>price</th>\n",
       "      <th>early_access</th>\n",
       "      <th>sentiment</th>\n",
       "      <th>metascore</th>\n",
       "      <th>release_year</th>\n",
       "      <th>imputacion</th>\n",
       "    </tr>\n",
       "  </thead>\n",
       "  <tbody>\n",
       "    <tr>\n",
       "      <th>0</th>\n",
       "      <td>Action</td>\n",
       "      <td>Lost Summoner Kitty</td>\n",
       "      <td>4.49</td>\n",
       "      <td>Single-player</td>\n",
       "      <td>4.99</td>\n",
       "      <td>False</td>\n",
       "      <td>Sin Datos</td>\n",
       "      <td>NaN</td>\n",
       "      <td>2018</td>\n",
       "      <td>0</td>\n",
       "    </tr>\n",
       "    <tr>\n",
       "      <th>1</th>\n",
       "      <td>Casual</td>\n",
       "      <td>Lost Summoner Kitty</td>\n",
       "      <td>4.49</td>\n",
       "      <td>Single-player</td>\n",
       "      <td>4.99</td>\n",
       "      <td>False</td>\n",
       "      <td>Sin Datos</td>\n",
       "      <td>NaN</td>\n",
       "      <td>2018</td>\n",
       "      <td>0</td>\n",
       "    </tr>\n",
       "    <tr>\n",
       "      <th>2</th>\n",
       "      <td>Indie</td>\n",
       "      <td>Lost Summoner Kitty</td>\n",
       "      <td>4.49</td>\n",
       "      <td>Single-player</td>\n",
       "      <td>4.99</td>\n",
       "      <td>False</td>\n",
       "      <td>Sin Datos</td>\n",
       "      <td>NaN</td>\n",
       "      <td>2018</td>\n",
       "      <td>0</td>\n",
       "    </tr>\n",
       "    <tr>\n",
       "      <th>3</th>\n",
       "      <td>Simulation</td>\n",
       "      <td>Lost Summoner Kitty</td>\n",
       "      <td>4.49</td>\n",
       "      <td>Single-player</td>\n",
       "      <td>4.99</td>\n",
       "      <td>False</td>\n",
       "      <td>Sin Datos</td>\n",
       "      <td>NaN</td>\n",
       "      <td>2018</td>\n",
       "      <td>0</td>\n",
       "    </tr>\n",
       "    <tr>\n",
       "      <th>4</th>\n",
       "      <td>Strategy</td>\n",
       "      <td>Lost Summoner Kitty</td>\n",
       "      <td>4.49</td>\n",
       "      <td>Single-player</td>\n",
       "      <td>4.99</td>\n",
       "      <td>False</td>\n",
       "      <td>Sin Datos</td>\n",
       "      <td>NaN</td>\n",
       "      <td>2018</td>\n",
       "      <td>0</td>\n",
       "    </tr>\n",
       "  </tbody>\n",
       "</table>\n",
       "</div>"
      ],
      "text/plain": [
       "       genres             app_name  discount_price          specs  price  \\\n",
       "0      Action  Lost Summoner Kitty            4.49  Single-player   4.99   \n",
       "1      Casual  Lost Summoner Kitty            4.49  Single-player   4.99   \n",
       "2       Indie  Lost Summoner Kitty            4.49  Single-player   4.99   \n",
       "3  Simulation  Lost Summoner Kitty            4.49  Single-player   4.99   \n",
       "4    Strategy  Lost Summoner Kitty            4.49  Single-player   4.99   \n",
       "\n",
       "   early_access  sentiment  metascore  release_year  imputacion  \n",
       "0         False  Sin Datos        NaN          2018           0  \n",
       "1         False  Sin Datos        NaN          2018           0  \n",
       "2         False  Sin Datos        NaN          2018           0  \n",
       "3         False  Sin Datos        NaN          2018           0  \n",
       "4         False  Sin Datos        NaN          2018           0  "
      ]
     },
     "execution_count": 1526,
     "metadata": {},
     "output_type": "execute_result"
    }
   ],
   "source": [
    "df5.head() #Consulta del data frama de proyecto"
   ]
  },
  {
   "cell_type": "code",
   "execution_count": 1527,
   "metadata": {},
   "outputs": [
    {
     "name": "stdout",
     "output_type": "stream",
     "text": [
      "<class 'pandas.core.frame.DataFrame'>\n",
      "RangeIndex: 324469 entries, 0 to 324468\n",
      "Data columns (total 10 columns):\n",
      " #   Column          Non-Null Count   Dtype  \n",
      "---  ------          --------------   -----  \n",
      " 0   genres          324469 non-null  object \n",
      " 1   app_name        324465 non-null  object \n",
      " 2   discount_price  2701 non-null    float64\n",
      " 3   specs           324469 non-null  object \n",
      " 4   price           292012 non-null  float64\n",
      " 5   early_access    324469 non-null  bool   \n",
      " 6   sentiment       324469 non-null  object \n",
      " 7   metascore       25616 non-null   float64\n",
      " 8   release_year    324469 non-null  int64  \n",
      " 9   imputacion      324469 non-null  int32  \n",
      "dtypes: bool(1), float64(3), int32(1), int64(1), object(4)\n",
      "memory usage: 21.4+ MB\n"
     ]
    }
   ],
   "source": [
    "df5.info()  #Consulta del data frama de proyecto"
   ]
  },
  {
   "cell_type": "code",
   "execution_count": 1528,
   "metadata": {},
   "outputs": [
    {
     "data": {
      "text/plain": [
       "genres                 0\n",
       "app_name               4\n",
       "discount_price    321768\n",
       "specs                  0\n",
       "price              32457\n",
       "early_access           0\n",
       "sentiment              0\n",
       "metascore         298853\n",
       "release_year           0\n",
       "imputacion             0\n",
       "dtype: int64"
      ]
     },
     "execution_count": 1528,
     "metadata": {},
     "output_type": "execute_result"
    }
   ],
   "source": [
    "df5.isna().sum()"
   ]
  },
  {
   "cell_type": "markdown",
   "metadata": {},
   "source": [
    "Revisión del campo app_name"
   ]
  },
  {
   "cell_type": "code",
   "execution_count": 1540,
   "metadata": {},
   "outputs": [],
   "source": [
    "df5['app_name'] = df5['app_name'].fillna('Sin Datos')   #Reemplazo de nulos por \"Sin Datos\""
   ]
  },
  {
   "cell_type": "code",
   "execution_count": 1542,
   "metadata": {},
   "outputs": [
    {
     "data": {
      "text/plain": [
       "genres                 0\n",
       "app_name               0\n",
       "discount_price    321768\n",
       "specs                  0\n",
       "price              32457\n",
       "early_access           0\n",
       "sentiment              0\n",
       "metascore         298853\n",
       "release_year           0\n",
       "imputacion             0\n",
       "dtype: int64"
      ]
     },
     "execution_count": 1542,
     "metadata": {},
     "output_type": "execute_result"
    }
   ],
   "source": [
    "df5.isna().sum()    #Consulta de nulos del data frame de proyecto"
   ]
  },
  {
   "cell_type": "markdown",
   "metadata": {},
   "source": [
    "Exportación - Se almancena en formato parquet por su almacenamiento columnar y ventajas en el uso de funciones de agregación"
   ]
  },
  {
   "cell_type": "code",
   "execution_count": 1546,
   "metadata": {},
   "outputs": [],
   "source": [
    "# Nombre del archivo Parquet\n",
    "parquet_filename = 'steam_games.parquet'\n",
    "\n",
    "# Convertir el DataFrame a una tabla Arrow\n",
    "table = pa.Table.from_pandas(df5)\n",
    "\n",
    "# Guardar la tabla Arrow en formato Parquet\n",
    "pq.write_table(table, parquet_filename)"
   ]
  },
  {
   "cell_type": "markdown",
   "metadata": {},
   "source": [
    "def genero( Año: str ): Se ingresa un año y devuelve una lista con los 5 géneros más vendidos en el orden correspondiente."
   ]
  },
  {
   "cell_type": "code",
   "execution_count": 1556,
   "metadata": {},
   "outputs": [],
   "source": [
    "def genero(Anio:str): \n",
    "    #Se ingresa un año y devuelve una lista con los 5 géneros más vendidos en el orden correspondiente.\n",
    "    Anio = int(Anio)\n",
    "    lista_generos = []\n",
    "    top_generos = []\n",
    "    df_filtrado_anio = df5[df5['release_year'] == Anio]\n",
    "\n",
    "    df_filtrado_anio_unique = df_filtrado_anio.drop_duplicates(subset='genres')\n",
    "\n",
    "    # Agrupar por la columna 'Nombre'\n",
    "    grupos_genres = df_filtrado_anio_unique.groupby('genres')\n",
    "\n",
    "    # Calcular la media de edad para cada grupo\n",
    "    top_genres = grupos_genres['genres'].count()\n",
    "\n",
    "    top_genres.sort_values(ascending=False, inplace=True)\n",
    "\n",
    "    # Tomar los primeros 5 elementos de la Serie y almacenarlos en una lista\n",
    "    lista_generos = top_genres.index.tolist()\n",
    "\n",
    "    top_generos = lista_generos[:5]\n",
    "\n",
    "    return {'Anio': Anio, 'Generos': top_generos}"
   ]
  },
  {
   "cell_type": "code",
   "execution_count": 1558,
   "metadata": {},
   "outputs": [
    {
     "data": {
      "text/plain": [
       "{'Anio': 2018,\n",
       " 'Generos': ['Action',\n",
       "  'Adventure',\n",
       "  'Casual',\n",
       "  'Design & Illustration',\n",
       "  'Early Access']}"
      ]
     },
     "execution_count": 1558,
     "metadata": {},
     "output_type": "execute_result"
    }
   ],
   "source": [
    "genero('2018')"
   ]
  },
  {
   "cell_type": "markdown",
   "metadata": {},
   "source": [
    "def juegos( Año: str ): Se ingresa un año y devuelve una lista con los juegos lanzados en el año."
   ]
  },
  {
   "cell_type": "code",
   "execution_count": 1559,
   "metadata": {},
   "outputs": [],
   "source": [
    "def juegos(Anio:str): \n",
    "    #Se ingresa un año y devuelve una lista con los juegos lanzados en el año.\n",
    "    Anio = int(Anio)\n",
    "    lista_juegos = []\n",
    "    df_filtrado_anio = df5[df5['release_year'] == Anio]\n",
    "\n",
    "    df_filtrado_anio_unique = df_filtrado_anio.drop_duplicates(subset='app_name')\n",
    "\n",
    "    lista_juegos = list(df_filtrado_anio_unique['app_name'])\n",
    "\n",
    "    return {'Anio': Anio, 'Juegos': lista_juegos}"
   ]
  },
  {
   "cell_type": "code",
   "execution_count": 1562,
   "metadata": {},
   "outputs": [
    {
     "data": {
      "text/plain": [
       "{'Anio': 1984,\n",
       " 'Juegos': ['Space Ace',\n",
       "  'The Castles of Dr. Creep',\n",
       "  'Gallagher: Melon Crazy',\n",
       "  'This is Spinal Tap']}"
      ]
     },
     "execution_count": 1562,
     "metadata": {},
     "output_type": "execute_result"
    }
   ],
   "source": [
    "juegos(1984)"
   ]
  },
  {
   "cell_type": "markdown",
   "metadata": {},
   "source": [
    "def specs( Año: str ): Se ingresa un año y devuelve una lista con los 5 specs que más se repiten en el mismo en el orden correspondiente."
   ]
  },
  {
   "cell_type": "code",
   "execution_count": 1574,
   "metadata": {},
   "outputs": [],
   "source": [
    "def specs(Anio:str): \n",
    "    #Se ingresa un año y devuelve una lista con los 5 géneros más vendidos en el orden correspondiente.\n",
    "    Anio = int(Anio)\n",
    "    lista_specs = []\n",
    "    top_specs = []\n",
    "    df_filtrado_anio = df5[df5['release_year'] == Anio]\n",
    "\n",
    "    df_filtrado_anio_unique = df_filtrado_anio.drop_duplicates(subset='specs')\n",
    "\n",
    "    # Agrupar por la columna 'Nombre'\n",
    "    grupos_specs = df_filtrado_anio_unique.groupby('specs')\n",
    "\n",
    "    # Calcular la media de edad para cada grupo\n",
    "    top_specs = grupos_specs['specs'].count()\n",
    "\n",
    "    top_specs.sort_values(ascending=False, inplace=True)\n",
    "\n",
    "    # Tomar los primeros 5 elementos de la Serie y almacenarlos en una lista\n",
    "    lista_specs = top_specs.index.tolist()\n",
    "\n",
    "    top_specs = lista_specs[:5]\n",
    "\n",
    "    return {'Anio': Anio, 'Specs': top_specs}"
   ]
  },
  {
   "cell_type": "code",
   "execution_count": 1576,
   "metadata": {},
   "outputs": [
    {
     "data": {
      "text/plain": [
       "{'Anio': 2018,\n",
       " 'Specs': ['Captions available',\n",
       "  'Co-op',\n",
       "  'Steam Turn Notifications',\n",
       "  'Steam Trading Cards',\n",
       "  'Steam Leaderboards']}"
      ]
     },
     "execution_count": 1576,
     "metadata": {},
     "output_type": "execute_result"
    }
   ],
   "source": [
    "specs(2018)"
   ]
  }
 ],
 "metadata": {
  "kernelspec": {
   "display_name": "Python 3",
   "language": "python",
   "name": "python3"
  },
  "language_info": {
   "codemirror_mode": {
    "name": "ipython",
    "version": 3
   },
   "file_extension": ".py",
   "mimetype": "text/x-python",
   "name": "python",
   "nbconvert_exporter": "python",
   "pygments_lexer": "ipython3",
   "version": "3.11.2"
  },
  "orig_nbformat": 4
 },
 "nbformat": 4,
 "nbformat_minor": 2
}
